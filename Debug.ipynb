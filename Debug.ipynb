{
 "cells": [
  {
   "cell_type": "code",
   "execution_count": 1,
   "metadata": {
    "collapsed": true,
    "pycharm": {
     "is_executing": false
    }
   },
   "outputs": [],
   "source": [
    "from IPython.core.interactiveshell import InteractiveShell\n",
    "InteractiveShell.ast_node_interactivity = \"all\"\n"
   ]
  },
  {
   "cell_type": "markdown",
   "source": [
    "debugging\n",
    "<br>\n",
    "linting --> red underline under the code\n",
    "<br>\n",
    "learn to read errors --> check error code (name of the error)\n",
    "<br>\n",
    "python debugger module --> \n"
   ],
   "metadata": {
    "collapsed": false,
    "pycharm": {
     "name": "#%% md\n"
    }
   }
  },
  {
   "cell_type": "code",
   "execution_count": null,
   "outputs": [
    {
     "name": "stdout",
     "text": [
      "> <ipython-input-3-93e83cf9ee04>(7)add()\n-> return  num1 + num2\n",
      "4\n",
      "'hhhdas'\n",
      "'hhhdas'\n",
      "'hhhdas'\n",
      "'hhhdas'\n",
      "'hhhdas'\n",
      "'hhhdas'\n",
      "'hhhdas'\n",
      "'hhhdas'\n",
      "'hhhdas'\n",
      "'hhhdas'\n",
      "'hhhdas'\n",
      "'hhhdas'\n",
      "'hhhdas'\n",
      "'hhhdas'\n",
      "'hhhdas'\n",
      "'hhhdas'\n",
      "'hhhdas'\n",
      "'hhhdas'\n",
      "'hhhdas'\n",
      "'hhhdas'\n"
     ],
     "output_type": "stream"
    }
   ],
   "source": [
    "import pdb\n",
    "def add(num1, num2):\n",
    "    # print good way to debug your code\n",
    "    # print(num1 + num2)\n",
    "    # use pdb --> type in help to see options\n",
    "    pdb.set_trace()\n",
    "    return  num1 + num2\n",
    "\n",
    "add(4, 'hhhdas')\n",
    "\n"
   ],
   "metadata": {
    "collapsed": false,
    "pycharm": {
     "name": "#%%\n",
     "is_executing": true
    }
   }
  }
 ],
 "metadata": {
  "language_info": {
   "codemirror_mode": {
    "name": "ipython",
    "version": 2
   },
   "file_extension": ".py",
   "mimetype": "text/x-python",
   "name": "python",
   "nbconvert_exporter": "python",
   "pygments_lexer": "ipython2",
   "version": "2.7.6"
  },
  "kernelspec": {
   "name": "python3",
   "language": "python",
   "display_name": "Python 3"
  },
  "pycharm": {
   "stem_cell": {
    "cell_type": "raw",
    "source": [],
    "metadata": {
     "collapsed": false
    }
   }
  }
 },
 "nbformat": 4,
 "nbformat_minor": 0
}