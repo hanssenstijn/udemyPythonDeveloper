{
 "cells": [
  {
   "cell_type": "code",
   "execution_count": 8,
   "metadata": {
    "collapsed": true,
    "pycharm": {
     "is_executing": false
    }
   },
   "outputs": [],
   "source": [
    "from IPython.core.interactiveshell import InteractiveShell\n",
    "InteractiveShell.ast_node_interactivity = \"all\"\n"
   ]
  },
  {
   "cell_type": "code",
   "execution_count": 21,
   "outputs": [
    {
     "name": "stdout",
     "text": [
      "******\nhi\n******\n"
     ],
     "output_type": "stream"
    }
   ],
   "source": [
    "# Decorator developed\n",
    "# used to super upgrade other functions\n",
    "def my_decorator(func):\n",
    "    def wrap_func():\n",
    "        print('******')\n",
    "        # run the inserted function (other developed function)\n",
    "        func()\n",
    "        print('******')\n",
    "    return wrap_func\n",
    "\n",
    "# @ --> before word is set to decorator\n",
    "@my_decorator\n",
    "def hello():\n",
    "    print(\"hello\")\n",
    "# call function\n",
    "hello()\n",
    "\n",
    "@my_decorator\n",
    "def bye():\n",
    "    print('see ya later')\n",
    "bye()\n"
   ],
   "metadata": {
    "collapsed": false,
    "pycharm": {
     "name": "#%%\n",
     "is_executing": false
    }
   }
  },
  {
   "cell_type": "code",
   "execution_count": 26,
   "outputs": [
    {
     "name": "stdout",
     "text": [
      "******\nHI :=(\n******\n"
     ],
     "output_type": "stream"
    }
   ],
   "source": [
    "def my_decorator(func):\n",
    "    def wrap_func(*args, **kwargs):\n",
    "        print('******')\n",
    "        # run the inserted function (other developed function)\n",
    "        func(*args, **kwargs)\n",
    "        print('******')\n",
    "    return wrap_func\n",
    "\n",
    "# @ --> before word is set to decorator\n",
    "@my_decorator\n",
    "def hello(greeting, emoji=\":=(\"):\n",
    "    print(greeting, emoji)\n",
    "# call function\n",
    "hello('HI')\n"
   ],
   "metadata": {
    "collapsed": false,
    "pycharm": {
     "name": "#%%\n",
     "is_executing": false
    }
   }
  },
  {
   "cell_type": "code",
   "execution_count": 30,
   "outputs": [
    {
     "name": "stdout",
     "text": [
      "it took 0.0009708404541015625 ms\n"
     ],
     "output_type": "stream"
    }
   ],
   "source": [
    "from time import time\n",
    "def perforamnce(fn):\n",
    "    def wrapper(*args, **kawrgs):\n",
    "        t1 = time()\n",
    "        result = fn(*args, **kawrgs)\n",
    "        t2 = time()\n",
    "        print(f'it took {t2-t1} ms')\n",
    "        return result\n",
    "    return wrapper\n",
    "\n",
    "@perforamnce\n",
    "def long_time():\n",
    "    for i in range(10000):\n",
    "        i*5\n",
    "        \n",
    "long_time()"
   ],
   "metadata": {
    "collapsed": false,
    "pycharm": {
     "name": "#%%\n",
     "is_executing": false
    }
   }
  }
 ],
 "metadata": {
  "language_info": {
   "codemirror_mode": {
    "name": "ipython",
    "version": 2
   },
   "file_extension": ".py",
   "mimetype": "text/x-python",
   "name": "python",
   "nbconvert_exporter": "python",
   "pygments_lexer": "ipython2",
   "version": "2.7.6"
  },
  "kernelspec": {
   "name": "python3",
   "language": "python",
   "display_name": "Python 3"
  },
  "pycharm": {
   "stem_cell": {
    "cell_type": "raw",
    "source": [],
    "metadata": {
     "collapsed": false
    }
   }
  }
 },
 "nbformat": 4,
 "nbformat_minor": 0
}