{
 "cells": [
  {
   "cell_type": "code",
   "execution_count": 1,
   "outputs": [],
   "source": [
    "from IPython.core.interactiveshell import InteractiveShell\n",
    "InteractiveShell.ast_node_interactivity = \"all\"\n"
   ],
   "metadata": {
    "collapsed": false,
    "pycharm": {
     "name": "#%%\n",
     "is_executing": false
    }
   }
  },
  {
   "cell_type": "code",
   "execution_count": 2,
   "metadata": {
    "collapsed": true,
    "pycharm": {
     "is_executing": false
    }
   },
   "outputs": [
    {
     "name": "stdout",
     "text": [
      "[0, 2, 4, 6, 8, 10, 12, 14, 16, 18]\n"
     ],
     "output_type": "stream"
    }
   ],
   "source": [
    "# generators\n",
    "def make_list(num):\n",
    "    result = []\n",
    "    for i in range(num):\n",
    "        result.append(i*2)\n",
    "    return result\n",
    "my_list = make_list(10)\n",
    "print(my_list)\n"
   ]
  },
  {
   "cell_type": "code",
   "execution_count": 3,
   "outputs": [
    {
     "name": "stdout",
     "text": [
      "0\n1\n2\n3\n4\n5\n6\n7\n8\n9\n<generator object generator_function at 0x05F976B0>\n"
     ],
     "output_type": "stream"
    }
   ],
   "source": [
    "def generator_function(num):\n",
    "    for i in range(num):\n",
    "        # yield --> pauses function\n",
    "        # hold one item in memory\n",
    "        yield i\n",
    "# output numbers\n",
    "for item in generator_function(10):\n",
    "    print(item)\n",
    "# get generated object\n",
    "g = generator_function(10)\n",
    "print(g)\n"
   ],
   "metadata": {
    "collapsed": false,
    "pycharm": {
     "name": "#%%\n",
     "is_executing": false
    }
   }
  },
  {
   "cell_type": "markdown",
   "source": [
    "Generators replace the old values and run the function eachtime agian. Making is speed way faster than storing\n",
    "everything inside a list and then apply the function on everything\n"
   ],
   "metadata": {
    "collapsed": false,
    "pycharm": {
     "name": "#%% md\n"
    }
   }
  },
  {
   "cell_type": "code",
   "execution_count": 6,
   "outputs": [
    {
     "name": "stdout",
     "text": [
      "<list_iterator object at 0x06004390>\n<list_iterator object at 0x06004390>\n<list_iterator object at 0x06004390>\n<list_iterator object at 0x06004390>\n"
     ],
     "output_type": "stream"
    }
   ],
   "source": [
    "def special_for(iterable):\n",
    "    iterator = iter(iterable)\n",
    "    while True:\n",
    "        try:\n",
    "            print(iterator)\n",
    "            next(iterator)\n",
    "        except StopIteration:\n",
    "            break\n",
    "special_for([1,2,3])\n"
   ],
   "metadata": {
    "collapsed": false,
    "pycharm": {
     "name": "#%%\n",
     "is_executing": false
    }
   }
  },
  {
   "cell_type": "code",
   "execution_count": 8,
   "outputs": [
    {
     "name": "stdout",
     "text": [
      "0\n1\n2\n3\n4\n"
     ],
     "output_type": "stream"
    }
   ],
   "source": [
    "class MyGen():\n",
    "    current = 0\n",
    "    # object to have two param: first & last\n",
    "    def __init__(self,first,last):\n",
    "        self.first = first\n",
    "        self.last = last\n",
    "    # making it possible that it can iterate\n",
    "    def __iter__(self):\n",
    "        return self\n",
    "    # next for the for loop\n",
    "    def __next__(self):\n",
    "        if MyGen.current <self.last:\n",
    "            num = MyGen.current\n",
    "            MyGen.current +=1\n",
    "            return num\n",
    "        raise StopIteration\n",
    "    \n",
    "gen = MyGen(0,5)\n",
    "for i in gen:\n",
    "    print(i)\n"
   ],
   "metadata": {
    "collapsed": false,
    "pycharm": {
     "name": "#%%\n",
     "is_executing": false
    }
   }
  },
  {
   "cell_type": "code",
   "execution_count": 10,
   "outputs": [
    {
     "name": "stdout",
     "text": [
      "0\n1\n1\n2\n3\n5\n8\n13\n21\n34\n"
     ],
     "output_type": "stream"
    }
   ],
   "source": [
    "# fibernati numbers\n",
    "def fib(number):\n",
    "    a = 0\n",
    "    b = 1\n",
    "    for i in range(number):\n",
    "        # hold on to a and move on\n",
    "        yield a\n",
    "        temp = a\n",
    "        a = b\n",
    "        b = temp + b\n",
    "        \n",
    "for x in fib(10):\n",
    "    print(x)"
   ],
   "metadata": {
    "collapsed": false,
    "pycharm": {
     "name": "#%%\n",
     "is_executing": false
    }
   }
  }
 ],
 "metadata": {
  "language_info": {
   "codemirror_mode": {
    "name": "ipython",
    "version": 2
   },
   "file_extension": ".py",
   "mimetype": "text/x-python",
   "name": "python",
   "nbconvert_exporter": "python",
   "pygments_lexer": "ipython2",
   "version": "2.7.6"
  },
  "kernelspec": {
   "name": "python3",
   "language": "python",
   "display_name": "Python 3"
  },
  "pycharm": {
   "stem_cell": {
    "cell_type": "raw",
    "source": [],
    "metadata": {
     "collapsed": false
    }
   }
  }
 },
 "nbformat": 4,
 "nbformat_minor": 0
}