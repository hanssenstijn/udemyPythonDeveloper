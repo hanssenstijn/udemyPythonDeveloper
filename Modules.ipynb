{
 "cells": [
  {
   "cell_type": "code",
   "execution_count": null,
   "metadata": {
    "collapsed": true
   },
   "outputs": [],
   "source": [
    "from IPython.core.interactiveshell import InteractiveShell\n",
    "InteractiveShell.ast_node_interactivity = \"all\"\n"
   ]
  },
  {
   "cell_type": "markdown",
   "source": [
    "import from other files.\n",
    "<br>\n",
    "import 'filename'.\n",
    "<br>\n",
    "print(filename).\n",
    "<br>\n",
    "Package is a folder containing modules --> import foldername.filename\n",
    "(package folder needs : '__init__.py'\n",
    "<br>\n",
    "Can also use 'from package import function'\n",
    "<br>\n",
    "\"if __name__ == '__main__'\" --> run/print the name of the module\n"
   ],
   "metadata": {
    "collapsed": false,
    "pycharm": {
     "name": "#%% md\n"
    }
   }
  },
  {
   "cell_type": "code",
   "execution_count": 7,
   "outputs": [
    {
     "name": "stdout",
     "text": [
      "all good\n"
     ],
     "output_type": "stream"
    }
   ],
   "source": [
    "# develop a random generator\n",
    "# note this had to be used as accessing different py files\n",
    "from random import randint\n",
    "\n",
    "answer = randint(1,5)\n",
    "\n",
    "while True:\n",
    "    try:\n",
    "        guess = int(input('guess a number 1~5: '))\n",
    "        # easier way of two conditions\n",
    "        if  0 < guess < 6:\n",
    "            # number selected by randint\n",
    "            if guess == answer:\n",
    "                # break if you choose the right number\n",
    "                print(\"You got it\")\n",
    "                break\n",
    "            print('Try agian')\n",
    "            break\n",
    "    except ValueError:\n",
    "        print(\"please enter a number\")\n"
   ],
   "metadata": {
    "collapsed": false,
    "pycharm": {
     "name": "#%%\n",
     "is_executing": false
    }
   }
  },
  {
   "cell_type": "markdown",
   "source": [
    "python packages --> https://pypi.org/\n",
    "<br>\n",
    "python buildin packages --> https://docs.python.org/3/\n"
   ],
   "metadata": {
    "collapsed": false,
    "pycharm": {
     "name": "#%% md\n"
    }
   }
  },
  {
   "cell_type": "code",
   "execution_count": 8,
   "outputs": [
    {
     "name": "stdout",
     "text": [
      "Complaining about the lack of smoking shelters, the nicotine addicted Python programmers said there ought to be 'spaces for tabs'.\n"
     ],
     "output_type": "stream"
    }
   ],
   "source": [
    "# downloaded package in the interpereter (file)\n",
    "import pyjokes\n",
    "print(pyjokes.get_joke('en','neutral'))\n"
   ],
   "metadata": {
    "collapsed": false,
    "pycharm": {
     "name": "#%%\n",
     "is_executing": false
    }
   }
  },
  {
   "cell_type": "code",
   "execution_count": 11,
   "outputs": [
    {
     "name": "stdout",
     "text": [
      "Counter({3: 3, 1: 2, 2: 1})\nCounter({'l': 4, 'b': 3, 'a': 3, ' ': 3, 'h': 1})\n"
     ],
     "output_type": "stream"
    }
   ],
   "source": [
    "from collections import Counter, defaultdict, OrderedDict\n",
    "li = [1,2,3,1,3,3]\n",
    "sentence = 'bla bla bhal l'\n",
    "# dict ; how often values occur\n",
    "print(Counter(li))\n",
    "print(Counter(sentence))\n"
   ],
   "metadata": {
    "collapsed": false,
    "pycharm": {
     "name": "#%%\n",
     "is_executing": false
    }
   }
  },
  {
   "cell_type": "code",
   "execution_count": 13,
   "outputs": [
    {
     "name": "stdout",
     "text": [
      "05:42:02\n2019-12-18\n"
     ],
     "output_type": "stream"
    }
   ],
   "source": [
    "import datetime\n",
    "print(datetime.time(5,42,2))\n",
    "print(datetime.date.today())\n"
   ],
   "metadata": {
    "collapsed": false,
    "pycharm": {
     "name": "#%%\n",
     "is_executing": false
    }
   }
  },
  {
   "cell_type": "code",
   "execution_count": 17,
   "outputs": [
    {
     "name": "stdout",
     "text": [
      "1\n"
     ],
     "output_type": "stream"
    }
   ],
   "source": [
    "from array import array\n",
    "# array faster than lists, uses less memory\n",
    "arr = array('i',[1,2,3])\n",
    "print(arr[0])\n"
   ],
   "metadata": {
    "collapsed": false,
    "pycharm": {
     "name": "#%%\n",
     "is_executing": false
    }
   }
  }
 ],
 "metadata": {
  "language_info": {
   "codemirror_mode": {
    "name": "ipython",
    "version": 2
   },
   "file_extension": ".py",
   "mimetype": "text/x-python",
   "name": "python",
   "nbconvert_exporter": "python",
   "pygments_lexer": "ipython2",
   "version": "2.7.6"
  },
  "kernelspec": {
   "name": "python3",
   "language": "python",
   "display_name": "Python 3"
  },
  "pycharm": {
   "stem_cell": {
    "cell_type": "raw",
    "source": [],
    "metadata": {
     "collapsed": false
    }
   }
  }
 },
 "nbformat": 4,
 "nbformat_minor": 0
}