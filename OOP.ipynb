{
 "cells": [
  {
   "cell_type": "code",
   "execution_count": 1,
   "metadata": {
    "collapsed": true,
    "pycharm": {
     "is_executing": false
    }
   },
   "outputs": [],
   "source": [
    "from IPython.core.interactiveshell import InteractiveShell\n",
    "InteractiveShell.ast_node_interactivity = \"all\"\n"
   ]
  },
  {
   "cell_type": "code",
   "execution_count": null,
   "outputs": [],
   "source": [
    "# think about code and structurize the code\n",
    "# Furthermore, to get around the standard use\n",
    "# class is the blue print --> from here you can create instances (objects)\n",
    "# (instantiate a class to an object)\n"
   ],
   "metadata": {
    "collapsed": false,
    "pycharm": {
     "name": "#%%\n"
    }
   }
  },
  {
   "cell_type": "code",
   "execution_count": 32,
   "outputs": [
    {
     "name": "stdout",
     "text": [
      "Stijn\nmy name is Stijn\nDone\n28\nTrue\n<__main__.PlayerCharacter object at 0x005CF7F0>\n<__main__.PlayerCharacter object at 0x005CF370>\n<__main__.PlayerCharacter object at 0x005CF350>\nHelp on PlayerCharacter in module __main__ object:\n\nclass PlayerCharacter(builtins.object)\n |  PlayerCharacter(name='anonymous', age=0)\n |  \n |  Methods defined here:\n |  \n |  __init__(self, name='anonymous', age=0)\n |      Initialize self.  See help(type(self)) for accurate signature.\n |  \n |  shout(self)\n |  \n |  ----------------------------------------------------------------------\n |  Class methods defined here:\n |  \n |  addding_things(num1, num2) from builtins.type\n |      # cls refers to the class\n |  \n |  ----------------------------------------------------------------------\n |  Static methods defined here:\n |  \n |  addding_things2(num1, num2)\n |      # no acces to the static method\n |  \n |  ----------------------------------------------------------------------\n |  Data descriptors defined here:\n |  \n |  __dict__\n |      dictionary for instance variables (if defined)\n |  \n |  __weakref__\n |      list of weak references to the object (if defined)\n |  \n |  ----------------------------------------------------------------------\n |  Data and other attributes defined here:\n |  \n |  membership = True\n\n"
     ],
     "output_type": "stream"
    }
   ],
   "source": [
    "class PlayerCharacter:\n",
    "    # class object attribute (its static)\n",
    "    membership = True\n",
    "    # __init__ --> constructor/dundor method\n",
    "    # needed to initiate\n",
    "    def __init__(self,name='anonymous',age=0):\n",
    "        if (age > 18):\n",
    "        # attributes\n",
    "        # underscore (' _ ') --> convention of programmer world that its a private variable\n",
    "            self._name = name \n",
    "            self._age = age \n",
    "            \n",
    "    def shout(self):\n",
    "        # create a string --> ' f '\n",
    "        # use the self. in order to get the players name\n",
    "        # can only use the attributes here (defined in the constructor)\n",
    "        print(f'my name is {self._name}')\n",
    "        return 'Done'\n",
    "   \n",
    "    # cls refers to the class\n",
    "    @classmethod\n",
    "    def addding_things(cls,num1,num2):\n",
    "        return cls(num1 + num2)\n",
    "   \n",
    "    # no acces to the static method\n",
    "    @staticmethod\n",
    "    def addding_things2(num1,num2):\n",
    "        return num1 + num2\n",
    "    \n",
    "# give characteristics to players        \n",
    "player1 = PlayerCharacter('Stijn',24)\n",
    "player2 = PlayerCharacter('Hans',28)\n",
    "\n",
    "# print attributes\n",
    "print(player1._name)\n",
    "print(player1.shout())\n",
    "print(player2._age)\n",
    "print(player2.membership)\n",
    "\n",
    "# stored at different places in memory\n",
    "print(player1)\n",
    "print(player2)\n",
    "\n",
    "print(PlayerCharacter.addding_things(2,3))\n",
    "\n",
    "# get blue print of object\n",
    "help(player2)\n"
   ],
   "metadata": {
    "collapsed": false,
    "pycharm": {
     "name": "#%%\n",
     "is_executing": false
    }
   }
  },
  {
   "cell_type": "markdown",
   "source": [
    "4 pillars of OOP\n",
    "<br>\n",
    "Encapulation --> everything into one box, which other can interact with\n",
    "<br>\n",
    "Abstraction --> acces to a developed function\n",
    "<br>\n",
    "Inheritance --> only specify the single used code within a class, but overlap between classes be shared.\n",
    "<br>\n",
    "Polymorphism --> many forms\n"
   ],
   "metadata": {
    "collapsed": false,
    "pycharm": {
     "name": "#%% md\n"
    }
   }
  },
  {
   "cell_type": "code",
   "execution_count": 45,
   "outputs": [
    {
     "name": "stdout",
     "text": [
      "attacking with power of 50\nattacking with arrows left- 100\nlogged in\nNone\nTrue\nTrue\n"
     ],
     "output_type": "stream"
    }
   ],
   "source": [
    "class User:\n",
    "    def sign_in(self):\n",
    "        print('logged in')\n",
    "    \n",
    "class Wizard(User):\n",
    "    def __init__(self,name,power):\n",
    "        self.name = name\n",
    "        self.power = power\n",
    "    \n",
    "    def attack(self):\n",
    "        print(f'attacking with power of {self.power}')\n",
    "class Archer(User):\n",
    "    def __init__(self,name,num_arrows):\n",
    "        self.name = name\n",
    "        self.num_arrows = num_arrows\n",
    "    \n",
    "    def attack(self):\n",
    "        print(f'attacking with arrows left- {self.num_arrows}')\n",
    "\n",
    "wizard1 = Wizard('merlin',50)\n",
    "archer1 = Archer('robin', 100)\n",
    "wizard1.attack()\n",
    "archer1.attack()\n",
    "print(wizard1.sign_in())\n",
    "# isinstance(instance, Class) --> check if its an instance    \n",
    "print(isinstance(wizard1,Wizard))\n",
    "print(isinstance(wizard1,User))\n",
    "\n"
   ],
   "metadata": {
    "collapsed": false,
    "pycharm": {
     "name": "#%%\n",
     "is_executing": false
    }
   }
  }
 ],
 "metadata": {
  "language_info": {
   "codemirror_mode": {
    "name": "ipython",
    "version": 2
   },
   "file_extension": ".py",
   "mimetype": "text/x-python",
   "name": "python",
   "nbconvert_exporter": "python",
   "pygments_lexer": "ipython2",
   "version": "2.7.6"
  },
  "kernelspec": {
   "name": "python3",
   "language": "python",
   "display_name": "Python 3"
  },
  "pycharm": {
   "stem_cell": {
    "cell_type": "raw",
    "source": [],
    "metadata": {
     "collapsed": false
    }
   }
  }
 },
 "nbformat": 4,
 "nbformat_minor": 0
}