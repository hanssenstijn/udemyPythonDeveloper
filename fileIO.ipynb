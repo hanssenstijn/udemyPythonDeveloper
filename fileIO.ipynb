{
 "cells": [
  {
   "cell_type": "code",
   "execution_count": 1,
   "metadata": {
    "collapsed": true,
    "pycharm": {
     "is_executing": false
    }
   },
   "outputs": [],
   "source": [
    "from IPython.core.interactiveshell import InteractiveShell\n",
    "InteractiveShell.ast_node_interactivity = \"all\"\n"
   ]
  },
  {
   "cell_type": "code",
   "execution_count": null,
   "outputs": [],
   "source": [
    "# open file in the current working directory\n",
    "my_file = open('file.txt')\n",
    "# read the text of the file\n",
    "print(my_file.read())\n",
    "# read the text but put in lines\n",
    "print(my_file.readlines())\n",
    "# close the file\n",
    "my_file.close\n"
   ],
   "metadata": {
    "collapsed": false,
    "pycharm": {
     "name": "#%%\n"
    }
   }
  },
  {
   "cell_type": "code",
   "execution_count": null,
   "outputs": [],
   "source": [
    "# open a file and use the reading mode (can be changed)\n",
    "with open('test.txt', mode ='r+') as my_file:\n",
    "    text = my_file.write('hoi hoi')\n",
    "    print(my_file.read())\n",
    "\n",
    "# use append mode to make sure that new text doesn't overwrite the old text\n",
    "with open('test.txt', mode ='a') as my_file:\n",
    "    text = my_file.write('hoi hoi')\n",
    "    print(my_file.read())\n"
   ],
   "metadata": {
    "collapsed": false,
    "pycharm": {
     "name": "#%%\n"
    }
   }
  },
  {
   "cell_type": "markdown",
   "source": [
    "For all path direction and usage between different systems --> https://docs.python.org/3/library/pathlib.html\n"
   ],
   "metadata": {
    "collapsed": false,
    "pycharm": {
     "name": "#%% md\n"
    }
   }
  },
  {
   "cell_type": "code",
   "execution_count": null,
   "outputs": [],
   "source": [
    "# define file not found error\n",
    "try:\n",
    "    with open('sad.txt',mode='r') as my_file:\n",
    "        print(my_file.read())\n",
    "        # call the specifc file error\n",
    "except FileNotFoundError as err:\n",
    "    print('File does not excist')\n",
    "except IOError as err:\n",
    "    print('IOerror')\n"
   ],
   "metadata": {
    "collapsed": false,
    "pycharm": {
     "name": "#%%\n"
    }
   }
  },
  {
   "cell_type": "code",
   "execution_count": null,
   "outputs": [],
   "source": [
    "# import translator\n",
    "from translate import Translator\n",
    "# translate to Japanese\n",
    "translator = Translator(to_lang=\"ja\")\n",
    "\n",
    "try:\n",
    "    with open('./test.txt', mode='r') as my_file:\n",
    "        text = print(my_file.read())\n",
    "        # translate function\n",
    "        translation = translator.translate((text))\n",
    "        print(translation)\n",
    "        # write the translation on the file\n",
    "        with open('./test-ja.txt', mode='w' as my_file2:)\n",
    "        # write the translation on the file\n",
    "        my_file2.write(translation)\n",
    "except FileNotFoundError as e:\n",
    "    print('check your file path')\n"
   ],
   "metadata": {
    "collapsed": false,
    "pycharm": {
     "name": "#%%\n"
    }
   }
  }
 ],
 "metadata": {
  "language_info": {
   "codemirror_mode": {
    "name": "ipython",
    "version": 2
   },
   "file_extension": ".py",
   "mimetype": "text/x-python",
   "name": "python",
   "nbconvert_exporter": "python",
   "pygments_lexer": "ipython2",
   "version": "2.7.6"
  },
  "kernelspec": {
   "name": "python3",
   "language": "python",
   "display_name": "Python 3"
  },
  "pycharm": {
   "stem_cell": {
    "cell_type": "raw",
    "source": [],
    "metadata": {
     "collapsed": false
    }
   }
  }
 },
 "nbformat": 4,
 "nbformat_minor": 0
}