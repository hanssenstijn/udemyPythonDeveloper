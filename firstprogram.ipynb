{
 "cells": [
  {
   "cell_type": "code",
   "execution_count": 1,
   "outputs": [],
   "source": [
    "from IPython.core.interactiveshell import InteractiveShell\n",
    "InteractiveShell.ast_node_interactivity = \"all\"\n"
   ],
   "metadata": {
    "collapsed": false,
    "pycharm": {
     "name": "#%%\n",
     "is_executing": false
    }
   }
  },
  {
   "cell_type": "code",
   "execution_count": 11,
   "metadata": {
    "collapsed": true,
    "pycharm": {
     "is_executing": false
    }
   },
   "outputs": [
    {
     "name": "stdout",
     "text": [
      "Stijn Hanssen\n"
     ],
     "output_type": "stream"
    }
   ],
   "source": [
    "# python documentation on google, very usefull!!\n",
    "\n",
    "# print your name\n",
    "print(\"Stijn Hanssen\")\n"
   ]
  },
  {
   "cell_type": "code",
   "execution_count": 2,
   "outputs": [
    {
     "data": {
      "text/plain": "'Stijn'"
     },
     "metadata": {},
     "output_type": "execute_result",
     "execution_count": 2
    }
   ],
   "source": [
    "# input function, ask question and type input\n",
    "# input('What is your name?')\n"
   ],
   "metadata": {
    "collapsed": false,
    "pycharm": {
     "name": "#%%\n",
     "is_executing": false
    }
   }
  },
  {
   "cell_type": "code",
   "execution_count": 13,
   "outputs": [
    {
     "name": "stdout",
     "text": [
      "<class 'int'>\n<class 'float'>\n4\n2\n"
     ],
     "output_type": "stream"
    }
   ],
   "source": [
    "print(type(2+4))\n",
    "# float (decimal points)\n",
    "print(type(2/4))\n",
    "# power\n",
    "print(2 ** 2)\n",
    "# modulo (remainder\n",
    "print(6 % 4)\n"
   ],
   "metadata": {
    "collapsed": false,
    "pycharm": {
     "name": "#%%\n",
     "is_executing": false
    }
   }
  },
  {
   "cell_type": "code",
   "execution_count": 20,
   "outputs": [
    {
     "data": {
      "text/plain": "9"
     },
     "metadata": {},
     "output_type": "execute_result",
     "execution_count": 20
    },
    {
     "data": {
      "text/plain": "20"
     },
     "metadata": {},
     "output_type": "execute_result",
     "execution_count": 20
    }
   ],
   "source": [
    "# round number\n",
    "round(9.42342)\n",
    "# absolute value (no negative)\n",
    "abs(-20)\n"
   ],
   "metadata": {
    "collapsed": false,
    "pycharm": {
     "name": "#%%\n",
     "is_executing": false
    }
   }
  },
  {
   "cell_type": "code",
   "execution_count": 21,
   "outputs": [
    {
     "data": {
      "text/plain": "'0b101'"
     },
     "metadata": {},
     "output_type": "execute_result",
     "execution_count": 21
    },
    {
     "name": "stdout",
     "text": [
      "5\n"
     ],
     "output_type": "stream"
    }
   ],
   "source": [
    "# find binary number\n",
    "bin(5)\n",
    "# print it in a binary way\n",
    "print(int('0b101',2))\n"
   ],
   "metadata": {
    "collapsed": false,
    "pycharm": {
     "name": "#%%\n",
     "is_executing": false
    }
   }
  },
  {
   "cell_type": "markdown",
   "source": [
    "snake_case; use underscore between words for variable\n",
    "<br>\n",
    "for constant (values that not will be changed) variables use capitalized names. \n"
   ],
   "metadata": {
    "collapsed": false
   }
  },
  {
   "cell_type": "code",
   "execution_count": 25,
   "outputs": [
    {
     "data": {
      "text/plain": "1"
     },
     "metadata": {},
     "output_type": "execute_result",
     "execution_count": 25
    }
   ],
   "source": [
    "# assign multiple things to multiple variables\n",
    "a,b,c = 1,2,3\n",
    "a\n"
   ],
   "metadata": {
    "collapsed": false,
    "pycharm": {
     "name": "#%%\n",
     "is_executing": false
    }
   }
  },
  {
   "cell_type": "code",
   "execution_count": 27,
   "outputs": [
    {
     "name": "stdout",
     "text": [
      "7\n"
     ],
     "output_type": "stream"
    }
   ],
   "source": [
    "# augmented operator\n",
    "some_value = 5\n",
    "some_value += 2\n",
    "print(some_value)\n"
   ],
   "metadata": {
    "collapsed": false,
    "pycharm": {
     "name": "#%%\n",
     "is_executing": false
    }
   }
  },
  {
   "cell_type": "code",
   "execution_count": 29,
   "outputs": [
    {
     "name": "stdout",
     "text": [
      "'\nWOW\n0 0\n---\n\n"
     ],
     "output_type": "stream"
    }
   ],
   "source": [
    "# three single quotes for multiple line strings\n",
    "long_string = ''''\n",
    "WOW\n",
    "0 0\n",
    "---\n",
    "'''\n",
    "print(long_string)\n"
   ],
   "metadata": {
    "collapsed": false,
    "pycharm": {
     "name": "#%%\n",
     "is_executing": false
    }
   }
  },
  {
   "cell_type": "code",
   "execution_count": 30,
   "outputs": [
    {
     "name": "stdout",
     "text": [
      "It's \"kind of\" sunny\n"
     ],
     "output_type": "stream"
    }
   ],
   "source": [
    "# Escape Sequence : backslash\n",
    "weather = \"It\\'s \\\"kind of\\\" sunny\"\n",
    "print(weather)\n"
   ],
   "metadata": {
    "collapsed": false,
    "pycharm": {
     "name": "#%%\n",
     "is_executing": false
    }
   }
  },
  {
   "cell_type": "code",
   "execution_count": 34,
   "outputs": [
    {
     "name": "stdout",
     "text": [
      "hi Johnny, You are 55\nhi Stijn, You are 28 years old\n"
     ],
     "output_type": "stream"
    }
   ],
   "source": [
    "# formated string: f at the beginning\n",
    "name = 'Johnny'\n",
    "age = 55\n",
    "print(f'hi {name}, You are {age}')\n",
    "# using format\n",
    "print('hi {}, You are {} years old'.format('Stijn','28'))\n"
   ],
   "metadata": {
    "collapsed": false,
    "pycharm": {
     "name": "#%%\n",
     "is_executing": false
    }
   }
  },
  {
   "cell_type": "code",
   "execution_count": 38,
   "outputs": [
    {
     "name": "stdout",
     "text": [
      "[1, 2, 3, 4, 5]\n[1, 2, 3, 4, 5, 100]\n",
      "[1, 2, 3, 4, 5]\n"
     ],
     "output_type": "stream"
    },
    {
     "data": {
      "text/plain": "100"
     },
     "metadata": {},
     "output_type": "execute_result",
     "execution_count": 38
    }
   ],
   "source": [
    "# .append() imediatly add the number to the list\n",
    "basket = [1,2,3,4,5]\n",
    "print(basket)\n",
    "basket.append(100)\n",
    "print(basket)\n",
    "# remove last number\n",
    "basket.pop()\n",
    "print(basket)\n"
   ],
   "metadata": {
    "collapsed": false,
    "pycharm": {
     "name": "#%%\n",
     "is_executing": false
    }
   }
  },
  {
   "cell_type": "code",
   "execution_count": 2,
   "outputs": [
    {
     "name": "stdout",
     "text": [
      "3\n['a', 'b', 'c']\n"
     ],
     "output_type": "stream"
    }
   ],
   "source": [
    "basket = [1,2,3,4,5]\n",
    "# find the index, set extra arguments from where to search until when\n",
    "print(basket.index(4,0,4))\n",
    "\n",
    "# sort a list\n",
    "basket = ['a','c','b']\n",
    "basket.sort()\n",
    "print(basket)\n"
   ],
   "metadata": {
    "collapsed": false,
    "pycharm": {
     "name": "#%%\n",
     "is_executing": false
    }
   }
  },
  {
   "cell_type": "code",
   "execution_count": 4,
   "outputs": [
    {
     "name": "stdout",
     "text": [
      "[0, 1, 2, 3, 4, 5, 6, 7, 8, 9]\n[0, 1, 2, 3, 4, 5, 6, 7, 8, 9, 10]\n"
     ],
     "output_type": "stream"
    }
   ],
   "source": [
    "# print list range until 10\n",
    "print(list(range(10)))\n",
    "# print list including 10\n",
    "print(list(range(11)))\n"
   ],
   "metadata": {
    "collapsed": false,
    "pycharm": {
     "name": "#%%\n",
     "is_executing": false
    }
   }
  },
  {
   "cell_type": "code",
   "execution_count": 8,
   "outputs": [
    {
     "name": "stdout",
     "text": [
      "hi ! you ! Friend\n"
     ],
     "output_type": "stream"
    }
   ],
   "source": [
    "# combining list\n",
    "new_sentence = ' ! '.join(['hi','you','Friend'])\n",
    "print(new_sentence)\n"
   ],
   "metadata": {
    "collapsed": false,
    "pycharm": {
     "name": "#%%\n",
     "is_executing": false
    }
   }
  },
  {
   "cell_type": "code",
   "execution_count": 15,
   "outputs": [
    {
     "name": "stdout",
     "text": [
      "{'a': [1, 2, 3], 'b': 'hello', 'x': True}\n",
      "None\nFalse\ndict_items([('a', [1, 2, 3]), ('b', 'hello'), ('x', True)])\n"
     ],
     "output_type": "stream"
    },
    {
     "data": {
      "text/plain": "'hello'"
     },
     "metadata": {},
     "output_type": "execute_result",
     "execution_count": 15
    }
   ],
   "source": [
    "# Dictionary\n",
    "# key - value\n",
    "dictionary = {\n",
    "    'a': [1,2,3],\n",
    "    'b': \"hello\",\n",
    "    'x': True\n",
    "}\n",
    "print(dictionary)\n",
    "dictionary['b']\n",
    "# 2 methods check if something is in the dictianry\n",
    "print(dictionary.get('age'))\n",
    "print('size' in dictionary)\n",
    "# which items are in your dict\n",
    "print(dictionary.items())\n"
   ],
   "metadata": {
    "collapsed": false,
    "pycharm": {
     "name": "#%%\n",
     "is_executing": false
    }
   }
  },
  {
   "cell_type": "code",
   "execution_count": 17,
   "outputs": [
    {
     "name": "stdout",
     "text": [
      "(1, 2, 3, 4)\n"
     ],
     "output_type": "stream"
    }
   ],
   "source": [
    "# immutable list --> tuple\n",
    "# cannot be changed\n",
    "my_tuple = (1,2,3,4)\n",
    "print(my_tuple)\n"
   ],
   "metadata": {
    "collapsed": false,
    "pycharm": {
     "name": "#%%\n",
     "is_executing": false
    }
   }
  },
  {
   "cell_type": "code",
   "execution_count": null,
   "outputs": [],
   "source": [
    "\n"
   ],
   "metadata": {
    "collapsed": false,
    "pycharm": {
     "name": "#%%\n"
    }
   }
  }
 ],
 "metadata": {
  "language_info": {
   "codemirror_mode": {
    "name": "ipython",
    "version": 2
   },
   "file_extension": ".py",
   "mimetype": "text/x-python",
   "name": "python",
   "nbconvert_exporter": "python",
   "pygments_lexer": "ipython2",
   "version": "2.7.6"
  },
  "kernelspec": {
   "name": "python3",
   "language": "python",
   "display_name": "Python 3"
  },
  "pycharm": {
   "stem_cell": {
    "cell_type": "raw",
    "source": [],
    "metadata": {
     "collapsed": false
    }
   }
  }
 },
 "nbformat": 4,
 "nbformat_minor": 0
}