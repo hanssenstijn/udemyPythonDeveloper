{
 "cells": [
  {
   "cell_type": "code",
   "execution_count": 1,
   "metadata": {
    "collapsed": true,
    "pycharm": {
     "is_executing": false
    }
   },
   "outputs": [],
   "source": [
    "from IPython.core.interactiveshell import InteractiveShell\n",
    "InteractiveShell.ast_node_interactivity = \"all\"\n"
   ]
  },
  {
   "cell_type": "code",
   "source": [
    "def multiply_by2(li):\n",
    "    # create placeholder\n",
    "    new_list = []\n",
    "    for item in li:\n",
    "        # add to the place holder --> append\n",
    "        new_list.append(item*2)\n",
    "    return new_list\n",
    "\n",
    "print(multiply_by2([1,2,3]))\n"
   ],
   "metadata": {
    "collapsed": false,
    "pycharm": {
     "name": "#%%\n",
     "is_executing": false
    }
   },
   "execution_count": 2,
   "outputs": [
    {
     "name": "stdout",
     "text": [
      "[2, 4, 6]\n"
     ],
     "output_type": "stream"
    }
   ]
  },
  {
   "cell_type": "markdown",
   "source": [
    "map, filter, zip and reduce\n"
   ],
   "metadata": {
    "collapsed": false,
    "pycharm": {
     "name": "#%% md\n"
    }
   }
  },
  {
   "cell_type": "code",
   "execution_count": 8,
   "outputs": [
    {
     "name": "stdout",
     "text": [
      "[2, 4, 6]\n"
     ],
     "output_type": "stream"
    }
   ],
   "source": [
    "# map(action, data)\n",
    "def multiply_by2(item):\n",
    "    return item*2\n",
    "# dont need round brackets --> since we dont call the function\n",
    "print(list(map(multiply_by2,[1,2,3])))\n"
   ],
   "metadata": {
    "collapsed": false,
    "pycharm": {
     "name": "#%%\n",
     "is_executing": false
    }
   }
  },
  {
   "cell_type": "code",
   "execution_count": 9,
   "outputs": [
    {
     "name": "stdout",
     "text": [
      "[2, 4, 6]\n[1, 3]\n"
     ],
     "output_type": "stream"
    }
   ],
   "source": [
    "# filter\n",
    "def multiply_by2(item):\n",
    "    return item*2\n",
    "def check_odd(item):\n",
    "    return item % 2 != 0\n",
    "print(list(map(multiply_by2,[1,2,3])))\n",
    "print(list(filter(check_odd,[1,2,3])))\n"
   ],
   "metadata": {
    "collapsed": false,
    "pycharm": {
     "name": "#%%\n",
     "is_executing": false
    }
   }
  },
  {
   "cell_type": "code",
   "execution_count": 13,
   "outputs": [
    {
     "name": "stdout",
     "text": [
      "[(1, 10), (2, 20), (3, 30)]\n"
     ],
     "output_type": "stream"
    }
   ],
   "source": [
    "# zip\n",
    "my_list = [1,2,3]\n",
    "your_list = [10,20,30]\n",
    "def multiply_by2(item):\n",
    "    return item*2\n",
    "def check_odd(item):\n",
    "    return item % 2 != 0\n",
    "# print(list(map(multiply_by2,[1,2,3])))\n",
    "# print(list(filter(check_odd,[1,2,3])))\n",
    "print(list(zip(my_list,your_list)))\n"
   ],
   "metadata": {
    "collapsed": false,
    "pycharm": {
     "name": "#%%\n",
     "is_executing": false
    }
   }
  },
  {
   "cell_type": "code",
   "execution_count": 14,
   "outputs": [
    {
     "name": "stdout",
     "text": [
      "0 1\n1 2\n3 3\n6\n[1, 2, 3]\n"
     ],
     "output_type": "stream"
    }
   ],
   "source": [
    "# reduce\n",
    "from functools import reduce\n",
    "my_list = [1,2,3]\n",
    "\n",
    "def multiply_by2(item):\n",
    "    return item*2\n",
    "def check_odd(item):\n",
    "    return item % 2 != 0\n",
    "def accumulator(acc, item):\n",
    "    print(acc,item)\n",
    "    return acc + item\n",
    "\n",
    "print(reduce(accumulator,my_list,0))\n",
    "print(my_list)\n"
   ],
   "metadata": {
    "collapsed": false,
    "pycharm": {
     "name": "#%%\n",
     "is_executing": false
    }
   }
  },
  {
   "cell_type": "code",
   "execution_count": 4,
   "outputs": [
    {
     "name": "stdout",
     "text": [
      "[2, 4, 6]\n[1, 3]\n[1, 2, 3]\n"
     ],
     "output_type": "stream"
    }
   ],
   "source": [
    "# lambda --> for function that you only use once\n",
    "# anonymous functions (dont get a name)\n",
    "# lambda parameter: action(parameter)\n",
    "from functools import reduce\n",
    "my_list = [1,2,3]\n",
    "\n",
    "def accumulator(acc, item):\n",
    "    print(acc,item)\n",
    "    return acc + item\n",
    "\n",
    "# multiply by two\n",
    "print(list(map(lambda item: item*2,my_list)))\n",
    "# get only the uneven numbers\n",
    "print(list(filter(lambda item: item % 2 != 0,my_list)))\n",
    "print(my_list)\n"
   ],
   "metadata": {
    "collapsed": false,
    "pycharm": {
     "name": "#%%\n",
     "is_executing": false
    }
   }
  },
  {
   "cell_type": "code",
   "execution_count": 16,
   "outputs": [
    {
     "name": "stdout",
     "text": [
      "[25, 16, 9]\n[(0, 2), (4, 3, (10, -1), (9, 9))]\n"
     ],
     "output_type": "stream"
    }
   ],
   "source": [
    "# square list\n",
    "my_list = [5,4,3]\n",
    "print(list(map(lambda item: item**2,my_list)))\n",
    "# list sorting\n",
    "a = [(0,2), (4,3,(10, -1), (9,9))]\n",
    "# sort doesnt work for some reason?\n",
    "a.sort(key=lambda x: x[1])\n",
    "print(a)\n"
   ],
   "metadata": {
    "collapsed": false,
    "pycharm": {
     "name": "#%%\n",
     "is_executing": false
    }
   }
  },
  {
   "cell_type": "code",
   "execution_count": 23,
   "outputs": [
    {
     "name": "stdout",
     "text": [
      "['h', 'e', 'l', 'l', 'o']\n[0, 1, 2, 3, 4]\n[0, 2, 4, 6, 8]\n[0, 4, 16, 36, 64]\n"
     ],
     "output_type": "stream"
    }
   ],
   "source": [
    "# comprehensions\n",
    "# my_list = [param (create variable) for param (each variable in first) in iterable]\n",
    "my_list = [char for char in 'hello']\n",
    "my_list2 = [num for num in range(0,5)]\n",
    "# apply method on the variable (first num)\n",
    "my_list3 = [num*2 for num in range(0,5)]\n",
    "# add \n",
    "my_list4 = [num**2 for num in range(0,10) if num % 2 ==0]\n",
    "\n",
    "print(my_list)\n",
    "print(my_list2)\n",
    "print(my_list3)\n",
    "print(my_list4)\n"
   ],
   "metadata": {
    "collapsed": false,
    "pycharm": {
     "name": "#%%\n",
     "is_executing": false
    }
   }
  },
  {
   "cell_type": "code",
   "execution_count": 31,
   "outputs": [
    {
     "name": "stdout",
     "text": [
      "['c', 'a']\n"
     ],
     "output_type": "stream"
    }
   ],
   "source": [
    "some_list = ['a','a','b','c','c']\n",
    "# only get doubles and get them once (use set()) + create a list out of them\n",
    "duplicates = list(set([x for x in some_list if some_list.count(x) > 1]))\n",
    "print(duplicates)\n",
    "\n"
   ],
   "metadata": {
    "collapsed": false,
    "pycharm": {
     "name": "#%%\n",
     "is_executing": false
    }
   }
  }
 ],
 "metadata": {
  "language_info": {
   "codemirror_mode": {
    "name": "ipython",
    "version": 2
   },
   "file_extension": ".py",
   "mimetype": "text/x-python",
   "name": "python",
   "nbconvert_exporter": "python",
   "pygments_lexer": "ipython2",
   "version": "2.7.6"
  },
  "kernelspec": {
   "name": "python3",
   "language": "python",
   "display_name": "Python 3"
  },
  "pycharm": {
   "stem_cell": {
    "cell_type": "raw",
    "source": [],
    "metadata": {
     "collapsed": false
    }
   }
  }
 },
 "nbformat": 4,
 "nbformat_minor": 0
}