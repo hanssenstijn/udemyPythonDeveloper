{
 "cells": [
  {
   "cell_type": "code",
   "execution_count": 1,
   "metadata": {
    "collapsed": true,
    "pycharm": {
     "is_executing": false
    }
   },
   "outputs": [],
   "source": [
    "from IPython.core.interactiveshell import InteractiveShell\n",
    "InteractiveShell.ast_node_interactivity = \"all\""
   ]
  },
  {
   "cell_type": "markdown",
   "source": [
    "#1 - import the data\n",
    "#2 - clean data\n",
    "#3 -  Split data training and test set\n",
    "#4 - Create a model\n",
    "#5 - Check ouput\n",
    "#6 - improve"
   ],
   "metadata": {
    "collapsed": false,
    "pycharm": {
     "name": "#%% md\n"
    }
   }
  },
  {
   "cell_type": "code",
   "execution_count": 2,
   "outputs": [
    {
     "data": {
      "text/plain": "       Unnamed: 0      ID                Name  Age  \\\n0               0  158023            L. Messi   31   \n1               1   20801   Cristiano Ronaldo   33   \n2               2  190871           Neymar Jr   26   \n3               3  193080              De Gea   27   \n4               4  192985        K. De Bruyne   27   \n...           ...     ...                 ...  ...   \n18202       18202  238813        J. Lundstram   19   \n18203       18203  243165  N. Christoffersson   19   \n18204       18204  241638           B. Worman   16   \n18205       18205  246268      D. Walker-Rice   17   \n18206       18206  246269           G. Nugent   16   \n\n                                                Photo Nationality  \\\n0      https://cdn.sofifa.org/players/4/19/158023.png   Argentina   \n1       https://cdn.sofifa.org/players/4/19/20801.png    Portugal   \n2      https://cdn.sofifa.org/players/4/19/190871.png      Brazil   \n3      https://cdn.sofifa.org/players/4/19/193080.png       Spain   \n4      https://cdn.sofifa.org/players/4/19/192985.png     Belgium   \n...                                               ...         ...   \n18202  https://cdn.sofifa.org/players/4/19/238813.png     England   \n18203  https://cdn.sofifa.org/players/4/19/243165.png      Sweden   \n18204  https://cdn.sofifa.org/players/4/19/241638.png     England   \n18205  https://cdn.sofifa.org/players/4/19/246268.png     England   \n18206  https://cdn.sofifa.org/players/4/19/246269.png     England   \n\n                                      Flag  Overall  Potential  \\\n0      https://cdn.sofifa.org/flags/52.png       94         94   \n1      https://cdn.sofifa.org/flags/38.png       94         94   \n2      https://cdn.sofifa.org/flags/54.png       92         93   \n3      https://cdn.sofifa.org/flags/45.png       91         93   \n4       https://cdn.sofifa.org/flags/7.png       91         92   \n...                                    ...      ...        ...   \n18202  https://cdn.sofifa.org/flags/14.png       47         65   \n18203  https://cdn.sofifa.org/flags/46.png       47         63   \n18204  https://cdn.sofifa.org/flags/14.png       47         67   \n18205  https://cdn.sofifa.org/flags/14.png       47         66   \n18206  https://cdn.sofifa.org/flags/14.png       46         66   \n\n                      Club  ... Composure Marking StandingTackle  \\\n0             FC Barcelona  ...      96.0    33.0           28.0   \n1                 Juventus  ...      95.0    28.0           31.0   \n2      Paris Saint-Germain  ...      94.0    27.0           24.0   \n3        Manchester United  ...      68.0    15.0           21.0   \n4          Manchester City  ...      88.0    68.0           58.0   \n...                    ...  ...       ...     ...            ...   \n18202      Crewe Alexandra  ...      45.0    40.0           48.0   \n18203       Trelleborgs FF  ...      42.0    22.0           15.0   \n18204     Cambridge United  ...      41.0    32.0           13.0   \n18205      Tranmere Rovers  ...      46.0    20.0           25.0   \n18206      Tranmere Rovers  ...      43.0    40.0           43.0   \n\n       SlidingTackle GKDiving  GKHandling  GKKicking  GKPositioning  \\\n0               26.0      6.0        11.0       15.0           14.0   \n1               23.0      7.0        11.0       15.0           14.0   \n2               33.0      9.0         9.0       15.0           15.0   \n3               13.0     90.0        85.0       87.0           88.0   \n4               51.0     15.0        13.0        5.0           10.0   \n...              ...      ...         ...        ...            ...   \n18202           47.0     10.0        13.0        7.0            8.0   \n18203           19.0     10.0         9.0        9.0            5.0   \n18204           11.0      6.0         5.0       10.0            6.0   \n18205           27.0     14.0         6.0       14.0            8.0   \n18206           50.0     10.0        15.0        9.0           12.0   \n\n      GKReflexes Release Clause  \n0            8.0        €226.5M  \n1           11.0        €127.1M  \n2           11.0        €228.1M  \n3           94.0        €138.6M  \n4           13.0        €196.4M  \n...          ...            ...  \n18202        9.0          €143K  \n18203       12.0          €113K  \n18204       13.0          €165K  \n18205        9.0          €143K  \n18206        9.0          €165K  \n\n[18207 rows x 89 columns]",
      "text/html": "<div>\n<style scoped>\n    .dataframe tbody tr th:only-of-type {\n        vertical-align: middle;\n    }\n\n    .dataframe tbody tr th {\n        vertical-align: top;\n    }\n\n    .dataframe thead th {\n        text-align: right;\n    }\n</style>\n<table border=\"1\" class=\"dataframe\">\n  <thead>\n    <tr style=\"text-align: right;\">\n      <th></th>\n      <th>Unnamed: 0</th>\n      <th>ID</th>\n      <th>Name</th>\n      <th>Age</th>\n      <th>Photo</th>\n      <th>Nationality</th>\n      <th>Flag</th>\n      <th>Overall</th>\n      <th>Potential</th>\n      <th>Club</th>\n      <th>...</th>\n      <th>Composure</th>\n      <th>Marking</th>\n      <th>StandingTackle</th>\n      <th>SlidingTackle</th>\n      <th>GKDiving</th>\n      <th>GKHandling</th>\n      <th>GKKicking</th>\n      <th>GKPositioning</th>\n      <th>GKReflexes</th>\n      <th>Release Clause</th>\n    </tr>\n  </thead>\n  <tbody>\n    <tr>\n      <th>0</th>\n      <td>0</td>\n      <td>158023</td>\n      <td>L. Messi</td>\n      <td>31</td>\n      <td>https://cdn.sofifa.org/players/4/19/158023.png</td>\n      <td>Argentina</td>\n      <td>https://cdn.sofifa.org/flags/52.png</td>\n      <td>94</td>\n      <td>94</td>\n      <td>FC Barcelona</td>\n      <td>...</td>\n      <td>96.0</td>\n      <td>33.0</td>\n      <td>28.0</td>\n      <td>26.0</td>\n      <td>6.0</td>\n      <td>11.0</td>\n      <td>15.0</td>\n      <td>14.0</td>\n      <td>8.0</td>\n      <td>€226.5M</td>\n    </tr>\n    <tr>\n      <th>1</th>\n      <td>1</td>\n      <td>20801</td>\n      <td>Cristiano Ronaldo</td>\n      <td>33</td>\n      <td>https://cdn.sofifa.org/players/4/19/20801.png</td>\n      <td>Portugal</td>\n      <td>https://cdn.sofifa.org/flags/38.png</td>\n      <td>94</td>\n      <td>94</td>\n      <td>Juventus</td>\n      <td>...</td>\n      <td>95.0</td>\n      <td>28.0</td>\n      <td>31.0</td>\n      <td>23.0</td>\n      <td>7.0</td>\n      <td>11.0</td>\n      <td>15.0</td>\n      <td>14.0</td>\n      <td>11.0</td>\n      <td>€127.1M</td>\n    </tr>\n    <tr>\n      <th>2</th>\n      <td>2</td>\n      <td>190871</td>\n      <td>Neymar Jr</td>\n      <td>26</td>\n      <td>https://cdn.sofifa.org/players/4/19/190871.png</td>\n      <td>Brazil</td>\n      <td>https://cdn.sofifa.org/flags/54.png</td>\n      <td>92</td>\n      <td>93</td>\n      <td>Paris Saint-Germain</td>\n      <td>...</td>\n      <td>94.0</td>\n      <td>27.0</td>\n      <td>24.0</td>\n      <td>33.0</td>\n      <td>9.0</td>\n      <td>9.0</td>\n      <td>15.0</td>\n      <td>15.0</td>\n      <td>11.0</td>\n      <td>€228.1M</td>\n    </tr>\n    <tr>\n      <th>3</th>\n      <td>3</td>\n      <td>193080</td>\n      <td>De Gea</td>\n      <td>27</td>\n      <td>https://cdn.sofifa.org/players/4/19/193080.png</td>\n      <td>Spain</td>\n      <td>https://cdn.sofifa.org/flags/45.png</td>\n      <td>91</td>\n      <td>93</td>\n      <td>Manchester United</td>\n      <td>...</td>\n      <td>68.0</td>\n      <td>15.0</td>\n      <td>21.0</td>\n      <td>13.0</td>\n      <td>90.0</td>\n      <td>85.0</td>\n      <td>87.0</td>\n      <td>88.0</td>\n      <td>94.0</td>\n      <td>€138.6M</td>\n    </tr>\n    <tr>\n      <th>4</th>\n      <td>4</td>\n      <td>192985</td>\n      <td>K. De Bruyne</td>\n      <td>27</td>\n      <td>https://cdn.sofifa.org/players/4/19/192985.png</td>\n      <td>Belgium</td>\n      <td>https://cdn.sofifa.org/flags/7.png</td>\n      <td>91</td>\n      <td>92</td>\n      <td>Manchester City</td>\n      <td>...</td>\n      <td>88.0</td>\n      <td>68.0</td>\n      <td>58.0</td>\n      <td>51.0</td>\n      <td>15.0</td>\n      <td>13.0</td>\n      <td>5.0</td>\n      <td>10.0</td>\n      <td>13.0</td>\n      <td>€196.4M</td>\n    </tr>\n    <tr>\n      <th>5</th>\n      <td>5</td>\n      <td>183277</td>\n      <td>E. Hazard</td>\n      <td>27</td>\n      <td>https://cdn.sofifa.org/players/4/19/183277.png</td>\n      <td>Belgium</td>\n      <td>https://cdn.sofifa.org/flags/7.png</td>\n      <td>91</td>\n      <td>91</td>\n      <td>Chelsea</td>\n      <td>...</td>\n      <td>91.0</td>\n      <td>34.0</td>\n      <td>27.0</td>\n      <td>22.0</td>\n      <td>11.0</td>\n      <td>12.0</td>\n      <td>6.0</td>\n      <td>8.0</td>\n      <td>8.0</td>\n      <td>€172.1M</td>\n    </tr>\n    <tr>\n      <th>6</th>\n      <td>6</td>\n      <td>177003</td>\n      <td>L. Modrić</td>\n      <td>32</td>\n      <td>https://cdn.sofifa.org/players/4/19/177003.png</td>\n      <td>Croatia</td>\n      <td>https://cdn.sofifa.org/flags/10.png</td>\n      <td>91</td>\n      <td>91</td>\n      <td>Real Madrid</td>\n      <td>...</td>\n      <td>84.0</td>\n      <td>60.0</td>\n      <td>76.0</td>\n      <td>73.0</td>\n      <td>13.0</td>\n      <td>9.0</td>\n      <td>7.0</td>\n      <td>14.0</td>\n      <td>9.0</td>\n      <td>€137.4M</td>\n    </tr>\n    <tr>\n      <th>7</th>\n      <td>7</td>\n      <td>176580</td>\n      <td>L. Suárez</td>\n      <td>31</td>\n      <td>https://cdn.sofifa.org/players/4/19/176580.png</td>\n      <td>Uruguay</td>\n      <td>https://cdn.sofifa.org/flags/60.png</td>\n      <td>91</td>\n      <td>91</td>\n      <td>FC Barcelona</td>\n      <td>...</td>\n      <td>85.0</td>\n      <td>62.0</td>\n      <td>45.0</td>\n      <td>38.0</td>\n      <td>27.0</td>\n      <td>25.0</td>\n      <td>31.0</td>\n      <td>33.0</td>\n      <td>37.0</td>\n      <td>€164M</td>\n    </tr>\n    <tr>\n      <th>8</th>\n      <td>8</td>\n      <td>155862</td>\n      <td>Sergio Ramos</td>\n      <td>32</td>\n      <td>https://cdn.sofifa.org/players/4/19/155862.png</td>\n      <td>Spain</td>\n      <td>https://cdn.sofifa.org/flags/45.png</td>\n      <td>91</td>\n      <td>91</td>\n      <td>Real Madrid</td>\n      <td>...</td>\n      <td>82.0</td>\n      <td>87.0</td>\n      <td>92.0</td>\n      <td>91.0</td>\n      <td>11.0</td>\n      <td>8.0</td>\n      <td>9.0</td>\n      <td>7.0</td>\n      <td>11.0</td>\n      <td>€104.6M</td>\n    </tr>\n    <tr>\n      <th>9</th>\n      <td>9</td>\n      <td>200389</td>\n      <td>J. Oblak</td>\n      <td>25</td>\n      <td>https://cdn.sofifa.org/players/4/19/200389.png</td>\n      <td>Slovenia</td>\n      <td>https://cdn.sofifa.org/flags/44.png</td>\n      <td>90</td>\n      <td>93</td>\n      <td>Atlético Madrid</td>\n      <td>...</td>\n      <td>70.0</td>\n      <td>27.0</td>\n      <td>12.0</td>\n      <td>18.0</td>\n      <td>86.0</td>\n      <td>92.0</td>\n      <td>78.0</td>\n      <td>88.0</td>\n      <td>89.0</td>\n      <td>€144.5M</td>\n    </tr>\n    <tr>\n      <th>10</th>\n      <td>10</td>\n      <td>188545</td>\n      <td>R. Lewandowski</td>\n      <td>29</td>\n      <td>https://cdn.sofifa.org/players/4/19/188545.png</td>\n      <td>Poland</td>\n      <td>https://cdn.sofifa.org/flags/37.png</td>\n      <td>90</td>\n      <td>90</td>\n      <td>FC Bayern München</td>\n      <td>...</td>\n      <td>86.0</td>\n      <td>34.0</td>\n      <td>42.0</td>\n      <td>19.0</td>\n      <td>15.0</td>\n      <td>6.0</td>\n      <td>12.0</td>\n      <td>8.0</td>\n      <td>10.0</td>\n      <td>€127.1M</td>\n    </tr>\n    <tr>\n      <th>11</th>\n      <td>11</td>\n      <td>182521</td>\n      <td>T. Kroos</td>\n      <td>28</td>\n      <td>https://cdn.sofifa.org/players/4/19/182521.png</td>\n      <td>Germany</td>\n      <td>https://cdn.sofifa.org/flags/21.png</td>\n      <td>90</td>\n      <td>90</td>\n      <td>Real Madrid</td>\n      <td>...</td>\n      <td>85.0</td>\n      <td>72.0</td>\n      <td>79.0</td>\n      <td>69.0</td>\n      <td>10.0</td>\n      <td>11.0</td>\n      <td>13.0</td>\n      <td>7.0</td>\n      <td>10.0</td>\n      <td>€156.8M</td>\n    </tr>\n    <tr>\n      <th>12</th>\n      <td>12</td>\n      <td>182493</td>\n      <td>D. Godín</td>\n      <td>32</td>\n      <td>https://cdn.sofifa.org/players/4/19/182493.png</td>\n      <td>Uruguay</td>\n      <td>https://cdn.sofifa.org/flags/60.png</td>\n      <td>90</td>\n      <td>90</td>\n      <td>Atlético Madrid</td>\n      <td>...</td>\n      <td>82.0</td>\n      <td>90.0</td>\n      <td>89.0</td>\n      <td>89.0</td>\n      <td>6.0</td>\n      <td>8.0</td>\n      <td>15.0</td>\n      <td>5.0</td>\n      <td>15.0</td>\n      <td>€90.2M</td>\n    </tr>\n    <tr>\n      <th>13</th>\n      <td>13</td>\n      <td>168542</td>\n      <td>David Silva</td>\n      <td>32</td>\n      <td>https://cdn.sofifa.org/players/4/19/168542.png</td>\n      <td>Spain</td>\n      <td>https://cdn.sofifa.org/flags/45.png</td>\n      <td>90</td>\n      <td>90</td>\n      <td>Manchester City</td>\n      <td>...</td>\n      <td>93.0</td>\n      <td>59.0</td>\n      <td>53.0</td>\n      <td>29.0</td>\n      <td>6.0</td>\n      <td>15.0</td>\n      <td>7.0</td>\n      <td>6.0</td>\n      <td>12.0</td>\n      <td>€111M</td>\n    </tr>\n    <tr>\n      <th>14</th>\n      <td>14</td>\n      <td>215914</td>\n      <td>N. Kanté</td>\n      <td>27</td>\n      <td>https://cdn.sofifa.org/players/4/19/215914.png</td>\n      <td>France</td>\n      <td>https://cdn.sofifa.org/flags/18.png</td>\n      <td>89</td>\n      <td>90</td>\n      <td>Chelsea</td>\n      <td>...</td>\n      <td>85.0</td>\n      <td>90.0</td>\n      <td>91.0</td>\n      <td>85.0</td>\n      <td>15.0</td>\n      <td>12.0</td>\n      <td>10.0</td>\n      <td>7.0</td>\n      <td>10.0</td>\n      <td>€121.3M</td>\n    </tr>\n    <tr>\n      <th>15</th>\n      <td>15</td>\n      <td>211110</td>\n      <td>P. Dybala</td>\n      <td>24</td>\n      <td>https://cdn.sofifa.org/players/4/19/211110.png</td>\n      <td>Argentina</td>\n      <td>https://cdn.sofifa.org/flags/52.png</td>\n      <td>89</td>\n      <td>94</td>\n      <td>Juventus</td>\n      <td>...</td>\n      <td>84.0</td>\n      <td>23.0</td>\n      <td>20.0</td>\n      <td>20.0</td>\n      <td>5.0</td>\n      <td>4.0</td>\n      <td>4.0</td>\n      <td>5.0</td>\n      <td>8.0</td>\n      <td>€153.5M</td>\n    </tr>\n    <tr>\n      <th>16</th>\n      <td>16</td>\n      <td>202126</td>\n      <td>H. Kane</td>\n      <td>24</td>\n      <td>https://cdn.sofifa.org/players/4/19/202126.png</td>\n      <td>England</td>\n      <td>https://cdn.sofifa.org/flags/14.png</td>\n      <td>89</td>\n      <td>91</td>\n      <td>Tottenham Hotspur</td>\n      <td>...</td>\n      <td>89.0</td>\n      <td>56.0</td>\n      <td>36.0</td>\n      <td>38.0</td>\n      <td>8.0</td>\n      <td>10.0</td>\n      <td>11.0</td>\n      <td>14.0</td>\n      <td>11.0</td>\n      <td>€160.7M</td>\n    </tr>\n    <tr>\n      <th>17</th>\n      <td>17</td>\n      <td>194765</td>\n      <td>A. Griezmann</td>\n      <td>27</td>\n      <td>https://cdn.sofifa.org/players/4/19/194765.png</td>\n      <td>France</td>\n      <td>https://cdn.sofifa.org/flags/18.png</td>\n      <td>89</td>\n      <td>90</td>\n      <td>Atlético Madrid</td>\n      <td>...</td>\n      <td>87.0</td>\n      <td>59.0</td>\n      <td>47.0</td>\n      <td>48.0</td>\n      <td>14.0</td>\n      <td>8.0</td>\n      <td>14.0</td>\n      <td>13.0</td>\n      <td>14.0</td>\n      <td>€165.8M</td>\n    </tr>\n    <tr>\n      <th>18</th>\n      <td>18</td>\n      <td>192448</td>\n      <td>M. ter Stegen</td>\n      <td>26</td>\n      <td>https://cdn.sofifa.org/players/4/19/192448.png</td>\n      <td>Germany</td>\n      <td>https://cdn.sofifa.org/flags/21.png</td>\n      <td>89</td>\n      <td>92</td>\n      <td>FC Barcelona</td>\n      <td>...</td>\n      <td>69.0</td>\n      <td>25.0</td>\n      <td>13.0</td>\n      <td>10.0</td>\n      <td>87.0</td>\n      <td>85.0</td>\n      <td>88.0</td>\n      <td>85.0</td>\n      <td>90.0</td>\n      <td>€123.3M</td>\n    </tr>\n    <tr>\n      <th>19</th>\n      <td>19</td>\n      <td>192119</td>\n      <td>T. Courtois</td>\n      <td>26</td>\n      <td>https://cdn.sofifa.org/players/4/19/192119.png</td>\n      <td>Belgium</td>\n      <td>https://cdn.sofifa.org/flags/7.png</td>\n      <td>89</td>\n      <td>90</td>\n      <td>Real Madrid</td>\n      <td>...</td>\n      <td>66.0</td>\n      <td>20.0</td>\n      <td>18.0</td>\n      <td>16.0</td>\n      <td>85.0</td>\n      <td>91.0</td>\n      <td>72.0</td>\n      <td>86.0</td>\n      <td>88.0</td>\n      <td>€113.7M</td>\n    </tr>\n    <tr>\n      <th>20</th>\n      <td>20</td>\n      <td>189511</td>\n      <td>Sergio Busquets</td>\n      <td>29</td>\n      <td>https://cdn.sofifa.org/players/4/19/189511.png</td>\n      <td>Spain</td>\n      <td>https://cdn.sofifa.org/flags/45.png</td>\n      <td>89</td>\n      <td>89</td>\n      <td>FC Barcelona</td>\n      <td>...</td>\n      <td>90.0</td>\n      <td>90.0</td>\n      <td>86.0</td>\n      <td>80.0</td>\n      <td>5.0</td>\n      <td>8.0</td>\n      <td>13.0</td>\n      <td>9.0</td>\n      <td>13.0</td>\n      <td>€105.6M</td>\n    </tr>\n    <tr>\n      <th>21</th>\n      <td>21</td>\n      <td>179813</td>\n      <td>E. Cavani</td>\n      <td>31</td>\n      <td>https://cdn.sofifa.org/players/4/19/179813.png</td>\n      <td>Uruguay</td>\n      <td>https://cdn.sofifa.org/flags/60.png</td>\n      <td>89</td>\n      <td>89</td>\n      <td>Paris Saint-Germain</td>\n      <td>...</td>\n      <td>82.0</td>\n      <td>52.0</td>\n      <td>45.0</td>\n      <td>39.0</td>\n      <td>12.0</td>\n      <td>5.0</td>\n      <td>13.0</td>\n      <td>13.0</td>\n      <td>10.0</td>\n      <td>€111M</td>\n    </tr>\n    <tr>\n      <th>22</th>\n      <td>22</td>\n      <td>167495</td>\n      <td>M. Neuer</td>\n      <td>32</td>\n      <td>https://cdn.sofifa.org/players/4/19/167495.png</td>\n      <td>Germany</td>\n      <td>https://cdn.sofifa.org/flags/21.png</td>\n      <td>89</td>\n      <td>89</td>\n      <td>FC Bayern München</td>\n      <td>...</td>\n      <td>70.0</td>\n      <td>17.0</td>\n      <td>10.0</td>\n      <td>11.0</td>\n      <td>90.0</td>\n      <td>86.0</td>\n      <td>91.0</td>\n      <td>87.0</td>\n      <td>87.0</td>\n      <td>€62.7M</td>\n    </tr>\n    <tr>\n      <th>23</th>\n      <td>23</td>\n      <td>153079</td>\n      <td>S. Agüero</td>\n      <td>30</td>\n      <td>https://cdn.sofifa.org/players/4/19/153079.png</td>\n      <td>Argentina</td>\n      <td>https://cdn.sofifa.org/flags/52.png</td>\n      <td>89</td>\n      <td>89</td>\n      <td>Manchester City</td>\n      <td>...</td>\n      <td>90.0</td>\n      <td>30.0</td>\n      <td>20.0</td>\n      <td>12.0</td>\n      <td>13.0</td>\n      <td>15.0</td>\n      <td>6.0</td>\n      <td>11.0</td>\n      <td>14.0</td>\n      <td>€119.3M</td>\n    </tr>\n    <tr>\n      <th>24</th>\n      <td>24</td>\n      <td>138956</td>\n      <td>G. Chiellini</td>\n      <td>33</td>\n      <td>https://cdn.sofifa.org/players/4/19/138956.png</td>\n      <td>Italy</td>\n      <td>https://cdn.sofifa.org/flags/27.png</td>\n      <td>89</td>\n      <td>89</td>\n      <td>Juventus</td>\n      <td>...</td>\n      <td>84.0</td>\n      <td>93.0</td>\n      <td>93.0</td>\n      <td>90.0</td>\n      <td>3.0</td>\n      <td>3.0</td>\n      <td>2.0</td>\n      <td>4.0</td>\n      <td>3.0</td>\n      <td>€44.6M</td>\n    </tr>\n    <tr>\n      <th>25</th>\n      <td>25</td>\n      <td>231747</td>\n      <td>K. Mbappé</td>\n      <td>19</td>\n      <td>https://cdn.sofifa.org/players/4/19/231747.png</td>\n      <td>France</td>\n      <td>https://cdn.sofifa.org/flags/18.png</td>\n      <td>88</td>\n      <td>95</td>\n      <td>Paris Saint-Germain</td>\n      <td>...</td>\n      <td>86.0</td>\n      <td>34.0</td>\n      <td>34.0</td>\n      <td>32.0</td>\n      <td>13.0</td>\n      <td>5.0</td>\n      <td>7.0</td>\n      <td>11.0</td>\n      <td>6.0</td>\n      <td>€166.1M</td>\n    </tr>\n    <tr>\n      <th>26</th>\n      <td>26</td>\n      <td>209331</td>\n      <td>M. Salah</td>\n      <td>26</td>\n      <td>https://cdn.sofifa.org/players/4/19/209331.png</td>\n      <td>Egypt</td>\n      <td>https://cdn.sofifa.org/flags/111.png</td>\n      <td>88</td>\n      <td>89</td>\n      <td>Liverpool</td>\n      <td>...</td>\n      <td>91.0</td>\n      <td>38.0</td>\n      <td>43.0</td>\n      <td>41.0</td>\n      <td>14.0</td>\n      <td>14.0</td>\n      <td>9.0</td>\n      <td>11.0</td>\n      <td>14.0</td>\n      <td>€137.3M</td>\n    </tr>\n    <tr>\n      <th>27</th>\n      <td>27</td>\n      <td>200145</td>\n      <td>Casemiro</td>\n      <td>26</td>\n      <td>https://cdn.sofifa.org/players/4/19/200145.png</td>\n      <td>Brazil</td>\n      <td>https://cdn.sofifa.org/flags/54.png</td>\n      <td>88</td>\n      <td>90</td>\n      <td>Real Madrid</td>\n      <td>...</td>\n      <td>84.0</td>\n      <td>88.0</td>\n      <td>90.0</td>\n      <td>87.0</td>\n      <td>13.0</td>\n      <td>14.0</td>\n      <td>16.0</td>\n      <td>12.0</td>\n      <td>12.0</td>\n      <td>€126.4M</td>\n    </tr>\n    <tr>\n      <th>28</th>\n      <td>28</td>\n      <td>198710</td>\n      <td>J. Rodríguez</td>\n      <td>26</td>\n      <td>https://cdn.sofifa.org/players/4/19/198710.png</td>\n      <td>Colombia</td>\n      <td>https://cdn.sofifa.org/flags/56.png</td>\n      <td>88</td>\n      <td>89</td>\n      <td>FC Bayern München</td>\n      <td>...</td>\n      <td>87.0</td>\n      <td>52.0</td>\n      <td>41.0</td>\n      <td>44.0</td>\n      <td>15.0</td>\n      <td>15.0</td>\n      <td>15.0</td>\n      <td>5.0</td>\n      <td>14.0</td>\n      <td>NaN</td>\n    </tr>\n    <tr>\n      <th>29</th>\n      <td>29</td>\n      <td>198219</td>\n      <td>L. Insigne</td>\n      <td>27</td>\n      <td>https://cdn.sofifa.org/players/4/19/198219.png</td>\n      <td>Italy</td>\n      <td>https://cdn.sofifa.org/flags/27.png</td>\n      <td>88</td>\n      <td>88</td>\n      <td>Napoli</td>\n      <td>...</td>\n      <td>83.0</td>\n      <td>51.0</td>\n      <td>24.0</td>\n      <td>22.0</td>\n      <td>8.0</td>\n      <td>4.0</td>\n      <td>14.0</td>\n      <td>9.0</td>\n      <td>10.0</td>\n      <td>€105.4M</td>\n    </tr>\n    <tr>\n      <th>...</th>\n      <td>...</td>\n      <td>...</td>\n      <td>...</td>\n      <td>...</td>\n      <td>...</td>\n      <td>...</td>\n      <td>...</td>\n      <td>...</td>\n      <td>...</td>\n      <td>...</td>\n      <td>...</td>\n      <td>...</td>\n      <td>...</td>\n      <td>...</td>\n      <td>...</td>\n      <td>...</td>\n      <td>...</td>\n      <td>...</td>\n      <td>...</td>\n      <td>...</td>\n      <td>...</td>\n    </tr>\n    <tr>\n      <th>18177</th>\n      <td>18177</td>\n      <td>238550</td>\n      <td>R. Roache</td>\n      <td>18</td>\n      <td>https://cdn.sofifa.org/players/4/19/238550.png</td>\n      <td>Republic of Ireland</td>\n      <td>https://cdn.sofifa.org/flags/25.png</td>\n      <td>48</td>\n      <td>69</td>\n      <td>Blackpool</td>\n      <td>...</td>\n      <td>49.0</td>\n      <td>18.0</td>\n      <td>16.0</td>\n      <td>11.0</td>\n      <td>6.0</td>\n      <td>9.0</td>\n      <td>11.0</td>\n      <td>7.0</td>\n      <td>12.0</td>\n      <td>€193K</td>\n    </tr>\n    <tr>\n      <th>18178</th>\n      <td>18178</td>\n      <td>243158</td>\n      <td>L. Wahlstedt</td>\n      <td>18</td>\n      <td>https://cdn.sofifa.org/players/4/19/243158.png</td>\n      <td>Sweden</td>\n      <td>https://cdn.sofifa.org/flags/46.png</td>\n      <td>48</td>\n      <td>65</td>\n      <td>Dalkurd FF</td>\n      <td>...</td>\n      <td>28.0</td>\n      <td>16.0</td>\n      <td>11.0</td>\n      <td>10.0</td>\n      <td>47.0</td>\n      <td>46.0</td>\n      <td>50.0</td>\n      <td>45.0</td>\n      <td>51.0</td>\n      <td>€94K</td>\n    </tr>\n    <tr>\n      <th>18179</th>\n      <td>18179</td>\n      <td>246243</td>\n      <td>J. Williams</td>\n      <td>17</td>\n      <td>https://cdn.sofifa.org/players/4/19/246243.png</td>\n      <td>England</td>\n      <td>https://cdn.sofifa.org/flags/14.png</td>\n      <td>48</td>\n      <td>64</td>\n      <td>Northampton Town</td>\n      <td>...</td>\n      <td>37.0</td>\n      <td>42.0</td>\n      <td>51.0</td>\n      <td>49.0</td>\n      <td>14.0</td>\n      <td>11.0</td>\n      <td>7.0</td>\n      <td>11.0</td>\n      <td>8.0</td>\n      <td>€119K</td>\n    </tr>\n    <tr>\n      <th>18180</th>\n      <td>18180</td>\n      <td>221669</td>\n      <td>M. Hurst</td>\n      <td>22</td>\n      <td>https://cdn.sofifa.org/players/4/19/221669.png</td>\n      <td>Scotland</td>\n      <td>https://cdn.sofifa.org/flags/42.png</td>\n      <td>48</td>\n      <td>58</td>\n      <td>St. Johnstone FC</td>\n      <td>...</td>\n      <td>28.0</td>\n      <td>12.0</td>\n      <td>15.0</td>\n      <td>16.0</td>\n      <td>45.0</td>\n      <td>49.0</td>\n      <td>50.0</td>\n      <td>50.0</td>\n      <td>45.0</td>\n      <td>€78K</td>\n    </tr>\n    <tr>\n      <th>18181</th>\n      <td>18181</td>\n      <td>245734</td>\n      <td>C. Maher</td>\n      <td>17</td>\n      <td>https://cdn.sofifa.org/players/4/19/245734.png</td>\n      <td>Republic of Ireland</td>\n      <td>https://cdn.sofifa.org/flags/25.png</td>\n      <td>48</td>\n      <td>66</td>\n      <td>Bray Wanderers</td>\n      <td>...</td>\n      <td>38.0</td>\n      <td>43.0</td>\n      <td>49.0</td>\n      <td>45.0</td>\n      <td>8.0</td>\n      <td>10.0</td>\n      <td>12.0</td>\n      <td>9.0</td>\n      <td>10.0</td>\n      <td>€109K</td>\n    </tr>\n    <tr>\n      <th>18182</th>\n      <td>18182</td>\n      <td>246001</td>\n      <td>Y. Góez</td>\n      <td>18</td>\n      <td>https://cdn.sofifa.org/players/4/19/246001.png</td>\n      <td>Colombia</td>\n      <td>https://cdn.sofifa.org/flags/56.png</td>\n      <td>48</td>\n      <td>65</td>\n      <td>Atlético Nacional</td>\n      <td>...</td>\n      <td>38.0</td>\n      <td>44.0</td>\n      <td>42.0</td>\n      <td>46.0</td>\n      <td>9.0</td>\n      <td>15.0</td>\n      <td>15.0</td>\n      <td>8.0</td>\n      <td>6.0</td>\n      <td>€101K</td>\n    </tr>\n    <tr>\n      <th>18183</th>\n      <td>18183</td>\n      <td>53748</td>\n      <td>K. Pilkington</td>\n      <td>44</td>\n      <td>https://cdn.sofifa.org/players/4/19/53748.png</td>\n      <td>England</td>\n      <td>https://cdn.sofifa.org/flags/14.png</td>\n      <td>48</td>\n      <td>48</td>\n      <td>Cambridge United</td>\n      <td>...</td>\n      <td>56.0</td>\n      <td>15.0</td>\n      <td>15.0</td>\n      <td>13.0</td>\n      <td>45.0</td>\n      <td>48.0</td>\n      <td>44.0</td>\n      <td>49.0</td>\n      <td>46.0</td>\n      <td>NaN</td>\n    </tr>\n    <tr>\n      <th>18184</th>\n      <td>18184</td>\n      <td>241657</td>\n      <td>D. Horton</td>\n      <td>18</td>\n      <td>https://cdn.sofifa.org/players/4/19/241657.png</td>\n      <td>England</td>\n      <td>https://cdn.sofifa.org/flags/14.png</td>\n      <td>48</td>\n      <td>55</td>\n      <td>Lincoln City</td>\n      <td>...</td>\n      <td>42.0</td>\n      <td>47.0</td>\n      <td>49.0</td>\n      <td>53.0</td>\n      <td>12.0</td>\n      <td>5.0</td>\n      <td>12.0</td>\n      <td>14.0</td>\n      <td>15.0</td>\n      <td>€78K</td>\n    </tr>\n    <tr>\n      <th>18185</th>\n      <td>18185</td>\n      <td>243961</td>\n      <td>E. Tweed</td>\n      <td>19</td>\n      <td>https://cdn.sofifa.org/players/4/19/243961.png</td>\n      <td>Republic of Ireland</td>\n      <td>https://cdn.sofifa.org/flags/25.png</td>\n      <td>48</td>\n      <td>59</td>\n      <td>Derry City</td>\n      <td>...</td>\n      <td>43.0</td>\n      <td>39.0</td>\n      <td>39.0</td>\n      <td>48.0</td>\n      <td>6.0</td>\n      <td>11.0</td>\n      <td>9.0</td>\n      <td>5.0</td>\n      <td>8.0</td>\n      <td>€88K</td>\n    </tr>\n    <tr>\n      <th>18186</th>\n      <td>18186</td>\n      <td>240917</td>\n      <td>Zhang Yufeng</td>\n      <td>20</td>\n      <td>https://cdn.sofifa.org/players/4/19/240917.png</td>\n      <td>China PR</td>\n      <td>https://cdn.sofifa.org/flags/155.png</td>\n      <td>47</td>\n      <td>64</td>\n      <td>Beijing Renhe FC</td>\n      <td>...</td>\n      <td>39.0</td>\n      <td>53.0</td>\n      <td>41.0</td>\n      <td>51.0</td>\n      <td>15.0</td>\n      <td>7.0</td>\n      <td>14.0</td>\n      <td>6.0</td>\n      <td>8.0</td>\n      <td>€167K</td>\n    </tr>\n    <tr>\n      <th>18187</th>\n      <td>18187</td>\n      <td>240158</td>\n      <td>C. Ehlich</td>\n      <td>19</td>\n      <td>https://cdn.sofifa.org/players/4/19/240158.png</td>\n      <td>Germany</td>\n      <td>https://cdn.sofifa.org/flags/21.png</td>\n      <td>47</td>\n      <td>59</td>\n      <td>SpVgg Unterhaching</td>\n      <td>...</td>\n      <td>47.0</td>\n      <td>40.0</td>\n      <td>42.0</td>\n      <td>42.0</td>\n      <td>13.0</td>\n      <td>12.0</td>\n      <td>11.0</td>\n      <td>15.0</td>\n      <td>12.0</td>\n      <td>€66K</td>\n    </tr>\n    <tr>\n      <th>18188</th>\n      <td>18188</td>\n      <td>240927</td>\n      <td>L. Collins</td>\n      <td>17</td>\n      <td>https://cdn.sofifa.org/players/4/19/240927.png</td>\n      <td>Wales</td>\n      <td>https://cdn.sofifa.org/flags/50.png</td>\n      <td>47</td>\n      <td>62</td>\n      <td>Newport County</td>\n      <td>...</td>\n      <td>46.0</td>\n      <td>33.0</td>\n      <td>38.0</td>\n      <td>41.0</td>\n      <td>5.0</td>\n      <td>12.0</td>\n      <td>8.0</td>\n      <td>13.0</td>\n      <td>10.0</td>\n      <td>€143K</td>\n    </tr>\n    <tr>\n      <th>18189</th>\n      <td>18189</td>\n      <td>240160</td>\n      <td>A. Kaltner</td>\n      <td>18</td>\n      <td>https://cdn.sofifa.org/players/4/19/240160.png</td>\n      <td>Germany</td>\n      <td>https://cdn.sofifa.org/flags/21.png</td>\n      <td>47</td>\n      <td>61</td>\n      <td>SpVgg Unterhaching</td>\n      <td>...</td>\n      <td>37.0</td>\n      <td>28.0</td>\n      <td>15.0</td>\n      <td>22.0</td>\n      <td>15.0</td>\n      <td>5.0</td>\n      <td>14.0</td>\n      <td>12.0</td>\n      <td>8.0</td>\n      <td>€125K</td>\n    </tr>\n    <tr>\n      <th>18190</th>\n      <td>18190</td>\n      <td>245569</td>\n      <td>L. Watkins</td>\n      <td>18</td>\n      <td>https://cdn.sofifa.org/players/4/19/245569.png</td>\n      <td>England</td>\n      <td>https://cdn.sofifa.org/flags/14.png</td>\n      <td>47</td>\n      <td>67</td>\n      <td>Cambridge United</td>\n      <td>...</td>\n      <td>46.0</td>\n      <td>35.0</td>\n      <td>44.0</td>\n      <td>47.0</td>\n      <td>13.0</td>\n      <td>7.0</td>\n      <td>14.0</td>\n      <td>10.0</td>\n      <td>8.0</td>\n      <td>€165K</td>\n    </tr>\n    <tr>\n      <th>18191</th>\n      <td>18191</td>\n      <td>245570</td>\n      <td>J. Norville-Williams</td>\n      <td>18</td>\n      <td>https://cdn.sofifa.org/players/4/19/245570.png</td>\n      <td>England</td>\n      <td>https://cdn.sofifa.org/flags/14.png</td>\n      <td>47</td>\n      <td>65</td>\n      <td>Cambridge United</td>\n      <td>...</td>\n      <td>36.0</td>\n      <td>45.0</td>\n      <td>42.0</td>\n      <td>46.0</td>\n      <td>15.0</td>\n      <td>13.0</td>\n      <td>6.0</td>\n      <td>14.0</td>\n      <td>12.0</td>\n      <td>€119K</td>\n    </tr>\n    <tr>\n      <th>18192</th>\n      <td>18192</td>\n      <td>245571</td>\n      <td>S. Squire</td>\n      <td>18</td>\n      <td>https://cdn.sofifa.org/players/4/19/245571.png</td>\n      <td>England</td>\n      <td>https://cdn.sofifa.org/flags/14.png</td>\n      <td>47</td>\n      <td>64</td>\n      <td>Cambridge United</td>\n      <td>...</td>\n      <td>38.0</td>\n      <td>41.0</td>\n      <td>41.0</td>\n      <td>44.0</td>\n      <td>11.0</td>\n      <td>11.0</td>\n      <td>8.0</td>\n      <td>12.0</td>\n      <td>13.0</td>\n      <td>€119K</td>\n    </tr>\n    <tr>\n      <th>18193</th>\n      <td>18193</td>\n      <td>244823</td>\n      <td>N. Fuentes</td>\n      <td>18</td>\n      <td>https://cdn.sofifa.org/players/4/19/244823.png</td>\n      <td>Chile</td>\n      <td>https://cdn.sofifa.org/flags/55.png</td>\n      <td>47</td>\n      <td>64</td>\n      <td>Unión Española</td>\n      <td>...</td>\n      <td>32.0</td>\n      <td>41.0</td>\n      <td>48.0</td>\n      <td>48.0</td>\n      <td>6.0</td>\n      <td>10.0</td>\n      <td>6.0</td>\n      <td>12.0</td>\n      <td>11.0</td>\n      <td>€99K</td>\n    </tr>\n    <tr>\n      <th>18194</th>\n      <td>18194</td>\n      <td>245862</td>\n      <td>J. Milli</td>\n      <td>18</td>\n      <td>https://cdn.sofifa.org/players/4/19/245862.png</td>\n      <td>Italy</td>\n      <td>https://cdn.sofifa.org/flags/27.png</td>\n      <td>47</td>\n      <td>65</td>\n      <td>Lecce</td>\n      <td>...</td>\n      <td>23.0</td>\n      <td>6.0</td>\n      <td>10.0</td>\n      <td>11.0</td>\n      <td>52.0</td>\n      <td>52.0</td>\n      <td>52.0</td>\n      <td>40.0</td>\n      <td>44.0</td>\n      <td>€109K</td>\n    </tr>\n    <tr>\n      <th>18195</th>\n      <td>18195</td>\n      <td>243582</td>\n      <td>S. Griffin</td>\n      <td>18</td>\n      <td>https://cdn.sofifa.org/players/4/19/243582.png</td>\n      <td>Republic of Ireland</td>\n      <td>https://cdn.sofifa.org/flags/25.png</td>\n      <td>47</td>\n      <td>67</td>\n      <td>Waterford FC</td>\n      <td>...</td>\n      <td>41.0</td>\n      <td>44.0</td>\n      <td>37.0</td>\n      <td>48.0</td>\n      <td>13.0</td>\n      <td>14.0</td>\n      <td>12.0</td>\n      <td>7.0</td>\n      <td>13.0</td>\n      <td>€153K</td>\n    </tr>\n    <tr>\n      <th>18196</th>\n      <td>18196</td>\n      <td>238477</td>\n      <td>K. Fujikawa</td>\n      <td>19</td>\n      <td>https://cdn.sofifa.org/players/4/19/238477.png</td>\n      <td>Japan</td>\n      <td>https://cdn.sofifa.org/flags/163.png</td>\n      <td>47</td>\n      <td>61</td>\n      <td>Júbilo Iwata</td>\n      <td>...</td>\n      <td>35.0</td>\n      <td>41.0</td>\n      <td>44.0</td>\n      <td>54.0</td>\n      <td>10.0</td>\n      <td>12.0</td>\n      <td>6.0</td>\n      <td>11.0</td>\n      <td>8.0</td>\n      <td>€113K</td>\n    </tr>\n    <tr>\n      <th>18197</th>\n      <td>18197</td>\n      <td>246167</td>\n      <td>D. Holland</td>\n      <td>18</td>\n      <td>https://cdn.sofifa.org/players/4/19/246167.png</td>\n      <td>Republic of Ireland</td>\n      <td>https://cdn.sofifa.org/flags/25.png</td>\n      <td>47</td>\n      <td>61</td>\n      <td>Cork City</td>\n      <td>...</td>\n      <td>52.0</td>\n      <td>41.0</td>\n      <td>47.0</td>\n      <td>38.0</td>\n      <td>13.0</td>\n      <td>6.0</td>\n      <td>9.0</td>\n      <td>10.0</td>\n      <td>15.0</td>\n      <td>€88K</td>\n    </tr>\n    <tr>\n      <th>18198</th>\n      <td>18198</td>\n      <td>242844</td>\n      <td>J. Livesey</td>\n      <td>18</td>\n      <td>https://cdn.sofifa.org/players/4/19/242844.png</td>\n      <td>England</td>\n      <td>https://cdn.sofifa.org/flags/14.png</td>\n      <td>47</td>\n      <td>70</td>\n      <td>Burton Albion</td>\n      <td>...</td>\n      <td>34.0</td>\n      <td>15.0</td>\n      <td>11.0</td>\n      <td>13.0</td>\n      <td>46.0</td>\n      <td>52.0</td>\n      <td>58.0</td>\n      <td>42.0</td>\n      <td>48.0</td>\n      <td>€165K</td>\n    </tr>\n    <tr>\n      <th>18199</th>\n      <td>18199</td>\n      <td>244677</td>\n      <td>M. Baldisimo</td>\n      <td>18</td>\n      <td>https://cdn.sofifa.org/players/4/19/244677.png</td>\n      <td>Canada</td>\n      <td>https://cdn.sofifa.org/flags/70.png</td>\n      <td>47</td>\n      <td>69</td>\n      <td>Vancouver Whitecaps FC</td>\n      <td>...</td>\n      <td>40.0</td>\n      <td>48.0</td>\n      <td>49.0</td>\n      <td>49.0</td>\n      <td>7.0</td>\n      <td>7.0</td>\n      <td>9.0</td>\n      <td>14.0</td>\n      <td>15.0</td>\n      <td>€175K</td>\n    </tr>\n    <tr>\n      <th>18200</th>\n      <td>18200</td>\n      <td>231381</td>\n      <td>J. Young</td>\n      <td>18</td>\n      <td>https://cdn.sofifa.org/players/4/19/231381.png</td>\n      <td>Scotland</td>\n      <td>https://cdn.sofifa.org/flags/42.png</td>\n      <td>47</td>\n      <td>62</td>\n      <td>Swindon Town</td>\n      <td>...</td>\n      <td>50.0</td>\n      <td>15.0</td>\n      <td>17.0</td>\n      <td>14.0</td>\n      <td>11.0</td>\n      <td>15.0</td>\n      <td>12.0</td>\n      <td>12.0</td>\n      <td>11.0</td>\n      <td>€143K</td>\n    </tr>\n    <tr>\n      <th>18201</th>\n      <td>18201</td>\n      <td>243413</td>\n      <td>D. Walsh</td>\n      <td>18</td>\n      <td>https://cdn.sofifa.org/players/4/19/243413.png</td>\n      <td>Republic of Ireland</td>\n      <td>https://cdn.sofifa.org/flags/25.png</td>\n      <td>47</td>\n      <td>68</td>\n      <td>Waterford FC</td>\n      <td>...</td>\n      <td>43.0</td>\n      <td>44.0</td>\n      <td>47.0</td>\n      <td>53.0</td>\n      <td>9.0</td>\n      <td>10.0</td>\n      <td>9.0</td>\n      <td>11.0</td>\n      <td>13.0</td>\n      <td>€153K</td>\n    </tr>\n    <tr>\n      <th>18202</th>\n      <td>18202</td>\n      <td>238813</td>\n      <td>J. Lundstram</td>\n      <td>19</td>\n      <td>https://cdn.sofifa.org/players/4/19/238813.png</td>\n      <td>England</td>\n      <td>https://cdn.sofifa.org/flags/14.png</td>\n      <td>47</td>\n      <td>65</td>\n      <td>Crewe Alexandra</td>\n      <td>...</td>\n      <td>45.0</td>\n      <td>40.0</td>\n      <td>48.0</td>\n      <td>47.0</td>\n      <td>10.0</td>\n      <td>13.0</td>\n      <td>7.0</td>\n      <td>8.0</td>\n      <td>9.0</td>\n      <td>€143K</td>\n    </tr>\n    <tr>\n      <th>18203</th>\n      <td>18203</td>\n      <td>243165</td>\n      <td>N. Christoffersson</td>\n      <td>19</td>\n      <td>https://cdn.sofifa.org/players/4/19/243165.png</td>\n      <td>Sweden</td>\n      <td>https://cdn.sofifa.org/flags/46.png</td>\n      <td>47</td>\n      <td>63</td>\n      <td>Trelleborgs FF</td>\n      <td>...</td>\n      <td>42.0</td>\n      <td>22.0</td>\n      <td>15.0</td>\n      <td>19.0</td>\n      <td>10.0</td>\n      <td>9.0</td>\n      <td>9.0</td>\n      <td>5.0</td>\n      <td>12.0</td>\n      <td>€113K</td>\n    </tr>\n    <tr>\n      <th>18204</th>\n      <td>18204</td>\n      <td>241638</td>\n      <td>B. Worman</td>\n      <td>16</td>\n      <td>https://cdn.sofifa.org/players/4/19/241638.png</td>\n      <td>England</td>\n      <td>https://cdn.sofifa.org/flags/14.png</td>\n      <td>47</td>\n      <td>67</td>\n      <td>Cambridge United</td>\n      <td>...</td>\n      <td>41.0</td>\n      <td>32.0</td>\n      <td>13.0</td>\n      <td>11.0</td>\n      <td>6.0</td>\n      <td>5.0</td>\n      <td>10.0</td>\n      <td>6.0</td>\n      <td>13.0</td>\n      <td>€165K</td>\n    </tr>\n    <tr>\n      <th>18205</th>\n      <td>18205</td>\n      <td>246268</td>\n      <td>D. Walker-Rice</td>\n      <td>17</td>\n      <td>https://cdn.sofifa.org/players/4/19/246268.png</td>\n      <td>England</td>\n      <td>https://cdn.sofifa.org/flags/14.png</td>\n      <td>47</td>\n      <td>66</td>\n      <td>Tranmere Rovers</td>\n      <td>...</td>\n      <td>46.0</td>\n      <td>20.0</td>\n      <td>25.0</td>\n      <td>27.0</td>\n      <td>14.0</td>\n      <td>6.0</td>\n      <td>14.0</td>\n      <td>8.0</td>\n      <td>9.0</td>\n      <td>€143K</td>\n    </tr>\n    <tr>\n      <th>18206</th>\n      <td>18206</td>\n      <td>246269</td>\n      <td>G. Nugent</td>\n      <td>16</td>\n      <td>https://cdn.sofifa.org/players/4/19/246269.png</td>\n      <td>England</td>\n      <td>https://cdn.sofifa.org/flags/14.png</td>\n      <td>46</td>\n      <td>66</td>\n      <td>Tranmere Rovers</td>\n      <td>...</td>\n      <td>43.0</td>\n      <td>40.0</td>\n      <td>43.0</td>\n      <td>50.0</td>\n      <td>10.0</td>\n      <td>15.0</td>\n      <td>9.0</td>\n      <td>12.0</td>\n      <td>9.0</td>\n      <td>€165K</td>\n    </tr>\n  </tbody>\n</table>\n<p>18207 rows × 89 columns</p>\n</div>"
     },
     "metadata": {},
     "output_type": "execute_result",
     "execution_count": 2
    }
   ],
   "source": [
    "import pandas as pd\n",
    "pd.read_csv('data.csv')"
   ],
   "metadata": {
    "collapsed": false,
    "pycharm": {
     "name": "#%%\n",
     "is_executing": false
    }
   }
  },
  {
   "cell_type": "code",
   "execution_count": 3,
   "outputs": [
    {
     "data": {
      "text/plain": "(18207, 89)"
     },
     "metadata": {},
     "output_type": "execute_result",
     "execution_count": 3
    }
   ],
   "source": [
    "data_frame = pd.read_csv('data.csv')\n",
    "# shape is method of data_frame, check dimensions\n",
    "data_frame.shape"
   ],
   "metadata": {
    "collapsed": false,
    "pycharm": {
     "name": "#%%\n",
     "is_executing": false
    }
   }
  },
  {
   "cell_type": "code",
   "execution_count": 4,
   "outputs": [
    {
     "data": {
      "text/plain": "         Unnamed: 0             ID           Age       Overall     Potential  \\\ncount  18207.000000   18207.000000  18207.000000  18207.000000  18207.000000   \nmean    9103.000000  214298.338606     25.122206     66.238699     71.307299   \nstd     5256.052511   29965.244204      4.669943      6.908930      6.136496   \nmin        0.000000      16.000000     16.000000     46.000000     48.000000   \n25%     4551.500000  200315.500000     21.000000     62.000000     67.000000   \n50%     9103.000000  221759.000000     25.000000     66.000000     71.000000   \n75%    13654.500000  236529.500000     28.000000     71.000000     75.000000   \nmax    18206.000000  246620.000000     45.000000     94.000000     95.000000   \n\n            Special  International Reputation     Weak Foot   Skill Moves  \\\ncount  18207.000000              18159.000000  18159.000000  18159.000000   \nmean    1597.809908                  1.113222      2.947299      2.361308   \nstd      272.586016                  0.394031      0.660456      0.756164   \nmin      731.000000                  1.000000      1.000000      1.000000   \n25%     1457.000000                  1.000000      3.000000      2.000000   \n50%     1635.000000                  1.000000      3.000000      2.000000   \n75%     1787.000000                  1.000000      3.000000      3.000000   \nmax     2346.000000                  5.000000      5.000000      5.000000   \n\n       Jersey Number  ...     Penalties     Composure       Marking  \\\ncount   18147.000000  ...  18159.000000  18159.000000  18159.000000   \nmean       19.546096  ...     48.548598     58.648274     47.281623   \nstd        15.947765  ...     15.704053     11.436133     19.904397   \nmin         1.000000  ...      5.000000      3.000000      3.000000   \n25%         8.000000  ...     39.000000     51.000000     30.000000   \n50%        17.000000  ...     49.000000     60.000000     53.000000   \n75%        26.000000  ...     60.000000     67.000000     64.000000   \nmax        99.000000  ...     92.000000     96.000000     94.000000   \n\n       StandingTackle  SlidingTackle      GKDiving    GKHandling  \\\ncount    18159.000000   18159.000000  18159.000000  18159.000000   \nmean        47.697836      45.661435     16.616223     16.391596   \nstd         21.664004      21.289135     17.695349     16.906900   \nmin          2.000000       3.000000      1.000000      1.000000   \n25%         27.000000      24.000000      8.000000      8.000000   \n50%         55.000000      52.000000     11.000000     11.000000   \n75%         66.000000      64.000000     14.000000     14.000000   \nmax         93.000000      91.000000     90.000000     92.000000   \n\n          GKKicking  GKPositioning    GKReflexes  \ncount  18159.000000   18159.000000  18159.000000  \nmean      16.232061      16.388898     16.710887  \nstd       16.502864      17.034669     17.955119  \nmin        1.000000       1.000000      1.000000  \n25%        8.000000       8.000000      8.000000  \n50%       11.000000      11.000000     11.000000  \n75%       14.000000      14.000000     14.000000  \nmax       91.000000      90.000000     94.000000  \n\n[8 rows x 44 columns]",
      "text/html": "<div>\n<style scoped>\n    .dataframe tbody tr th:only-of-type {\n        vertical-align: middle;\n    }\n\n    .dataframe tbody tr th {\n        vertical-align: top;\n    }\n\n    .dataframe thead th {\n        text-align: right;\n    }\n</style>\n<table border=\"1\" class=\"dataframe\">\n  <thead>\n    <tr style=\"text-align: right;\">\n      <th></th>\n      <th>Unnamed: 0</th>\n      <th>ID</th>\n      <th>Age</th>\n      <th>Overall</th>\n      <th>Potential</th>\n      <th>Special</th>\n      <th>International Reputation</th>\n      <th>Weak Foot</th>\n      <th>Skill Moves</th>\n      <th>Jersey Number</th>\n      <th>...</th>\n      <th>Penalties</th>\n      <th>Composure</th>\n      <th>Marking</th>\n      <th>StandingTackle</th>\n      <th>SlidingTackle</th>\n      <th>GKDiving</th>\n      <th>GKHandling</th>\n      <th>GKKicking</th>\n      <th>GKPositioning</th>\n      <th>GKReflexes</th>\n    </tr>\n  </thead>\n  <tbody>\n    <tr>\n      <th>count</th>\n      <td>18207.000000</td>\n      <td>18207.000000</td>\n      <td>18207.000000</td>\n      <td>18207.000000</td>\n      <td>18207.000000</td>\n      <td>18207.000000</td>\n      <td>18159.000000</td>\n      <td>18159.000000</td>\n      <td>18159.000000</td>\n      <td>18147.000000</td>\n      <td>...</td>\n      <td>18159.000000</td>\n      <td>18159.000000</td>\n      <td>18159.000000</td>\n      <td>18159.000000</td>\n      <td>18159.000000</td>\n      <td>18159.000000</td>\n      <td>18159.000000</td>\n      <td>18159.000000</td>\n      <td>18159.000000</td>\n      <td>18159.000000</td>\n    </tr>\n    <tr>\n      <th>mean</th>\n      <td>9103.000000</td>\n      <td>214298.338606</td>\n      <td>25.122206</td>\n      <td>66.238699</td>\n      <td>71.307299</td>\n      <td>1597.809908</td>\n      <td>1.113222</td>\n      <td>2.947299</td>\n      <td>2.361308</td>\n      <td>19.546096</td>\n      <td>...</td>\n      <td>48.548598</td>\n      <td>58.648274</td>\n      <td>47.281623</td>\n      <td>47.697836</td>\n      <td>45.661435</td>\n      <td>16.616223</td>\n      <td>16.391596</td>\n      <td>16.232061</td>\n      <td>16.388898</td>\n      <td>16.710887</td>\n    </tr>\n    <tr>\n      <th>std</th>\n      <td>5256.052511</td>\n      <td>29965.244204</td>\n      <td>4.669943</td>\n      <td>6.908930</td>\n      <td>6.136496</td>\n      <td>272.586016</td>\n      <td>0.394031</td>\n      <td>0.660456</td>\n      <td>0.756164</td>\n      <td>15.947765</td>\n      <td>...</td>\n      <td>15.704053</td>\n      <td>11.436133</td>\n      <td>19.904397</td>\n      <td>21.664004</td>\n      <td>21.289135</td>\n      <td>17.695349</td>\n      <td>16.906900</td>\n      <td>16.502864</td>\n      <td>17.034669</td>\n      <td>17.955119</td>\n    </tr>\n    <tr>\n      <th>min</th>\n      <td>0.000000</td>\n      <td>16.000000</td>\n      <td>16.000000</td>\n      <td>46.000000</td>\n      <td>48.000000</td>\n      <td>731.000000</td>\n      <td>1.000000</td>\n      <td>1.000000</td>\n      <td>1.000000</td>\n      <td>1.000000</td>\n      <td>...</td>\n      <td>5.000000</td>\n      <td>3.000000</td>\n      <td>3.000000</td>\n      <td>2.000000</td>\n      <td>3.000000</td>\n      <td>1.000000</td>\n      <td>1.000000</td>\n      <td>1.000000</td>\n      <td>1.000000</td>\n      <td>1.000000</td>\n    </tr>\n    <tr>\n      <th>25%</th>\n      <td>4551.500000</td>\n      <td>200315.500000</td>\n      <td>21.000000</td>\n      <td>62.000000</td>\n      <td>67.000000</td>\n      <td>1457.000000</td>\n      <td>1.000000</td>\n      <td>3.000000</td>\n      <td>2.000000</td>\n      <td>8.000000</td>\n      <td>...</td>\n      <td>39.000000</td>\n      <td>51.000000</td>\n      <td>30.000000</td>\n      <td>27.000000</td>\n      <td>24.000000</td>\n      <td>8.000000</td>\n      <td>8.000000</td>\n      <td>8.000000</td>\n      <td>8.000000</td>\n      <td>8.000000</td>\n    </tr>\n    <tr>\n      <th>50%</th>\n      <td>9103.000000</td>\n      <td>221759.000000</td>\n      <td>25.000000</td>\n      <td>66.000000</td>\n      <td>71.000000</td>\n      <td>1635.000000</td>\n      <td>1.000000</td>\n      <td>3.000000</td>\n      <td>2.000000</td>\n      <td>17.000000</td>\n      <td>...</td>\n      <td>49.000000</td>\n      <td>60.000000</td>\n      <td>53.000000</td>\n      <td>55.000000</td>\n      <td>52.000000</td>\n      <td>11.000000</td>\n      <td>11.000000</td>\n      <td>11.000000</td>\n      <td>11.000000</td>\n      <td>11.000000</td>\n    </tr>\n    <tr>\n      <th>75%</th>\n      <td>13654.500000</td>\n      <td>236529.500000</td>\n      <td>28.000000</td>\n      <td>71.000000</td>\n      <td>75.000000</td>\n      <td>1787.000000</td>\n      <td>1.000000</td>\n      <td>3.000000</td>\n      <td>3.000000</td>\n      <td>26.000000</td>\n      <td>...</td>\n      <td>60.000000</td>\n      <td>67.000000</td>\n      <td>64.000000</td>\n      <td>66.000000</td>\n      <td>64.000000</td>\n      <td>14.000000</td>\n      <td>14.000000</td>\n      <td>14.000000</td>\n      <td>14.000000</td>\n      <td>14.000000</td>\n    </tr>\n    <tr>\n      <th>max</th>\n      <td>18206.000000</td>\n      <td>246620.000000</td>\n      <td>45.000000</td>\n      <td>94.000000</td>\n      <td>95.000000</td>\n      <td>2346.000000</td>\n      <td>5.000000</td>\n      <td>5.000000</td>\n      <td>5.000000</td>\n      <td>99.000000</td>\n      <td>...</td>\n      <td>92.000000</td>\n      <td>96.000000</td>\n      <td>94.000000</td>\n      <td>93.000000</td>\n      <td>91.000000</td>\n      <td>90.000000</td>\n      <td>92.000000</td>\n      <td>91.000000</td>\n      <td>90.000000</td>\n      <td>94.000000</td>\n    </tr>\n  </tbody>\n</table>\n<p>8 rows × 44 columns</p>\n</div>"
     },
     "metadata": {},
     "output_type": "execute_result",
     "execution_count": 4
    }
   ],
   "source": [
    "# information about the data\n",
    "data_frame.describe()"
   ],
   "metadata": {
    "collapsed": false,
    "pycharm": {
     "name": "#%%\n",
     "is_executing": false
    }
   }
  },
  {
   "cell_type": "code",
   "execution_count": 5,
   "outputs": [
    {
     "data": {
      "text/plain": "array([[0, 158023, 'L. Messi', ..., 14.0, 8.0, '€226.5M'],\n       [1, 20801, 'Cristiano Ronaldo', ..., 14.0, 11.0, '€127.1M'],\n       [2, 190871, 'Neymar Jr', ..., 15.0, 11.0, '€228.1M'],\n       ...,\n       [18204, 241638, 'B. Worman', ..., 6.0, 13.0, '€165K'],\n       [18205, 246268, 'D. Walker-Rice', ..., 8.0, 9.0, '€143K'],\n       [18206, 246269, 'G. Nugent', ..., 12.0, 9.0, '€165K']],\n      dtype=object)"
     },
     "metadata": {},
     "output_type": "execute_result",
     "execution_count": 5
    }
   ],
   "source": [
    "# array with information\n",
    "data_frame.values"
   ],
   "metadata": {
    "collapsed": false,
    "pycharm": {
     "name": "#%%\n",
     "is_executing": false
    }
   }
  },
  {
   "cell_type": "code",
   "execution_count": 6,
   "outputs": [
    {
     "data": {
      "text/plain": "    Unnamed: 0      ID         Name  Age  \\\n11          11  182521     T. Kroos   28   \n36          36  173731      G. Bale   28   \n48          48  192387  C. Immobile   28   \n66          66  189596    T. Müller   28   \n69          69  184432  Azpilicueta   28   \n\n                                             Photo Nationality  \\\n11  https://cdn.sofifa.org/players/4/19/182521.png     Germany   \n36  https://cdn.sofifa.org/players/4/19/173731.png       Wales   \n48  https://cdn.sofifa.org/players/4/19/192387.png       Italy   \n66  https://cdn.sofifa.org/players/4/19/189596.png     Germany   \n69  https://cdn.sofifa.org/players/4/19/184432.png       Spain   \n\n                                   Flag  Overall  Potential  \\\n11  https://cdn.sofifa.org/flags/21.png       90         90   \n36  https://cdn.sofifa.org/flags/50.png       88         88   \n48  https://cdn.sofifa.org/flags/27.png       87         87   \n66  https://cdn.sofifa.org/flags/21.png       86         86   \n69  https://cdn.sofifa.org/flags/45.png       86         86   \n\n                 Club  ... Composure Marking StandingTackle  SlidingTackle  \\\n11        Real Madrid  ...      85.0    72.0           79.0           69.0   \n36        Real Madrid  ...      86.0    54.0           55.0           52.0   \n48              Lazio  ...      81.0    34.0           33.0           32.0   \n66  FC Bayern München  ...      83.0    44.0           41.0           44.0   \n69            Chelsea  ...      78.0    88.0           90.0           86.0   \n\n   GKDiving  GKHandling  GKKicking  GKPositioning GKReflexes Release Clause  \n11     10.0        11.0       13.0            7.0       10.0        €156.8M  \n36     15.0        15.0       11.0            5.0        6.0          €123M  \n48      6.0         8.0       15.0           12.0        6.0         €88.4M  \n66      6.0         7.0       11.0           14.0       14.0         €74.3M  \n69     13.0         9.0       10.0            6.0        5.0         €64.8M  \n\n[5 rows x 89 columns]",
      "text/html": "<div>\n<style scoped>\n    .dataframe tbody tr th:only-of-type {\n        vertical-align: middle;\n    }\n\n    .dataframe tbody tr th {\n        vertical-align: top;\n    }\n\n    .dataframe thead th {\n        text-align: right;\n    }\n</style>\n<table border=\"1\" class=\"dataframe\">\n  <thead>\n    <tr style=\"text-align: right;\">\n      <th></th>\n      <th>Unnamed: 0</th>\n      <th>ID</th>\n      <th>Name</th>\n      <th>Age</th>\n      <th>Photo</th>\n      <th>Nationality</th>\n      <th>Flag</th>\n      <th>Overall</th>\n      <th>Potential</th>\n      <th>Club</th>\n      <th>...</th>\n      <th>Composure</th>\n      <th>Marking</th>\n      <th>StandingTackle</th>\n      <th>SlidingTackle</th>\n      <th>GKDiving</th>\n      <th>GKHandling</th>\n      <th>GKKicking</th>\n      <th>GKPositioning</th>\n      <th>GKReflexes</th>\n      <th>Release Clause</th>\n    </tr>\n  </thead>\n  <tbody>\n    <tr>\n      <th>11</th>\n      <td>11</td>\n      <td>182521</td>\n      <td>T. Kroos</td>\n      <td>28</td>\n      <td>https://cdn.sofifa.org/players/4/19/182521.png</td>\n      <td>Germany</td>\n      <td>https://cdn.sofifa.org/flags/21.png</td>\n      <td>90</td>\n      <td>90</td>\n      <td>Real Madrid</td>\n      <td>...</td>\n      <td>85.0</td>\n      <td>72.0</td>\n      <td>79.0</td>\n      <td>69.0</td>\n      <td>10.0</td>\n      <td>11.0</td>\n      <td>13.0</td>\n      <td>7.0</td>\n      <td>10.0</td>\n      <td>€156.8M</td>\n    </tr>\n    <tr>\n      <th>36</th>\n      <td>36</td>\n      <td>173731</td>\n      <td>G. Bale</td>\n      <td>28</td>\n      <td>https://cdn.sofifa.org/players/4/19/173731.png</td>\n      <td>Wales</td>\n      <td>https://cdn.sofifa.org/flags/50.png</td>\n      <td>88</td>\n      <td>88</td>\n      <td>Real Madrid</td>\n      <td>...</td>\n      <td>86.0</td>\n      <td>54.0</td>\n      <td>55.0</td>\n      <td>52.0</td>\n      <td>15.0</td>\n      <td>15.0</td>\n      <td>11.0</td>\n      <td>5.0</td>\n      <td>6.0</td>\n      <td>€123M</td>\n    </tr>\n    <tr>\n      <th>48</th>\n      <td>48</td>\n      <td>192387</td>\n      <td>C. Immobile</td>\n      <td>28</td>\n      <td>https://cdn.sofifa.org/players/4/19/192387.png</td>\n      <td>Italy</td>\n      <td>https://cdn.sofifa.org/flags/27.png</td>\n      <td>87</td>\n      <td>87</td>\n      <td>Lazio</td>\n      <td>...</td>\n      <td>81.0</td>\n      <td>34.0</td>\n      <td>33.0</td>\n      <td>32.0</td>\n      <td>6.0</td>\n      <td>8.0</td>\n      <td>15.0</td>\n      <td>12.0</td>\n      <td>6.0</td>\n      <td>€88.4M</td>\n    </tr>\n    <tr>\n      <th>66</th>\n      <td>66</td>\n      <td>189596</td>\n      <td>T. Müller</td>\n      <td>28</td>\n      <td>https://cdn.sofifa.org/players/4/19/189596.png</td>\n      <td>Germany</td>\n      <td>https://cdn.sofifa.org/flags/21.png</td>\n      <td>86</td>\n      <td>86</td>\n      <td>FC Bayern München</td>\n      <td>...</td>\n      <td>83.0</td>\n      <td>44.0</td>\n      <td>41.0</td>\n      <td>44.0</td>\n      <td>6.0</td>\n      <td>7.0</td>\n      <td>11.0</td>\n      <td>14.0</td>\n      <td>14.0</td>\n      <td>€74.3M</td>\n    </tr>\n    <tr>\n      <th>69</th>\n      <td>69</td>\n      <td>184432</td>\n      <td>Azpilicueta</td>\n      <td>28</td>\n      <td>https://cdn.sofifa.org/players/4/19/184432.png</td>\n      <td>Spain</td>\n      <td>https://cdn.sofifa.org/flags/45.png</td>\n      <td>86</td>\n      <td>86</td>\n      <td>Chelsea</td>\n      <td>...</td>\n      <td>78.0</td>\n      <td>88.0</td>\n      <td>90.0</td>\n      <td>86.0</td>\n      <td>13.0</td>\n      <td>9.0</td>\n      <td>10.0</td>\n      <td>6.0</td>\n      <td>5.0</td>\n      <td>€64.8M</td>\n    </tr>\n  </tbody>\n</table>\n<p>5 rows × 89 columns</p>\n</div>"
     },
     "metadata": {},
     "output_type": "execute_result",
     "execution_count": 6
    }
   ],
   "source": [
    "# filter the dataset based on a certain condition\n",
    "data_frame[data_frame[\"Age\"]==28].head()\n"
   ],
   "metadata": {
    "collapsed": false,
    "pycharm": {
     "name": "#%%\n",
     "is_executing": false
    }
   }
  },
  {
   "cell_type": "code",
   "execution_count": 9,
   "outputs": [
    {
     "data": {
      "text/plain": "                     Name   Wage    Value\n0                L. Messi  €565K  €110.5M\n1       Cristiano Ronaldo  €405K     €77M\n2               Neymar Jr  €290K  €118.5M\n3                  De Gea  €260K     €72M\n4            K. De Bruyne  €355K    €102M\n...                   ...    ...      ...\n18202        J. Lundstram    €1K     €60K\n18203  N. Christoffersson    €1K     €60K\n18204           B. Worman    €1K     €60K\n18205      D. Walker-Rice    €1K     €60K\n18206           G. Nugent    €1K     €60K\n\n[18207 rows x 3 columns]",
      "text/html": "<div>\n<style scoped>\n    .dataframe tbody tr th:only-of-type {\n        vertical-align: middle;\n    }\n\n    .dataframe tbody tr th {\n        vertical-align: top;\n    }\n\n    .dataframe thead th {\n        text-align: right;\n    }\n</style>\n<table border=\"1\" class=\"dataframe\">\n  <thead>\n    <tr style=\"text-align: right;\">\n      <th></th>\n      <th>Name</th>\n      <th>Wage</th>\n      <th>Value</th>\n    </tr>\n  </thead>\n  <tbody>\n    <tr>\n      <th>0</th>\n      <td>L. Messi</td>\n      <td>€565K</td>\n      <td>€110.5M</td>\n    </tr>\n    <tr>\n      <th>1</th>\n      <td>Cristiano Ronaldo</td>\n      <td>€405K</td>\n      <td>€77M</td>\n    </tr>\n    <tr>\n      <th>2</th>\n      <td>Neymar Jr</td>\n      <td>€290K</td>\n      <td>€118.5M</td>\n    </tr>\n    <tr>\n      <th>3</th>\n      <td>De Gea</td>\n      <td>€260K</td>\n      <td>€72M</td>\n    </tr>\n    <tr>\n      <th>4</th>\n      <td>K. De Bruyne</td>\n      <td>€355K</td>\n      <td>€102M</td>\n    </tr>\n    <tr>\n      <th>5</th>\n      <td>E. Hazard</td>\n      <td>€340K</td>\n      <td>€93M</td>\n    </tr>\n    <tr>\n      <th>6</th>\n      <td>L. Modrić</td>\n      <td>€420K</td>\n      <td>€67M</td>\n    </tr>\n    <tr>\n      <th>7</th>\n      <td>L. Suárez</td>\n      <td>€455K</td>\n      <td>€80M</td>\n    </tr>\n    <tr>\n      <th>8</th>\n      <td>Sergio Ramos</td>\n      <td>€380K</td>\n      <td>€51M</td>\n    </tr>\n    <tr>\n      <th>9</th>\n      <td>J. Oblak</td>\n      <td>€94K</td>\n      <td>€68M</td>\n    </tr>\n    <tr>\n      <th>10</th>\n      <td>R. Lewandowski</td>\n      <td>€205K</td>\n      <td>€77M</td>\n    </tr>\n    <tr>\n      <th>11</th>\n      <td>T. Kroos</td>\n      <td>€355K</td>\n      <td>€76.5M</td>\n    </tr>\n    <tr>\n      <th>12</th>\n      <td>D. Godín</td>\n      <td>€125K</td>\n      <td>€44M</td>\n    </tr>\n    <tr>\n      <th>13</th>\n      <td>David Silva</td>\n      <td>€285K</td>\n      <td>€60M</td>\n    </tr>\n    <tr>\n      <th>14</th>\n      <td>N. Kanté</td>\n      <td>€225K</td>\n      <td>€63M</td>\n    </tr>\n    <tr>\n      <th>15</th>\n      <td>P. Dybala</td>\n      <td>€205K</td>\n      <td>€89M</td>\n    </tr>\n    <tr>\n      <th>16</th>\n      <td>H. Kane</td>\n      <td>€205K</td>\n      <td>€83.5M</td>\n    </tr>\n    <tr>\n      <th>17</th>\n      <td>A. Griezmann</td>\n      <td>€145K</td>\n      <td>€78M</td>\n    </tr>\n    <tr>\n      <th>18</th>\n      <td>M. ter Stegen</td>\n      <td>€240K</td>\n      <td>€58M</td>\n    </tr>\n    <tr>\n      <th>19</th>\n      <td>T. Courtois</td>\n      <td>€240K</td>\n      <td>€53.5M</td>\n    </tr>\n    <tr>\n      <th>20</th>\n      <td>Sergio Busquets</td>\n      <td>€315K</td>\n      <td>€51.5M</td>\n    </tr>\n    <tr>\n      <th>21</th>\n      <td>E. Cavani</td>\n      <td>€200K</td>\n      <td>€60M</td>\n    </tr>\n    <tr>\n      <th>22</th>\n      <td>M. Neuer</td>\n      <td>€130K</td>\n      <td>€38M</td>\n    </tr>\n    <tr>\n      <th>23</th>\n      <td>S. Agüero</td>\n      <td>€300K</td>\n      <td>€64.5M</td>\n    </tr>\n    <tr>\n      <th>24</th>\n      <td>G. Chiellini</td>\n      <td>€215K</td>\n      <td>€27M</td>\n    </tr>\n    <tr>\n      <th>25</th>\n      <td>K. Mbappé</td>\n      <td>€100K</td>\n      <td>€81M</td>\n    </tr>\n    <tr>\n      <th>26</th>\n      <td>M. Salah</td>\n      <td>€255K</td>\n      <td>€69.5M</td>\n    </tr>\n    <tr>\n      <th>27</th>\n      <td>Casemiro</td>\n      <td>€285K</td>\n      <td>€59.5M</td>\n    </tr>\n    <tr>\n      <th>28</th>\n      <td>J. Rodríguez</td>\n      <td>€315K</td>\n      <td>€69.5M</td>\n    </tr>\n    <tr>\n      <th>29</th>\n      <td>L. Insigne</td>\n      <td>€165K</td>\n      <td>€62M</td>\n    </tr>\n    <tr>\n      <th>...</th>\n      <td>...</td>\n      <td>...</td>\n      <td>...</td>\n    </tr>\n    <tr>\n      <th>18177</th>\n      <td>R. Roache</td>\n      <td>€1K</td>\n      <td>€70K</td>\n    </tr>\n    <tr>\n      <th>18178</th>\n      <td>L. Wahlstedt</td>\n      <td>€1K</td>\n      <td>€50K</td>\n    </tr>\n    <tr>\n      <th>18179</th>\n      <td>J. Williams</td>\n      <td>€1K</td>\n      <td>€50K</td>\n    </tr>\n    <tr>\n      <th>18180</th>\n      <td>M. Hurst</td>\n      <td>€1K</td>\n      <td>€40K</td>\n    </tr>\n    <tr>\n      <th>18181</th>\n      <td>C. Maher</td>\n      <td>€1K</td>\n      <td>€50K</td>\n    </tr>\n    <tr>\n      <th>18182</th>\n      <td>Y. Góez</td>\n      <td>€1K</td>\n      <td>€50K</td>\n    </tr>\n    <tr>\n      <th>18183</th>\n      <td>K. Pilkington</td>\n      <td>€1K</td>\n      <td>€0</td>\n    </tr>\n    <tr>\n      <th>18184</th>\n      <td>D. Horton</td>\n      <td>€1K</td>\n      <td>€40K</td>\n    </tr>\n    <tr>\n      <th>18185</th>\n      <td>E. Tweed</td>\n      <td>€1K</td>\n      <td>€50K</td>\n    </tr>\n    <tr>\n      <th>18186</th>\n      <td>Zhang Yufeng</td>\n      <td>€1K</td>\n      <td>€60K</td>\n    </tr>\n    <tr>\n      <th>18187</th>\n      <td>C. Ehlich</td>\n      <td>€1K</td>\n      <td>€40K</td>\n    </tr>\n    <tr>\n      <th>18188</th>\n      <td>L. Collins</td>\n      <td>€1K</td>\n      <td>€60K</td>\n    </tr>\n    <tr>\n      <th>18189</th>\n      <td>A. Kaltner</td>\n      <td>€1K</td>\n      <td>€60K</td>\n    </tr>\n    <tr>\n      <th>18190</th>\n      <td>L. Watkins</td>\n      <td>€1K</td>\n      <td>€60K</td>\n    </tr>\n    <tr>\n      <th>18191</th>\n      <td>J. Norville-Williams</td>\n      <td>€1K</td>\n      <td>€50K</td>\n    </tr>\n    <tr>\n      <th>18192</th>\n      <td>S. Squire</td>\n      <td>€1K</td>\n      <td>€50K</td>\n    </tr>\n    <tr>\n      <th>18193</th>\n      <td>N. Fuentes</td>\n      <td>€1K</td>\n      <td>€50K</td>\n    </tr>\n    <tr>\n      <th>18194</th>\n      <td>J. Milli</td>\n      <td>€1K</td>\n      <td>€50K</td>\n    </tr>\n    <tr>\n      <th>18195</th>\n      <td>S. Griffin</td>\n      <td>€1K</td>\n      <td>€60K</td>\n    </tr>\n    <tr>\n      <th>18196</th>\n      <td>K. Fujikawa</td>\n      <td>€1K</td>\n      <td>€60K</td>\n    </tr>\n    <tr>\n      <th>18197</th>\n      <td>D. Holland</td>\n      <td>€1K</td>\n      <td>€60K</td>\n    </tr>\n    <tr>\n      <th>18198</th>\n      <td>J. Livesey</td>\n      <td>€1K</td>\n      <td>€60K</td>\n    </tr>\n    <tr>\n      <th>18199</th>\n      <td>M. Baldisimo</td>\n      <td>€1K</td>\n      <td>€70K</td>\n    </tr>\n    <tr>\n      <th>18200</th>\n      <td>J. Young</td>\n      <td>€1K</td>\n      <td>€60K</td>\n    </tr>\n    <tr>\n      <th>18201</th>\n      <td>D. Walsh</td>\n      <td>€1K</td>\n      <td>€60K</td>\n    </tr>\n    <tr>\n      <th>18202</th>\n      <td>J. Lundstram</td>\n      <td>€1K</td>\n      <td>€60K</td>\n    </tr>\n    <tr>\n      <th>18203</th>\n      <td>N. Christoffersson</td>\n      <td>€1K</td>\n      <td>€60K</td>\n    </tr>\n    <tr>\n      <th>18204</th>\n      <td>B. Worman</td>\n      <td>€1K</td>\n      <td>€60K</td>\n    </tr>\n    <tr>\n      <th>18205</th>\n      <td>D. Walker-Rice</td>\n      <td>€1K</td>\n      <td>€60K</td>\n    </tr>\n    <tr>\n      <th>18206</th>\n      <td>G. Nugent</td>\n      <td>€1K</td>\n      <td>€60K</td>\n    </tr>\n  </tbody>\n</table>\n<p>18207 rows × 3 columns</p>\n</div>"
     },
     "metadata": {},
     "output_type": "execute_result",
     "execution_count": 9
    }
   ],
   "source": [
    "df1 = pd.DataFrame(data_frame,columns=['Name','Wage','Value'])\n",
    "df1\n"
   ],
   "metadata": {
    "collapsed": false,
    "pycharm": {
     "name": "#%%\n",
     "is_executing": false
    }
   }
  },
  {
   "cell_type": "code",
   "execution_count": 10,
   "outputs": [
    {
     "data": {
      "text/plain": "               Name      Wage        Value   difference\n2         Neymar Jr  290000.0  118500000.0  118210000.0\n0          L. Messi  565000.0  110500000.0  109935000.0\n4      K. De Bruyne  355000.0  102000000.0  101645000.0\n5         E. Hazard  340000.0   93000000.0   92660000.0\n15        P. Dybala  205000.0   89000000.0   88795000.0\n...             ...       ...          ...          ...\n17752   S. Phillips    1000.0          0.0      -1000.0\n12192  H. Sulaimani    3000.0          0.0      -3000.0\n3550    S. Nakamura    4000.0          0.0      -4000.0\n4228       B. Nivet    5000.0          0.0      -5000.0\n864          Hilton   18000.0          0.0     -18000.0\n\n[18207 rows x 4 columns]",
      "text/html": "<div>\n<style scoped>\n    .dataframe tbody tr th:only-of-type {\n        vertical-align: middle;\n    }\n\n    .dataframe tbody tr th {\n        vertical-align: top;\n    }\n\n    .dataframe thead th {\n        text-align: right;\n    }\n</style>\n<table border=\"1\" class=\"dataframe\">\n  <thead>\n    <tr style=\"text-align: right;\">\n      <th></th>\n      <th>Name</th>\n      <th>Wage</th>\n      <th>Value</th>\n      <th>difference</th>\n    </tr>\n  </thead>\n  <tbody>\n    <tr>\n      <th>2</th>\n      <td>Neymar Jr</td>\n      <td>290000.0</td>\n      <td>118500000.0</td>\n      <td>118210000.0</td>\n    </tr>\n    <tr>\n      <th>0</th>\n      <td>L. Messi</td>\n      <td>565000.0</td>\n      <td>110500000.0</td>\n      <td>109935000.0</td>\n    </tr>\n    <tr>\n      <th>4</th>\n      <td>K. De Bruyne</td>\n      <td>355000.0</td>\n      <td>102000000.0</td>\n      <td>101645000.0</td>\n    </tr>\n    <tr>\n      <th>5</th>\n      <td>E. Hazard</td>\n      <td>340000.0</td>\n      <td>93000000.0</td>\n      <td>92660000.0</td>\n    </tr>\n    <tr>\n      <th>15</th>\n      <td>P. Dybala</td>\n      <td>205000.0</td>\n      <td>89000000.0</td>\n      <td>88795000.0</td>\n    </tr>\n    <tr>\n      <th>16</th>\n      <td>H. Kane</td>\n      <td>205000.0</td>\n      <td>83500000.0</td>\n      <td>83295000.0</td>\n    </tr>\n    <tr>\n      <th>25</th>\n      <td>K. Mbappé</td>\n      <td>100000.0</td>\n      <td>81000000.0</td>\n      <td>80900000.0</td>\n    </tr>\n    <tr>\n      <th>7</th>\n      <td>L. Suárez</td>\n      <td>455000.0</td>\n      <td>80000000.0</td>\n      <td>79545000.0</td>\n    </tr>\n    <tr>\n      <th>17</th>\n      <td>A. Griezmann</td>\n      <td>145000.0</td>\n      <td>78000000.0</td>\n      <td>77855000.0</td>\n    </tr>\n    <tr>\n      <th>10</th>\n      <td>R. Lewandowski</td>\n      <td>205000.0</td>\n      <td>77000000.0</td>\n      <td>76795000.0</td>\n    </tr>\n    <tr>\n      <th>1</th>\n      <td>Cristiano Ronaldo</td>\n      <td>405000.0</td>\n      <td>77000000.0</td>\n      <td>76595000.0</td>\n    </tr>\n    <tr>\n      <th>11</th>\n      <td>T. Kroos</td>\n      <td>355000.0</td>\n      <td>76500000.0</td>\n      <td>76145000.0</td>\n    </tr>\n    <tr>\n      <th>31</th>\n      <td>C. Eriksen</td>\n      <td>205000.0</td>\n      <td>73500000.0</td>\n      <td>73295000.0</td>\n    </tr>\n    <tr>\n      <th>30</th>\n      <td>Isco</td>\n      <td>315000.0</td>\n      <td>73500000.0</td>\n      <td>73185000.0</td>\n    </tr>\n    <tr>\n      <th>3</th>\n      <td>De Gea</td>\n      <td>260000.0</td>\n      <td>72000000.0</td>\n      <td>71740000.0</td>\n    </tr>\n    <tr>\n      <th>26</th>\n      <td>M. Salah</td>\n      <td>255000.0</td>\n      <td>69500000.0</td>\n      <td>69245000.0</td>\n    </tr>\n    <tr>\n      <th>28</th>\n      <td>J. Rodríguez</td>\n      <td>315000.0</td>\n      <td>69500000.0</td>\n      <td>69185000.0</td>\n    </tr>\n    <tr>\n      <th>32</th>\n      <td>Coutinho</td>\n      <td>340000.0</td>\n      <td>69500000.0</td>\n      <td>69160000.0</td>\n    </tr>\n    <tr>\n      <th>9</th>\n      <td>J. Oblak</td>\n      <td>94000.0</td>\n      <td>68000000.0</td>\n      <td>67906000.0</td>\n    </tr>\n    <tr>\n      <th>6</th>\n      <td>L. Modrić</td>\n      <td>420000.0</td>\n      <td>67000000.0</td>\n      <td>66580000.0</td>\n    </tr>\n    <tr>\n      <th>43</th>\n      <td>M. Icardi</td>\n      <td>130000.0</td>\n      <td>64500000.0</td>\n      <td>64370000.0</td>\n    </tr>\n    <tr>\n      <th>23</th>\n      <td>S. Agüero</td>\n      <td>300000.0</td>\n      <td>64500000.0</td>\n      <td>64200000.0</td>\n    </tr>\n    <tr>\n      <th>45</th>\n      <td>P. Pogba</td>\n      <td>210000.0</td>\n      <td>64000000.0</td>\n      <td>63790000.0</td>\n    </tr>\n    <tr>\n      <th>14</th>\n      <td>N. Kanté</td>\n      <td>225000.0</td>\n      <td>63000000.0</td>\n      <td>62775000.0</td>\n    </tr>\n    <tr>\n      <th>47</th>\n      <td>R. Lukaku</td>\n      <td>230000.0</td>\n      <td>62500000.0</td>\n      <td>62270000.0</td>\n    </tr>\n    <tr>\n      <th>29</th>\n      <td>L. Insigne</td>\n      <td>165000.0</td>\n      <td>62000000.0</td>\n      <td>61835000.0</td>\n    </tr>\n    <tr>\n      <th>55</th>\n      <td>L. Sané</td>\n      <td>195000.0</td>\n      <td>61000000.0</td>\n      <td>60805000.0</td>\n    </tr>\n    <tr>\n      <th>21</th>\n      <td>E. Cavani</td>\n      <td>200000.0</td>\n      <td>60000000.0</td>\n      <td>59800000.0</td>\n    </tr>\n    <tr>\n      <th>13</th>\n      <td>David Silva</td>\n      <td>285000.0</td>\n      <td>60000000.0</td>\n      <td>59715000.0</td>\n    </tr>\n    <tr>\n      <th>36</th>\n      <td>G. Bale</td>\n      <td>355000.0</td>\n      <td>60000000.0</td>\n      <td>59645000.0</td>\n    </tr>\n    <tr>\n      <th>...</th>\n      <td>...</td>\n      <td>...</td>\n      <td>...</td>\n      <td>...</td>\n    </tr>\n    <tr>\n      <th>5272</th>\n      <td>C. Deac</td>\n      <td>0.0</td>\n      <td>0.0</td>\n      <td>0.0</td>\n    </tr>\n    <tr>\n      <th>14054</th>\n      <td>P. Halder</td>\n      <td>0.0</td>\n      <td>0.0</td>\n      <td>0.0</td>\n    </tr>\n    <tr>\n      <th>4823</th>\n      <td>P. Anton</td>\n      <td>0.0</td>\n      <td>0.0</td>\n      <td>0.0</td>\n    </tr>\n    <tr>\n      <th>5245</th>\n      <td>R. Cardozo</td>\n      <td>0.0</td>\n      <td>0.0</td>\n      <td>0.0</td>\n    </tr>\n    <tr>\n      <th>2984</th>\n      <td>M. Borjan</td>\n      <td>0.0</td>\n      <td>0.0</td>\n      <td>0.0</td>\n    </tr>\n    <tr>\n      <th>6841</th>\n      <td>N. Bancu</td>\n      <td>0.0</td>\n      <td>0.0</td>\n      <td>0.0</td>\n    </tr>\n    <tr>\n      <th>7990</th>\n      <td>B. Mitrev</td>\n      <td>0.0</td>\n      <td>0.0</td>\n      <td>0.0</td>\n    </tr>\n    <tr>\n      <th>5126</th>\n      <td>L. Cáceda</td>\n      <td>0.0</td>\n      <td>0.0</td>\n      <td>0.0</td>\n    </tr>\n    <tr>\n      <th>9568</th>\n      <td>C. Gonzáles</td>\n      <td>0.0</td>\n      <td>0.0</td>\n      <td>0.0</td>\n    </tr>\n    <tr>\n      <th>8057</th>\n      <td>D. Mendiseca</td>\n      <td>0.0</td>\n      <td>0.0</td>\n      <td>0.0</td>\n    </tr>\n    <tr>\n      <th>8061</th>\n      <td>S. Gbohouo</td>\n      <td>0.0</td>\n      <td>0.0</td>\n      <td>0.0</td>\n    </tr>\n    <tr>\n      <th>11247</th>\n      <td>A. Cicâldău</td>\n      <td>0.0</td>\n      <td>0.0</td>\n      <td>0.0</td>\n    </tr>\n    <tr>\n      <th>2999</th>\n      <td>K. Rausch</td>\n      <td>0.0</td>\n      <td>0.0</td>\n      <td>0.0</td>\n    </tr>\n    <tr>\n      <th>17436</th>\n      <td>D. Lalhlimpuia</td>\n      <td>0.0</td>\n      <td>0.0</td>\n      <td>0.0</td>\n    </tr>\n    <tr>\n      <th>8273</th>\n      <td>D. Furman</td>\n      <td>0.0</td>\n      <td>0.0</td>\n      <td>0.0</td>\n    </tr>\n    <tr>\n      <th>16539</th>\n      <td>L. Lalruatthara</td>\n      <td>0.0</td>\n      <td>0.0</td>\n      <td>0.0</td>\n    </tr>\n    <tr>\n      <th>3037</th>\n      <td>Y. Banana</td>\n      <td>0.0</td>\n      <td>0.0</td>\n      <td>0.0</td>\n    </tr>\n    <tr>\n      <th>5082</th>\n      <td>J. Paredes</td>\n      <td>0.0</td>\n      <td>0.0</td>\n      <td>0.0</td>\n    </tr>\n    <tr>\n      <th>4945</th>\n      <td>H. Vaca</td>\n      <td>0.0</td>\n      <td>0.0</td>\n      <td>0.0</td>\n    </tr>\n    <tr>\n      <th>17672</th>\n      <td>R. Kawai</td>\n      <td>1000.0</td>\n      <td>0.0</td>\n      <td>-1000.0</td>\n    </tr>\n    <tr>\n      <th>10356</th>\n      <td>F. Kippe</td>\n      <td>1000.0</td>\n      <td>0.0</td>\n      <td>-1000.0</td>\n    </tr>\n    <tr>\n      <th>12453</th>\n      <td>W. Díaz</td>\n      <td>1000.0</td>\n      <td>0.0</td>\n      <td>-1000.0</td>\n    </tr>\n    <tr>\n      <th>14129</th>\n      <td>Y. Nakazawa</td>\n      <td>1000.0</td>\n      <td>0.0</td>\n      <td>-1000.0</td>\n    </tr>\n    <tr>\n      <th>18183</th>\n      <td>K. Pilkington</td>\n      <td>1000.0</td>\n      <td>0.0</td>\n      <td>-1000.0</td>\n    </tr>\n    <tr>\n      <th>17726</th>\n      <td>T. Warner</td>\n      <td>1000.0</td>\n      <td>0.0</td>\n      <td>-1000.0</td>\n    </tr>\n    <tr>\n      <th>17752</th>\n      <td>S. Phillips</td>\n      <td>1000.0</td>\n      <td>0.0</td>\n      <td>-1000.0</td>\n    </tr>\n    <tr>\n      <th>12192</th>\n      <td>H. Sulaimani</td>\n      <td>3000.0</td>\n      <td>0.0</td>\n      <td>-3000.0</td>\n    </tr>\n    <tr>\n      <th>3550</th>\n      <td>S. Nakamura</td>\n      <td>4000.0</td>\n      <td>0.0</td>\n      <td>-4000.0</td>\n    </tr>\n    <tr>\n      <th>4228</th>\n      <td>B. Nivet</td>\n      <td>5000.0</td>\n      <td>0.0</td>\n      <td>-5000.0</td>\n    </tr>\n    <tr>\n      <th>864</th>\n      <td>Hilton</td>\n      <td>18000.0</td>\n      <td>0.0</td>\n      <td>-18000.0</td>\n    </tr>\n  </tbody>\n</table>\n<p>18207 rows × 4 columns</p>\n</div>"
     },
     "metadata": {},
     "output_type": "execute_result",
     "execution_count": 10
    }
   ],
   "source": [
    "def value_to_float(x):\n",
    "    if type(x) == float or type(x) == int:\n",
    "        return x\n",
    "    if 'K' in x:\n",
    "        if len(x) > 1:\n",
    "            return float(x.replace('K', '')) * 1000\n",
    "        return 1000.0\n",
    "    if 'M' in x:\n",
    "        if len(x) > 1:\n",
    "            return float(x.replace('M', '')) * 1000000\n",
    "        return 1000000.0\n",
    "    if 'B' in x:\n",
    "        return float(x.replace('B', '')) * 1000000000\n",
    "    return 0.0\n",
    "\n",
    "wage = df1['Wage'].replace('[\\€,]','',regex=True).apply(value_to_float)\n",
    "value = df1['Value'].replace('[\\€,]','',regex=True).apply(value_to_float)\n",
    "\n",
    "df1['Wage'] = wage\n",
    "df1['Value'] = value\n",
    "df1['difference'] = df1['Value'] - df1['Wage']\n",
    "df1.sort_values('difference', ascending=False)\n"
   ],
   "metadata": {
    "collapsed": false,
    "pycharm": {
     "name": "#%%\n",
     "is_executing": false
    }
   }
  },
  {
   "cell_type": "code",
   "execution_count": 11,
   "outputs": [
    {
     "data": {
      "text/plain": "<matplotlib.axes._subplots.AxesSubplot at 0xf9510b0>"
     },
     "metadata": {},
     "output_type": "execute_result",
     "execution_count": 11
    }
   ],
   "source": [
    "import seaborn as sns\n",
    "sns.set()\n",
    "\n",
    "graph = sns.scatterplot(x='Wage', y='Value', data=df1)\n",
    "graph\n"
   ],
   "metadata": {
    "collapsed": false,
    "pycharm": {
     "name": "#%%\n",
     "is_executing": false
    }
   }
  },
  {
   "cell_type": "code",
   "execution_count": 12,
   "outputs": [
    {
     "data": {
      "text/plain": "GlyphRenderer(id='1029', ...)",
      "text/html": "<div style=\"display: table;\"><div style=\"display: table-row;\"><div style=\"display: table-cell;\"><b title=\"bokeh.models.renderers.GlyphRenderer\">GlyphRenderer</b>(</div><div style=\"display: table-cell;\">id&nbsp;=&nbsp;'1029', <span id=\"1032\" style=\"cursor: pointer;\">&hellip;)</span></div></div><div class=\"1031\" style=\"display: none;\"><div style=\"display: table-cell;\"></div><div style=\"display: table-cell;\">data_source&nbsp;=&nbsp;ColumnDataSource(id='1025', ...),</div></div><div class=\"1031\" style=\"display: none;\"><div style=\"display: table-cell;\"></div><div style=\"display: table-cell;\">glyph&nbsp;=&nbsp;Circle(id='1027', ...),</div></div><div class=\"1031\" style=\"display: none;\"><div style=\"display: table-cell;\"></div><div style=\"display: table-cell;\">hover_glyph&nbsp;=&nbsp;None,</div></div><div class=\"1031\" style=\"display: none;\"><div style=\"display: table-cell;\"></div><div style=\"display: table-cell;\">js_event_callbacks&nbsp;=&nbsp;{},</div></div><div class=\"1031\" style=\"display: none;\"><div style=\"display: table-cell;\"></div><div style=\"display: table-cell;\">js_property_callbacks&nbsp;=&nbsp;{},</div></div><div class=\"1031\" style=\"display: none;\"><div style=\"display: table-cell;\"></div><div style=\"display: table-cell;\">level&nbsp;=&nbsp;'glyph',</div></div><div class=\"1031\" style=\"display: none;\"><div style=\"display: table-cell;\"></div><div style=\"display: table-cell;\">muted&nbsp;=&nbsp;False,</div></div><div class=\"1031\" style=\"display: none;\"><div style=\"display: table-cell;\"></div><div style=\"display: table-cell;\">muted_glyph&nbsp;=&nbsp;None,</div></div><div class=\"1031\" style=\"display: none;\"><div style=\"display: table-cell;\"></div><div style=\"display: table-cell;\">name&nbsp;=&nbsp;None,</div></div><div class=\"1031\" style=\"display: none;\"><div style=\"display: table-cell;\"></div><div style=\"display: table-cell;\">nonselection_glyph&nbsp;=&nbsp;Circle(id='1028', ...),</div></div><div class=\"1031\" style=\"display: none;\"><div style=\"display: table-cell;\"></div><div style=\"display: table-cell;\">selection_glyph&nbsp;=&nbsp;None,</div></div><div class=\"1031\" style=\"display: none;\"><div style=\"display: table-cell;\"></div><div style=\"display: table-cell;\">subscribed_events&nbsp;=&nbsp;[],</div></div><div class=\"1031\" style=\"display: none;\"><div style=\"display: table-cell;\"></div><div style=\"display: table-cell;\">tags&nbsp;=&nbsp;[],</div></div><div class=\"1031\" style=\"display: none;\"><div style=\"display: table-cell;\"></div><div style=\"display: table-cell;\">view&nbsp;=&nbsp;CDSView(id='1030', ...),</div></div><div class=\"1031\" style=\"display: none;\"><div style=\"display: table-cell;\"></div><div style=\"display: table-cell;\">visible&nbsp;=&nbsp;True,</div></div><div class=\"1031\" style=\"display: none;\"><div style=\"display: table-cell;\"></div><div style=\"display: table-cell;\">x_range_name&nbsp;=&nbsp;'default',</div></div><div class=\"1031\" style=\"display: none;\"><div style=\"display: table-cell;\"></div><div style=\"display: table-cell;\">y_range_name&nbsp;=&nbsp;'default')</div></div></div>\n<script>\n(function() {\n  var expanded = false;\n  var ellipsis = document.getElementById(\"1032\");\n  ellipsis.addEventListener(\"click\", function() {\n    var rows = document.getElementsByClassName(\"1031\");\n    for (var i = 0; i < rows.length; i++) {\n      var el = rows[i];\n      el.style.display = expanded ? \"none\" : \"table-row\";\n    }\n    ellipsis.innerHTML = expanded ? \"&hellip;)\" : \"&lsaquo;&lsaquo;&lsaquo;\";\n    expanded = !expanded;\n  });\n})();\n</script>\n"
     },
     "metadata": {},
     "output_type": "execute_result",
     "execution_count": 12
    }
   ],
   "source": [
    "from bokeh.plotting import figure,show\n",
    "from bokeh.models import HoverTool\n",
    "\n",
    "TOOLTIPS = HoverTool(tooltips=[\n",
    "    (\"index\", \"$index\"),\n",
    "    (\"(Wage,Value)\", \"(@Wage, @Value)\"),\n",
    "    (\"Name\", \"@Name\")]\n",
    "    )\n",
    "\n",
    "# open extern interactive plot\n",
    "# create a new plot with a title and axis labels\n",
    "p = figure(title=\"Soccer 2019\", x_axis_label='Wage', y_axis_label='Value', tools=[TOOLTIPS])\n",
    "p.circle('Wage', 'Value', size=10, source=df1)\n",
    "show(p)"
   ],
   "metadata": {
    "collapsed": false,
    "pycharm": {
     "name": "#%%\n",
     "is_executing": false
    }
   }
  },
  {
   "cell_type": "code",
   "execution_count": 13,
   "outputs": [],
   "source": [
    "# load iris dataset from sklearn\n",
    "from sklearn.datasets import load_iris\n",
    "iris = load_iris()"
   ],
   "metadata": {
    "collapsed": false,
    "pycharm": {
     "name": "#%%\n",
     "is_executing": false
    }
   }
  },
  {
   "cell_type": "code",
   "execution_count": 16,
   "outputs": [
    {
     "data": {
      "text/plain": "array([[5.1, 3.5, 1.4, 0.2],\n       [4.9, 3. , 1.4, 0.2],\n       [4.7, 3.2, 1.3, 0.2],\n       [4.6, 3.1, 1.5, 0.2],\n       [5. , 3.6, 1.4, 0.2],\n       [5.4, 3.9, 1.7, 0.4],\n       [4.6, 3.4, 1.4, 0.3],\n       [5. , 3.4, 1.5, 0.2],\n       [4.4, 2.9, 1.4, 0.2],\n       [4.9, 3.1, 1.5, 0.1],\n       [5.4, 3.7, 1.5, 0.2],\n       [4.8, 3.4, 1.6, 0.2],\n       [4.8, 3. , 1.4, 0.1],\n       [4.3, 3. , 1.1, 0.1],\n       [5.8, 4. , 1.2, 0.2],\n       [5.7, 4.4, 1.5, 0.4],\n       [5.4, 3.9, 1.3, 0.4],\n       [5.1, 3.5, 1.4, 0.3],\n       [5.7, 3.8, 1.7, 0.3],\n       [5.1, 3.8, 1.5, 0.3],\n       [5.4, 3.4, 1.7, 0.2],\n       [5.1, 3.7, 1.5, 0.4],\n       [4.6, 3.6, 1. , 0.2],\n       [5.1, 3.3, 1.7, 0.5],\n       [4.8, 3.4, 1.9, 0.2],\n       [5. , 3. , 1.6, 0.2],\n       [5. , 3.4, 1.6, 0.4],\n       [5.2, 3.5, 1.5, 0.2],\n       [5.2, 3.4, 1.4, 0.2],\n       [4.7, 3.2, 1.6, 0.2],\n       [4.8, 3.1, 1.6, 0.2],\n       [5.4, 3.4, 1.5, 0.4],\n       [5.2, 4.1, 1.5, 0.1],\n       [5.5, 4.2, 1.4, 0.2],\n       [4.9, 3.1, 1.5, 0.2],\n       [5. , 3.2, 1.2, 0.2],\n       [5.5, 3.5, 1.3, 0.2],\n       [4.9, 3.6, 1.4, 0.1],\n       [4.4, 3. , 1.3, 0.2],\n       [5.1, 3.4, 1.5, 0.2],\n       [5. , 3.5, 1.3, 0.3],\n       [4.5, 2.3, 1.3, 0.3],\n       [4.4, 3.2, 1.3, 0.2],\n       [5. , 3.5, 1.6, 0.6],\n       [5.1, 3.8, 1.9, 0.4],\n       [4.8, 3. , 1.4, 0.3],\n       [5.1, 3.8, 1.6, 0.2],\n       [4.6, 3.2, 1.4, 0.2],\n       [5.3, 3.7, 1.5, 0.2],\n       [5. , 3.3, 1.4, 0.2],\n       [7. , 3.2, 4.7, 1.4],\n       [6.4, 3.2, 4.5, 1.5],\n       [6.9, 3.1, 4.9, 1.5],\n       [5.5, 2.3, 4. , 1.3],\n       [6.5, 2.8, 4.6, 1.5],\n       [5.7, 2.8, 4.5, 1.3],\n       [6.3, 3.3, 4.7, 1.6],\n       [4.9, 2.4, 3.3, 1. ],\n       [6.6, 2.9, 4.6, 1.3],\n       [5.2, 2.7, 3.9, 1.4],\n       [5. , 2. , 3.5, 1. ],\n       [5.9, 3. , 4.2, 1.5],\n       [6. , 2.2, 4. , 1. ],\n       [6.1, 2.9, 4.7, 1.4],\n       [5.6, 2.9, 3.6, 1.3],\n       [6.7, 3.1, 4.4, 1.4],\n       [5.6, 3. , 4.5, 1.5],\n       [5.8, 2.7, 4.1, 1. ],\n       [6.2, 2.2, 4.5, 1.5],\n       [5.6, 2.5, 3.9, 1.1],\n       [5.9, 3.2, 4.8, 1.8],\n       [6.1, 2.8, 4. , 1.3],\n       [6.3, 2.5, 4.9, 1.5],\n       [6.1, 2.8, 4.7, 1.2],\n       [6.4, 2.9, 4.3, 1.3],\n       [6.6, 3. , 4.4, 1.4],\n       [6.8, 2.8, 4.8, 1.4],\n       [6.7, 3. , 5. , 1.7],\n       [6. , 2.9, 4.5, 1.5],\n       [5.7, 2.6, 3.5, 1. ],\n       [5.5, 2.4, 3.8, 1.1],\n       [5.5, 2.4, 3.7, 1. ],\n       [5.8, 2.7, 3.9, 1.2],\n       [6. , 2.7, 5.1, 1.6],\n       [5.4, 3. , 4.5, 1.5],\n       [6. , 3.4, 4.5, 1.6],\n       [6.7, 3.1, 4.7, 1.5],\n       [6.3, 2.3, 4.4, 1.3],\n       [5.6, 3. , 4.1, 1.3],\n       [5.5, 2.5, 4. , 1.3],\n       [5.5, 2.6, 4.4, 1.2],\n       [6.1, 3. , 4.6, 1.4],\n       [5.8, 2.6, 4. , 1.2],\n       [5. , 2.3, 3.3, 1. ],\n       [5.6, 2.7, 4.2, 1.3],\n       [5.7, 3. , 4.2, 1.2],\n       [5.7, 2.9, 4.2, 1.3],\n       [6.2, 2.9, 4.3, 1.3],\n       [5.1, 2.5, 3. , 1.1],\n       [5.7, 2.8, 4.1, 1.3],\n       [6.3, 3.3, 6. , 2.5],\n       [5.8, 2.7, 5.1, 1.9],\n       [7.1, 3. , 5.9, 2.1],\n       [6.3, 2.9, 5.6, 1.8],\n       [6.5, 3. , 5.8, 2.2],\n       [7.6, 3. , 6.6, 2.1],\n       [4.9, 2.5, 4.5, 1.7],\n       [7.3, 2.9, 6.3, 1.8],\n       [6.7, 2.5, 5.8, 1.8],\n       [7.2, 3.6, 6.1, 2.5],\n       [6.5, 3.2, 5.1, 2. ],\n       [6.4, 2.7, 5.3, 1.9],\n       [6.8, 3. , 5.5, 2.1],\n       [5.7, 2.5, 5. , 2. ],\n       [5.8, 2.8, 5.1, 2.4],\n       [6.4, 3.2, 5.3, 2.3],\n       [6.5, 3. , 5.5, 1.8],\n       [7.7, 3.8, 6.7, 2.2],\n       [7.7, 2.6, 6.9, 2.3],\n       [6. , 2.2, 5. , 1.5],\n       [6.9, 3.2, 5.7, 2.3],\n       [5.6, 2.8, 4.9, 2. ],\n       [7.7, 2.8, 6.7, 2. ],\n       [6.3, 2.7, 4.9, 1.8],\n       [6.7, 3.3, 5.7, 2.1],\n       [7.2, 3.2, 6. , 1.8],\n       [6.2, 2.8, 4.8, 1.8],\n       [6.1, 3. , 4.9, 1.8],\n       [6.4, 2.8, 5.6, 2.1],\n       [7.2, 3. , 5.8, 1.6],\n       [7.4, 2.8, 6.1, 1.9],\n       [7.9, 3.8, 6.4, 2. ],\n       [6.4, 2.8, 5.6, 2.2],\n       [6.3, 2.8, 5.1, 1.5],\n       [6.1, 2.6, 5.6, 1.4],\n       [7.7, 3. , 6.1, 2.3],\n       [6.3, 3.4, 5.6, 2.4],\n       [6.4, 3.1, 5.5, 1.8],\n       [6. , 3. , 4.8, 1.8],\n       [6.9, 3.1, 5.4, 2.1],\n       [6.7, 3.1, 5.6, 2.4],\n       [6.9, 3.1, 5.1, 2.3],\n       [5.8, 2.7, 5.1, 1.9],\n       [6.8, 3.2, 5.9, 2.3],\n       [6.7, 3.3, 5.7, 2.5],\n       [6.7, 3. , 5.2, 2.3],\n       [6.3, 2.5, 5. , 1.9],\n       [6.5, 3. , 5.2, 2. ],\n       [6.2, 3.4, 5.4, 2.3],\n       [5.9, 3. , 5.1, 1.8]])"
     },
     "metadata": {},
     "output_type": "execute_result",
     "execution_count": 16
    },
    {
     "data": {
      "text/plain": "['sepal length (cm)',\n 'sepal width (cm)',\n 'petal length (cm)',\n 'petal width (cm)']"
     },
     "metadata": {},
     "output_type": "execute_result",
     "execution_count": 16
    },
    {
     "data": {
      "text/plain": "array(['setosa', 'versicolor', 'virginica'], dtype='<U10')"
     },
     "metadata": {},
     "output_type": "execute_result",
     "execution_count": 16
    },
    {
     "data": {
      "text/plain": "numpy.ndarray"
     },
     "metadata": {},
     "output_type": "execute_result",
     "execution_count": 16
    }
   ],
   "source": [
    "# the data\n",
    "iris.data\n",
    "# store features\n",
    "X = iris.data\n",
    "# store outcomes\n",
    "y = iris.target\n",
    "# sore the names\n",
    "feature_names = iris.feature_names\n",
    "target_names = iris.target_names\n",
    "\n",
    "feature_names\n",
    "target_names\n",
    "\n",
    "# whats the type of the dataset\n",
    "type(X)"
   ],
   "metadata": {
    "collapsed": false,
    "pycharm": {
     "name": "#%%\n",
     "is_executing": false
    }
   }
  },
  {
   "cell_type": "code",
   "execution_count": 17,
   "outputs": [
    {
     "name": "stdout",
     "text": [
      "(90, 4)\n",
      "(60, 4)\n"
     ],
     "output_type": "stream"
    }
   ],
   "source": [
    "# split the set into training and test set\n",
    "from sklearn.model_selection import train_test_split\n",
    "X_train, X_test, y_train, y_test = train_test_split(X,y,test_size=0.4)\n",
    "print(X_train.shape)\n",
    "print(X_test.shape)\n",
    "\n"
   ],
   "metadata": {
    "collapsed": false,
    "pycharm": {
     "name": "#%%\n",
     "is_executing": false
    }
   }
  },
  {
   "cell_type": "code",
   "execution_count": 18,
   "outputs": [
    {
     "data": {
      "text/plain": "KNeighborsClassifier(algorithm='auto', leaf_size=30, metric='minkowski',\n                     metric_params=None, n_jobs=None, n_neighbors=3, p=2,\n                     weights='uniform')"
     },
     "metadata": {},
     "output_type": "execute_result",
     "execution_count": 18
    }
   ],
   "source": [
    "# train a model\n",
    "from sklearn.neighbors import KNeighborsClassifier\n",
    "# use the KNN with selecting the neighbours\n",
    "knn = KNeighborsClassifier(n_neighbors=3)\n",
    "# fit the model to the training model\n",
    "knn.fit(X_train,y_train)\n",
    "# test the model on the training test set\n",
    "y_pred = knn.predict(X_test)\n"
   ],
   "metadata": {
    "collapsed": false,
    "pycharm": {
     "name": "#%%\n",
     "is_executing": false
    }
   }
  },
  {
   "cell_type": "code",
   "execution_count": 19,
   "outputs": [
    {
     "name": "stdout",
     "text": [
      "0.9666666666666667\n"
     ],
     "output_type": "stream"
    }
   ],
   "source": [
    "# test the training set outcome\n",
    "from sklearn import metrics\n",
    "# print the accuracy\n",
    "print(metrics.accuracy_score(y_test,y_pred))\n",
    "\n"
   ],
   "metadata": {
    "collapsed": false,
    "pycharm": {
     "name": "#%%\n",
     "is_executing": false
    }
   }
  },
  {
   "cell_type": "code",
   "execution_count": 20,
   "outputs": [
    {
     "name": "stdout",
     "text": [
      "predictions:  [1 2]\n"
     ],
     "output_type": "stream"
    }
   ],
   "source": [
    "# create own data to apply the model on\n",
    "sample = [[3,4,5,2],[2,3,4,5]]\n",
    "predictions = knn.predict(sample)\n",
    "pred_species = [iris.target_names[p] for p in predictions]\n",
    "print(\"predictions: \", predictions)\n"
   ],
   "metadata": {
    "collapsed": false,
    "pycharm": {
     "name": "#%%\n",
     "is_executing": false
    }
   }
  },
  {
   "cell_type": "code",
   "execution_count": 22,
   "outputs": [],
   "source": [
    "from sklearn.externals import joblib\n",
    "# stores file in binary\n",
    "model = joblib.dump(knn,'mlbrain.joblib')\n"
   ],
   "metadata": {
    "collapsed": false,
    "pycharm": {
     "name": "#%%\n",
     "is_executing": false
    }
   }
  },
  {
   "cell_type": "code",
   "execution_count": 23,
   "outputs": [
    {
     "data": {
      "text/plain": "array([1, 1, 1, 2, 2, 1, 2, 0, 0, 2, 2, 2, 2, 1, 1, 2, 1, 1, 0, 0, 0, 2,\n       1, 1, 1, 0, 0, 0, 1, 2, 1, 2, 2, 2, 2, 0, 0, 1, 0, 1, 1, 2, 0, 2,\n       1, 0, 2, 0, 0, 0, 0, 2, 2, 0, 1, 1, 2, 0, 2, 1])"
     },
     "metadata": {},
     "output_type": "execute_result",
     "execution_count": 23
    }
   ],
   "source": [
    "# call the stored model from the same directory file\n",
    "model = joblib.load('mlbrain.joblib')\n",
    "model.predict(X_test)"
   ],
   "metadata": {
    "collapsed": false,
    "pycharm": {
     "name": "#%%\n",
     "is_executing": false
    }
   }
  }
 ],
 "metadata": {
  "kernelspec": {
   "display_name": "Python 3",
   "language": "python",
   "name": "python3"
  },
  "language_info": {
   "codemirror_mode": {
    "name": "ipython",
    "version": 2
   },
   "file_extension": ".py",
   "mimetype": "text/x-python",
   "name": "python",
   "nbconvert_exporter": "python",
   "pygments_lexer": "ipython2",
   "version": "2.7.6"
  },
  "pycharm": {
   "stem_cell": {
    "cell_type": "raw",
    "source": [],
    "metadata": {
     "collapsed": false
    }
   }
  }
 },
 "nbformat": 4,
 "nbformat_minor": 0
}