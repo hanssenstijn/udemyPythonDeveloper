{
 "cells": [
  {
   "cell_type": "code",
   "execution_count": 1,
   "metadata": {
    "collapsed": true,
    "pycharm": {
     "is_executing": false
    }
   },
   "outputs": [],
   "source": [
    "from IPython.core.interactiveshell import InteractiveShell\n",
    "InteractiveShell.ast_node_interactivity = \"all\"\n"
   ]
  },
  {
   "cell_type": "markdown",
   "source": [
    "Tried some of the exercises from this github repo:\n",
    "<br>\n",
    "https://github.com/darkprinx/100-plus-Python-programming-exercises-extended\n"
   ],
   "metadata": {
    "collapsed": false,
    "pycharm": {
     "name": "#%% md\n"
    }
   }
  },
  {
   "cell_type": "code",
   "execution_count": 5,
   "outputs": [
    {
     "data": {
      "text/plain": "False"
     },
     "metadata": {},
     "output_type": "execute_result",
     "execution_count": 5
    },
    {
     "name": "stdout",
     "text": [
      "2000,",
      "2001,",
      "2002,",
      "2003,",
      "2004,",
      "2005,",
      "2006,",
      "2007,",
      "2008,",
      "2009,\b\n"
     ],
     "output_type": "stream"
    },
    {
     "data": {
      "text/plain": "False"
     },
     "metadata": {},
     "output_type": "execute_result",
     "execution_count": 5
    },
    {
     "data": {
      "text/plain": "True"
     },
     "metadata": {},
     "output_type": "execute_result",
     "execution_count": 5
    },
    {
     "data": {
      "text/plain": "False"
     },
     "metadata": {},
     "output_type": "execute_result",
     "execution_count": 5
    },
    {
     "data": {
      "text/plain": "False"
     },
     "metadata": {},
     "output_type": "execute_result",
     "execution_count": 5
    },
    {
     "data": {
      "text/plain": "False"
     },
     "metadata": {},
     "output_type": "execute_result",
     "execution_count": 5
    },
    {
     "data": {
      "text/plain": "False"
     },
     "metadata": {},
     "output_type": "execute_result",
     "execution_count": 5
    },
    {
     "data": {
      "text/plain": "False"
     },
     "metadata": {},
     "output_type": "execute_result",
     "execution_count": 5
    },
    {
     "data": {
      "text/plain": "False"
     },
     "metadata": {},
     "output_type": "execute_result",
     "execution_count": 5
    },
    {
     "data": {
      "text/plain": "True"
     },
     "metadata": {},
     "output_type": "execute_result",
     "execution_count": 5
    }
   ],
   "source": [
    "# check if it can be divided by 7\n",
    "# but not divided by 5\n",
    "for i in range(2000,2010):\n",
    "    i % 7 == 0 and i % 5 !=0\n",
    "    print(i,end=',')\n",
    "print(\"\\b\")\n"
   ],
   "metadata": {
    "collapsed": false,
    "pycharm": {
     "name": "#%%\n",
     "is_executing": false
    }
   }
  },
  {
   "cell_type": "code",
   "execution_count": 6,
   "outputs": [
    {
     "name": "stdout",
     "text": [
      "40320\n"
     ],
     "output_type": "stream"
    }
   ],
   "source": [
    "# factorial function\n",
    "n = int(input())\n",
    "\n",
    "fact = 1\n",
    "for i in range(1,n+1):\n",
    "    fact = fact * i\n",
    "print(fact)\n"
   ],
   "metadata": {
    "collapsed": false,
    "pycharm": {
     "name": "#%%\n",
     "is_executing": false
    }
   }
  },
  {
   "cell_type": "code",
   "execution_count": 8,
   "outputs": [
    {
     "name": "stdout",
     "text": [
      "{1: 1, 2: 4}\n"
     ],
     "output_type": "stream"
    }
   ],
   "source": [
    "# create dictionary of numbers that are multiplied by itself\n",
    "n = int(input())\n",
    "# initialize the dict\n",
    "ans = {}\n",
    "for i in range(1,n+1):\n",
    "    # save on the ith place of the dict each input number\n",
    "    ans[i] = i * i\n",
    "print(ans)\n"
   ],
   "metadata": {
    "collapsed": false,
    "pycharm": {
     "name": "#%%\n",
     "is_executing": false
    }
   }
  },
  {
   "cell_type": "code",
   "execution_count": 9,
   "outputs": [
    {
     "name": "stdout",
     "text": [
      "['1', '2', '3']\n('1', '2', '3')\n"
     ],
     "output_type": "stream"
    }
   ],
   "source": [
    "# generate list and tuple from input sequence numbers\n",
    "lst = input().split(',')\n",
    "tpl = tuple(lst)\n",
    "print(lst)\n",
    "print(tpl)\n"
   ],
   "metadata": {
    "collapsed": false,
    "pycharm": {
     "name": "#%%\n",
     "is_executing": false
    }
   }
  },
  {
   "cell_type": "code",
   "execution_count": 10,
   "outputs": [
    {
     "name": "stdout",
     "text": [
      "D\n"
     ],
     "output_type": "stream"
    }
   ],
   "source": [
    "# define class which has two methods\n",
    "# define class with round brackets and colon\n",
    "class x():\n",
    "    # set the init function\n",
    "    def __init__(self):\n",
    "        pass\n",
    "    # get input for the string\n",
    "    def getString(self):\n",
    "        self.s = input()\n",
    "    # capatalize the string input\n",
    "    def printString(self):\n",
    "        print(self.s.upper())\n",
    "# store the function\n",
    "xx = x()\n",
    "# call the input function from the class\n",
    "xx.getString()\n",
    "# capatalize the input\n",
    "xx.printString()\n"
   ],
   "metadata": {
    "collapsed": false,
    "pycharm": {
     "name": "#%%\n",
     "is_executing": false
    }
   }
  },
  {
   "cell_type": "code",
   "execution_count": 16,
   "outputs": [
    {
     "data": {
      "text/plain": "121.71003793168966"
     },
     "metadata": {},
     "output_type": "execute_result",
     "execution_count": 16
    }
   ],
   "source": [
    "# calculate the square root\n",
    "# import all math functions\n",
    "from math import * \n",
    "# define two variables values\n",
    "C, H = 50, 30\n",
    "# define function that return the outcome of the formula\n",
    "def calc(D):\n",
    "    return sqrt((2*C*D)/H)\n",
    "\n",
    "D = int(input())\n",
    "calc(D)\n"
   ],
   "metadata": {
    "collapsed": false,
    "pycharm": {
     "name": "#%%\n",
     "is_executing": false
    }
   }
  },
  {
   "cell_type": "code",
   "execution_count": 5,
   "outputs": [
    {
     "data": {
      "text/plain": "['klaas', 'stijn']"
     },
     "metadata": {},
     "output_type": "execute_result",
     "execution_count": 5
    },
    {
     "name": "stdout",
     "text": [
      "stijn,klaas\n"
     ],
     "output_type": "stream"
    }
   ],
   "source": [
    "# sort names based on alphabet\n",
    "lst = input().split(',')\n",
    "# used sorted() function\n",
    "sorted(lst)\n",
    "print(\",\".join(lst))\n"
   ],
   "metadata": {
    "collapsed": false,
    "pycharm": {
     "name": "#%%\n",
     "is_executing": false
    }
   }
  },
  {
   "cell_type": "code",
   "execution_count": 6,
   "outputs": [
    {
     "name": "stdout",
     "text": [
      "3\n"
     ],
     "output_type": "stream"
    }
   ],
   "source": [
    "# lambda variables : function\n",
    "sum = lambda  n1,n2 : n1 + n2\n",
    "print(sum(1,2))\n",
    "\n"
   ],
   "metadata": {
    "collapsed": false,
    "pycharm": {
     "name": "#%%\n",
     "is_executing": false
    }
   }
  }
 ],
 "metadata": {
  "language_info": {
   "codemirror_mode": {
    "name": "ipython",
    "version": 2
   },
   "file_extension": ".py",
   "mimetype": "text/x-python",
   "name": "python",
   "nbconvert_exporter": "python",
   "pygments_lexer": "ipython2",
   "version": "2.7.6"
  },
  "kernelspec": {
   "name": "python3",
   "language": "python",
   "display_name": "Python 3"
  },
  "pycharm": {
   "stem_cell": {
    "cell_type": "raw",
    "source": [],
    "metadata": {
     "collapsed": false
    }
   }
  }
 },
 "nbformat": 4,
 "nbformat_minor": 0
}