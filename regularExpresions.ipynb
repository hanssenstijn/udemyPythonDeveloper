{
 "cells": [
  {
   "cell_type": "code",
   "execution_count": 1,
   "outputs": [],
   "source": [
    "from IPython.core.interactiveshell import InteractiveShell\n",
    "InteractiveShell.ast_node_interactivity = \"all\"\n"
   ],
   "metadata": {
    "collapsed": false,
    "pycharm": {
     "name": "#%%\n",
     "is_executing": false
    }
   }
  },
  {
   "cell_type": "code",
   "execution_count": 14,
   "metadata": {
    "collapsed": true,
    "pycharm": {
     "is_executing": false
    }
   },
   "outputs": [
    {
     "name": "stdout",
     "text": [
      "True\n(17, 21)\nNone\n"
     ],
     "output_type": "stream"
    }
   ],
   "source": [
    "# regular expressions\n",
    "import re\n",
    "\n",
    "# within compile you can type in the patterns for digits/words\n",
    "pattern = re.compile('this')\n",
    "\n",
    "string = 'search inside of this text'\n",
    "print('search' in string)\n",
    "\n",
    "a = re.search('this',string)\n",
    "# where start and ends\n",
    "print(a.span())\n",
    "# use patern\n",
    "a = pattern.search(string)\n",
    "# multiple usages\n",
    "b = pattern.fullmatch(string)\n"
   ]
  },
  {
   "cell_type": "markdown",
   "source": [
    "Regular expression the special sequences (digits/words ect) can be found her : https://www.w3schools.com/python/python_regex.asp\n",
    "<br>\n",
    "Websites where you can test the regular expression code and tells you what to use -->\n",
    "https://regex101.com/\n"
   ],
   "metadata": {
    "collapsed": false,
    "pycharm": {
     "name": "#%% md\n"
    }
   }
  },
  {
   "cell_type": "code",
   "execution_count": 16,
   "outputs": [
    {
     "name": "stdout",
     "text": [
      "<re.Match object; span=(0, 16), match='daskjfsafkjhas@1'>\n"
     ],
     "output_type": "stream"
    }
   ],
   "source": [
    "# password checker\n",
    "import re\n",
    "# requirements for the password:\n",
    "# Letters upcase and lowercase\n",
    "# digits\n",
    "# specific symbols\n",
    "# atleast 8 characteristics long\n",
    "# end on a digit\n",
    "pattern2 = re.compile(r\"[A-Za-z0-9$%#@]{8,}\\d\")\n",
    "password =\"daskjfsafkjhas@1\"\n",
    "check = pattern2.fullmatch(password)\n",
    "print(check)\n"
   ],
   "metadata": {
    "collapsed": false,
    "pycharm": {
     "name": "#%%\n",
     "is_executing": false
    }
   }
  }
 ],
 "metadata": {
  "language_info": {
   "codemirror_mode": {
    "name": "ipython",
    "version": 2
   },
   "file_extension": ".py",
   "mimetype": "text/x-python",
   "name": "python",
   "nbconvert_exporter": "python",
   "pygments_lexer": "ipython2",
   "version": "2.7.6"
  },
  "kernelspec": {
   "name": "python3",
   "language": "python",
   "display_name": "Python 3"
  },
  "pycharm": {
   "stem_cell": {
    "cell_type": "raw",
    "source": [],
    "metadata": {
     "collapsed": false
    }
   }
  }
 },
 "nbformat": 4,
 "nbformat_minor": 0
}