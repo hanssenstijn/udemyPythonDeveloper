{
 "cells": [
  {
   "cell_type": "code",
   "execution_count": 1,
   "outputs": [],
   "source": [
    "from IPython.core.interactiveshell import InteractiveShell\n",
    "InteractiveShell.ast_node_interactivity = \"all\"\n"
   ],
   "metadata": {
    "collapsed": false,
    "pycharm": {
     "name": "#%%\n",
     "is_executing": false
    }
   }
  },
  {
   "cell_type": "code",
   "execution_count": 9,
   "metadata": {
    "collapsed": true,
    "pycharm": {
     "is_executing": false
    }
   },
   "outputs": [
    {
     "name": "stdout",
     "text": [
      "<PIL.PngImagePlugin.PngImageFile image mode=RGBA size=475x475 at 0x1436D70>\n['_Image__transformer', '_PngImageFile__idat', '_PngImageFile__prepare_idat', '__array_interface__', '__class__', '__copy__', '__del__', '__delattr__', '__dict__', '__dir__', '__doc__', '__enter__', '__eq__', '__exit__', '__format__', '__ge__', '__getattribute__', '__getstate__', '__gt__', '__hash__', '__init__', '__init_subclass__', '__le__', '__lt__', '__module__', '__ne__', '__new__', '__reduce__', '__reduce_ex__', '__repr__', '__setattr__', '__setstate__', '__sizeof__', '__str__', '__subclasshook__', '__weakref__', '_close_exclusive_fp_after_loading', '_copy', '_crop', '_dump', '_ensure_mutable', '_exclusive_fp', '_exif', '_expand', '_getexif', '_min_frame', '_new', '_open', '_repr_png_', '_seek_check', '_size', '_text', 'alpha_composite', 'category', 'close', 'convert', 'copy', 'crop', 'custom_mimetype', 'decoderconfig', 'decodermaxblock', 'draft', 'effect_spread', 'entropy', 'filename', 'filter', 'format', 'format_description', 'fp', 'frombytes', 'fromstring', 'get_format_mimetype', 'getbands', 'getbbox', 'getchannel', 'getcolors', 'getdata', 'getexif', 'getextrema', 'getim', 'getpalette', 'getpixel', 'getprojection', 'height', 'histogram', 'im', 'info', 'load', 'load_end', 'load_prepare', 'load_read', 'map', 'mode', 'offset', 'palette', 'paste', 'png', 'point', 'putalpha', 'putdata', 'putpalette', 'putpixel', 'pyaccess', 'quantize', 'readonly', 'remap_palette', 'resize', 'rotate', 'save', 'seek', 'show', 'size', 'split', 'tell', 'text', 'thumbnail', 'tile', 'tobitmap', 'tobytes', 'toqimage', 'toqpixmap', 'tostring', 'transform', 'transpose', 'verify', 'width']\nPNG\n(475, 475)\nRGBA\n"
     ],
     "output_type": "stream"
    }
   ],
   "source": [
    "# image processing & filter\n",
    "from PIL import Image, ImageFilter\n",
    "\n",
    "img = Image.open('pika.png')\n",
    "# can overlay the image by ceretain aspects\n",
    "filtered_img = img.filter(ImageFilter.BLUR)\n",
    "# save under new name and als png (second argument)\n",
    "filtered_img.save(\"blur.png\",\"png\")\n",
    "# full object\n",
    "print(img)\n",
    "# get all the information\n",
    "print(dir(img))\n",
    "# formate file\n",
    "print(img.format)\n",
    "# pixels\n",
    "print(img.size)\n",
    "# wich colors\n",
    "print(img.mode)\n"
   ]
  },
  {
   "cell_type": "code",
   "execution_count": null,
   "outputs": [],
   "source": [
    "import sys\n",
    "import os\n",
    "from PIL import Image\n",
    "\n",
    "# grab first and second argument\n",
    "# the higher order folder\n",
    "image_folder = sys.argv[1]\n",
    "# one level deeper folder --> new folder where will store the png images\n",
    "output_folder = sys.argv[2]\n",
    "\n",
    "# check if folder exists if not create\n",
    "if not os.path.exists(output_folder):\n",
    "    os.makedirs(output_folder)\n",
    "\n",
    "print(image_folder, output_folder)\n",
    "\n",
    "# loop through the folder and convert images to png\n",
    "# save in the new folder\n",
    "for filename in os.listdir(image_folder):\n",
    "    img = Image.open(f'{image_folder}{filename}')\n",
    "    img.save(f'{output_folder}{filename}.png', 'png')\n",
    "    print('all done!')\n"
   ],
   "metadata": {
    "collapsed": false,
    "pycharm": {
     "name": "#%%\n"
    }
   }
  },
  {
   "cell_type": "markdown",
   "source": [
    "OpenCV --> opencv.org (for analyzing images)\n"
   ],
   "metadata": {
    "collapsed": false,
    "pycharm": {
     "name": "#%% md\n"
    }
   }
  },
  {
   "cell_type": "code",
   "execution_count": null,
   "outputs": [],
   "source": [
    "#PDF processing\n",
    "import PyPDF2\n",
    "\n",
    "# open the pdf file\n",
    "# mode is read binary (for the pdf purpose)\n",
    "with open('dummy.pdf','rb') as file:\n",
    "    print(file)\n",
    "    reader = PyPDF2.PdfFileReader(file)\n",
    "    print(reader)\n"
   ],
   "metadata": {
    "collapsed": false,
    "pycharm": {
     "name": "#%%\n"
    }
   }
  },
  {
   "cell_type": "markdown",
   "source": [
    "Can sent personalized  emails via mailchimp\n",
    "<br>\n",
    "SMTP --> Simple Mail Transfer Protocol"
   ],
   "metadata": {
    "collapsed": false,
    "pycharm": {
     "name": "#%% md\n"
    }
   }
  },
  {
   "cell_type": "code",
   "execution_count": null,
   "outputs": [],
   "source": [
    "# sent email\n",
    "import smtplib\n",
    "from email.message import EmailMessage\n",
    "\n",
    "email = EmailMessage()\n",
    "email['from'] = 'Stijn'\n",
    "email['to'] = 'hanssenstijn@gmail.com'\n",
    "email['subject'] = 'You won 1.000.000 dollars'\n",
    "\n",
    "email.set_content('I am a Python Master!')\n",
    "\n",
    "with smtplib.SMTP(host='smtp.gmail.com', port=587) as smtp:\n",
    "    smtp.ehlo()\n",
    "    # connect to server\n",
    "    smtp.starttls()\n",
    "    # log in with email and password\n",
    "    smtp.login('name@gmail.com', 'password')\n",
    "    # sent the email\n",
    "    smtp.send_message(email)\n",
    "    print('all good boss!')\n"
   ],
   "metadata": {
    "collapsed": false,
    "pycharm": {
     "name": "#%%\n"
    }
   }
  },
  {
   "cell_type": "markdown",
   "source": [
    "from string import Template\n",
    "from pathlib from Path\n",
    "\n",
    "HTML file is in this code block\n",
    "set as a template\n",
    "html = Template(index.html).read_text())\n",
    "set content mode to html\n",
    "email.set_content(html.subsitute({'name': 'TinTin'}), 'html')\n",
    "\n",
    "Basic HTML file to make a dynamic email with python\n",
    "<!DOCTYPE html>\n",
    "<html lang=\"en\">\n",
    "<head>\n",
    "    <meta charset=\"UTF-8\">\n",
    "    <title>Title</title>\n",
    "</head>\n",
    "<body>\n",
    "    you just won so much money $name\n",
    "</body>\n",
    "</html>\n"
   ],
   "metadata": {
    "collapsed": false,
    "pycharm": {
     "name": "#%% md\n"
    }
   }
  },
  {
   "cell_type": "code",
   "execution_count": 13,
   "outputs": [
    {
     "name": "stdout",
     "text": [
      "<Response [400]>\n"
     ],
     "output_type": "stream"
    }
   ],
   "source": [
    "# passwordchecker API\n",
    "import requests\n",
    "\n",
    "url = 'https://api.pwnedpasswords.com/range/' + 'password123'\n",
    "res = requests.get(url)\n",
    "# response 400 --> means not authorized\n",
    "print(res)\n",
    "\n",
    "# Hash generator --> dont store the password directly --> Hash it and get a string (can use multiple algortihms)\n"
   ],
   "metadata": {
    "collapsed": false,
    "pycharm": {
     "name": "#%%\n",
     "is_executing": false
    }
   }
  },
  {
   "cell_type": "code",
   "execution_count": null,
   "outputs": [],
   "source": [
    "# twitter api\n",
    "import tweepy\n",
    "import time\n",
    "\n",
    "# give it the Auth keys (verify acount by twitter)\n",
    "auth = tweepy.OAuthHandler(consumer_key, consumer_secret)\n",
    "# give it the tokens\n",
    "auth.set_access_token(access_token, access_token_secret)\n",
    "# connect to the api\n",
    "api = tweepy.API(auth)\n",
    "# twitter home timeline of specific account\n",
    "public_tweets = api.home_timeline()\n",
    "for tweet in public_tweets:\n",
    "    print(tweet.text)\n",
    "# ge the information about the person\n",
    "user = api.me()\n",
    "print(user.name)\n",
    "\n",
    "def limit_handle(cursor):\n",
    "    try:\n",
    "        while True:\n",
    "            yield cursor.next()\n",
    "    except tweepy.RateLimitError:\n",
    "        # in miliseconds\n",
    "        time.sleep(300)\n",
    "# Generous bot\n",
    "#  use the cursor to go to the followers (via API) and go over each itme\n",
    "for follower in tweepy.Cursor(api.followers).items()\n",
    "    # follow back a follower\n",
    "    if follower.name == 'XXXXX'\n",
    "        follower.follow()\n",
    "        break\n",
    "    print(follower.name)\n",
    "\n",
    "# search for keywords\n",
    "search_string = 'python'\n",
    "numberOfTweets = 2\n",
    "# give arguments to items to determine the number of tweets we want\n",
    "for tweet in tweepy.Cursor(api.search,search_string).items(numberOfTweets)\n",
    "    try:\n",
    "        # use american english\n",
    "        tweepy.favorite()\n",
    "        print('I like that tweet')\n",
    "    except tweepy.TweepError as e:\n",
    "        print(e.reason)\n",
    "    except StopIteration:\n",
    "        # break out of the loop when its finished\n",
    "        break\n",
    "        "
   ],
   "metadata": {
    "collapsed": false,
    "pycharm": {
     "name": "#%%\n"
    }
   }
  },
  {
   "cell_type": "markdown",
   "source": [
    "The yield statement suspends function’s execution and sends a value back to the caller, \n",
    "but retains enough state to enable function to resume where it is left off. \n",
    "When resumed, the function continues execution immediately after the last yield run. \n",
    "This allows its code to produce a series of values over time, rather than computing them at once and sending them back like a list.\n",
    "<br>\n",
    "We should use yield when we want to iterate over a sequence, \n",
    "but don’t want to store the entire sequence in memory.\n"
   ],
   "metadata": {
    "collapsed": false,
    "pycharm": {
     "name": "#%% md\n"
    }
   }
  },
  {
   "cell_type": "code",
   "execution_count": null,
   "outputs": [],
   "source": [
    "# text message on your phone --> twillio\n",
    "\n",
    "# Download the helper library from https://www.twilio.com/docs/python/install\n",
    "from twilio.rest import Client\n",
    "\n",
    "# Your Account Sid and Auth Token from twilio.com/console\n",
    "# DANGER! This is insecure. See http://twil.io/secure\n",
    "account_sid = 'ACXXXXXXXXXXXXXXXXXXXXXXXXXXXXXXXX'\n",
    "auth_token = 'your_auth_token'\n",
    "client = Client(account_sid, auth_token)\n",
    "\n",
    "# use the slash to continue using the code\n",
    "message = client.messages \\\n",
    "                .create(\n",
    "                     # text message\n",
    "                     body=\"Join Earth's mightiest heroes. Like Kevin Bacon.\",\n",
    "                     # Your number\n",
    "                     from_='+15017122661',\n",
    "                     # To which number\n",
    "                     to='+15558675310'\n",
    "                 )\n",
    "# print the message\n",
    "print(message.sid)\n",
    "\n"
   ],
   "metadata": {
    "collapsed": false,
    "pycharm": {
     "name": "#%%\n"
    }
   }
  }
 ],
 "metadata": {
  "language_info": {
   "codemirror_mode": {
    "name": "ipython",
    "version": 2
   },
   "file_extension": ".py",
   "mimetype": "text/x-python",
   "name": "python",
   "nbconvert_exporter": "python",
   "pygments_lexer": "ipython2",
   "version": "2.7.6"
  },
  "kernelspec": {
   "name": "python3",
   "language": "python",
   "display_name": "Python 3"
  },
  "pycharm": {
   "stem_cell": {
    "cell_type": "raw",
    "source": [],
    "metadata": {
     "collapsed": false
    }
   }
  }
 },
 "nbformat": 4,
 "nbformat_minor": 0
}