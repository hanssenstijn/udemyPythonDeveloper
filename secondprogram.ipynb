{
 "cells": [
  {
   "cell_type": "code",
   "execution_count": 1,
   "metadata": {
    "collapsed": true,
    "pycharm": {
     "is_executing": false
    }
   },
   "outputs": [],
   "source": [
    "from IPython.core.interactiveshell import InteractiveShell\n",
    "InteractiveShell.ast_node_interactivity = \"all\"\n"
   ]
  },
  {
   "cell_type": "code",
   "execution_count": 6,
   "outputs": [
    {
     "name": "stdout",
     "text": [
      "Oldie, Go Go\n"
     ],
     "output_type": "stream"
    }
   ],
   "source": [
    "# conditional logic\n",
    "is_old = True\n",
    "is_licended = True\n",
    "\n",
    "if is_old and is_licended:\n",
    "    print(\"Oldie, Go Go\")\n",
    "elif is_licended:\n",
    "    print(\"Go Go\")\n",
    "else:\n",
    "    print(\"Stop\")\n"
   ],
   "metadata": {
    "collapsed": false,
    "pycharm": {
     "name": "#%%\n",
     "is_executing": false
    }
   }
  },
  {
   "cell_type": "code",
   "execution_count": 8,
   "outputs": [
    {
     "name": "stdout",
     "text": [
      "Message allowed\n"
     ],
     "output_type": "stream"
    }
   ],
   "source": [
    "# Ternary operator\n",
    "# condition_if_true if condtion else condition else condition_if_else\n",
    "is_friend = True\n",
    "can_message = \"Message allowed\" if is_friend else \"not allowed\"\n",
    "print(can_message)\n"
   ],
   "metadata": {
    "collapsed": false,
    "pycharm": {
     "name": "#%%\n",
     "is_executing": false
    }
   }
  },
  {
   "cell_type": "code",
   "execution_count": 10,
   "outputs": [
    {
     "name": "stdout",
     "text": [
      "True\n"
     ],
     "output_type": "stream"
    }
   ],
   "source": [
    "# short circuiting\n",
    "is_friend = True\n",
    "is_user = True\n",
    "print(is_friend or is_user)\n"
   ],
   "metadata": {
    "collapsed": false,
    "pycharm": {
     "name": "#%%\n",
     "is_executing": false
    }
   }
  },
  {
   "cell_type": "code",
   "execution_count": 14,
   "outputs": [
    {
     "name": "stdout",
     "text": [
      "Magic power\n"
     ],
     "output_type": "stream"
    }
   ],
   "source": [
    "# exercise:\n",
    "is_magician = False\n",
    "is_expert = True\n",
    "if is_magician and is_expert:\n",
    "    print(\"Magician\")\n",
    "elif is_magician:\n",
    "    print(\"Practice\")\n",
    "else:\n",
    "    print(\"Magic power\")\n"
   ],
   "metadata": {
    "collapsed": false,
    "pycharm": {
     "name": "#%%\n",
     "is_executing": false
    }
   }
  },
  {
   "cell_type": "code",
   "execution_count": 18,
   "outputs": [
    {
     "name": "stdout",
     "text": [
      "1 a\n1 b\n2 a\n2 b\n"
     ],
     "output_type": "stream"
    }
   ],
   "source": [
    "# loops\n",
    "for item in [1,2]:\n",
    "    for x in ['a','b']:\n",
    "        print(item,x)\n"
   ],
   "metadata": {
    "collapsed": false,
    "pycharm": {
     "name": "#%%\n",
     "is_executing": false
    }
   }
  },
  {
   "cell_type": "code",
   "execution_count": 5,
   "outputs": [
    {
     "name": "stdout",
     "text": [
      "('name', 'Golem')\n('age', 5006)\n('can_swim', False)\nGolem\n5006\nFalse\nname\nage\ncan_swim\nname Golem\nage 5006\ncan_swim False\nname Golem\nage 5006\ncan_swim False\n"
     ],
     "output_type": "stream"
    }
   ],
   "source": [
    "# itteratble is the list,tulpe or string\n",
    "# iterate is the action\n",
    "user = {\n",
    "    'name': 'Golem',\n",
    "    'age': 5006,\n",
    "    'can_swim': False\n",
    "}\n",
    "\n",
    "# print whole dict\n",
    "for item in user.items():\n",
    "    print(item)\n",
    "\n",
    "# print only values\n",
    "for item in user.values():\n",
    "    print(item)\n",
    "\n",
    "# print keys    \n",
    "for item in user.keys():\n",
    "    print(item)\n",
    "\n",
    "# print both but seperate\n",
    "for item in user.items():\n",
    "    key, value = item\n",
    "    print(key,value)\n",
    "\n",
    "# print both easier\n",
    "for key, value in user.items():\n",
    "    print(key,value)\n"
   ],
   "metadata": {
    "collapsed": false,
    "pycharm": {
     "name": "#%%\n",
     "is_executing": false
    }
   }
  },
  {
   "cell_type": "code",
   "execution_count": 9,
   "outputs": [
    {
     "name": "stdout",
     "text": [
      "55\n"
     ],
     "output_type": "stream"
    }
   ],
   "source": [
    "my_list = [1,2,3,4,5,6,7,8,9,10]\n",
    "\n",
    "# initialize a variable\n",
    "counter = 0\n",
    "for item in my_list:\n",
    "    counter = counter + item\n",
    "# get the print outside\n",
    "print(counter)\n"
   ],
   "metadata": {
    "collapsed": false,
    "pycharm": {
     "name": "#%%\n",
     "is_executing": false
    }
   }
  },
  {
   "cell_type": "code",
   "execution_count": 13,
   "outputs": [
    {
     "name": "stdout",
     "text": [
      "0\n2\n4\n6\n8\n"
     ],
     "output_type": "stream"
    }
   ],
   "source": [
    "# range in steps of 2\n",
    "for number in range(0,10,2):\n",
    "    print(number)\n"
   ],
   "metadata": {
    "collapsed": false,
    "pycharm": {
     "name": "#%%\n",
     "is_executing": false
    }
   }
  },
  {
   "cell_type": "code",
   "execution_count": 16,
   "outputs": [
    {
     "name": "stdout",
     "text": [
      "0 H\n1 e\n2 l\n3 l\n4 o\n5 o\n6 o\nindex of 50 is: 50\n"
     ],
     "output_type": "stream"
    }
   ],
   "source": [
    "# enumerate to get the index number\n",
    "for i, char in enumerate('Hellooo'):\n",
    "    print(i,char)\n",
    "\n",
    "for i, char in enumerate(list(range(100))):\n",
    "    if char == 50:\n",
    "        print(f'index of 50 is: {i}')\n"
   ],
   "metadata": {
    "collapsed": false,
    "pycharm": {
     "name": "#%%\n",
     "is_executing": false
    }
   }
  },
  {
   "cell_type": "code",
   "execution_count": 2,
   "outputs": [
    {
     "name": "stdout",
     "text": [
      "1\n2\n3\n4\n5\n"
     ],
     "output_type": "stream"
    }
   ],
   "source": [
    "# while condtions: --> do something\n",
    "i = 0\n",
    "while i < 5:\n",
    "    i = i + 1 \n",
    "    print(i)\n",
    "    # break out of the while loop\n",
    "    # break\n"
   ],
   "metadata": {
    "collapsed": false,
    "pycharm": {
     "name": "#%%\n",
     "is_executing": false
    }
   }
  },
  {
   "cell_type": "code",
   "execution_count": 8,
   "outputs": [
    {
     "name": "stdout",
     "text": [
      "   *   \n  ***  \n ***** \n*******\n   *   \n   *   \n"
     ],
     "output_type": "stream"
    }
   ],
   "source": [
    "# create a christmas tree\n",
    "picture = [\n",
    "  [0,0,0,1,0,0,0],\n",
    "  [0,0,1,1,1,0,0],\n",
    "  [0,1,1,1,1,1,0],\n",
    "  [1,1,1,1,1,1,1],\n",
    "  [0,0,0,1,0,0,0],\n",
    "  [0,0,0,1,0,0,0]\n",
    "]\n",
    "\n",
    "for row in picture:\n",
    "    for pixel in row:\n",
    "        if pixel == 1:\n",
    "            print('*',end='')\n",
    "        else:\n",
    "            print(' ',end='')\n",
    "    # print so it will be printed on each line\n",
    "    print('')   \n"
   ],
   "metadata": {
    "collapsed": false,
    "pycharm": {
     "name": "#%%\n",
     "is_executing": false
    }
   }
  },
  {
   "cell_type": "code",
   "execution_count": 20,
   "outputs": [
    {
     "name": "stdout",
     "text": [
      "['b']\n"
     ],
     "output_type": "stream"
    }
   ],
   "source": [
    "# check for duplicates in a list\n",
    "some_list =['a','b','c','b','d']\n",
    "duplicates = []\n",
    "for value in some_list:\n",
    "    # count how often it comes\n",
    "    if some_list.count(value) > 1:\n",
    "        if value not in duplicates:\n",
    "            duplicates.append(value)\n",
    "print(duplicates)\n"
   ],
   "metadata": {
    "collapsed": false,
    "pycharm": {
     "name": "#%%\n",
     "is_executing": false
    }
   }
  },
  {
   "cell_type": "code",
   "execution_count": 2,
   "outputs": [
    {
     "name": "stdout",
     "text": [
      "hello Stijn :)\nhello Stijn :)\n"
     ],
     "output_type": "stream"
    }
   ],
   "source": [
    "# create function with parameters\n",
    "# positional arguments\n",
    "def say_hello(name,emoij):\n",
    "    print(f'hello {name} {emoij}')\n",
    "\n",
    "# Use previous function Arguments\n",
    "say_hello(\"Stijn\",\":)\")\n",
    "\n",
    "# keyword arguments\n",
    "say_hello(emoij=':)',name='Stijn')\n"
   ],
   "metadata": {
    "collapsed": false,
    "pycharm": {
     "name": "#%%\n",
     "is_executing": false
    }
   }
  },
  {
   "cell_type": "code",
   "execution_count": 4,
   "outputs": [
    {
     "data": {
      "text/plain": "9"
     },
     "metadata": {},
     "output_type": "execute_result",
     "execution_count": 4
    }
   ],
   "source": [
    "def sum(num1, num2):\n",
    "    # need return to give output, else it will always be None\n",
    "    return num1 + num2     \n",
    "    # return immediately excits the function\n",
    "sum(4,5)\n"
   ],
   "metadata": {
    "collapsed": false,
    "pycharm": {
     "name": "#%%\n",
     "is_executing": false
    }
   }
  },
  {
   "cell_type": "code",
   "execution_count": null,
   "outputs": [],
   "source": [
    "# methods --> build in objects. asign by dot .\n",
    "# 'hello'.count()\n"
   ],
   "metadata": {
    "collapsed": false,
    "pycharm": {
     "name": "#%%\n"
    }
   }
  },
  {
   "cell_type": "code",
   "execution_count": 9,
   "outputs": [
    {
     "name": "stdout",
     "text": [
      "!!!!\nHelp on function test in module __main__:\n\ntest(a)\n    Info: this functio ntest and prints param a\n\n\n    Info: this functio ntest and prints param a\n    \n"
     ],
     "output_type": "stream"
    }
   ],
   "source": [
    "# describe what a functions --> ''' '''\n",
    "def test(a):\n",
    "    '''\n",
    "    Info: this functio ntest and prints param a\n",
    "    '''\n",
    "    print(a)\n",
    "test('!!!!')\n",
    "\n",
    "# help() --> to get the info about a method\n",
    "help(test)\n",
    "# same with --> .__doc__\n",
    "print(test.__doc__)\n"
   ],
   "metadata": {
    "collapsed": false,
    "pycharm": {
     "name": "#%%\n",
     "is_executing": false
    }
   }
  },
  {
   "cell_type": "code",
   "execution_count": 10,
   "outputs": [
    {
     "name": "stdout",
     "text": [
      "20\n"
     ],
     "output_type": "stream"
    }
   ],
   "source": [
    "# Rule: params, *args, default paramters, **kwargs\n",
    "# *args --> extend number of arguments\n",
    "# **kwargs --> extend key word argumends\n",
    "def super_func(*args, **kwargs):\n",
    "    total = 0\n",
    "    for i in kwargs.values():\n",
    "        total += i\n",
    "    return sum(args) + total\n",
    "print(super_func(1,2,3,4,num1=5,num2=5))\n"
   ],
   "metadata": {
    "collapsed": false,
    "pycharm": {
     "name": "#%%\n",
     "is_executing": false
    }
   }
  },
  {
   "cell_type": "code",
   "execution_count": 3,
   "outputs": [
    {
     "name": "stdout",
     "text": [
      "10\n"
     ],
     "output_type": "stream"
    }
   ],
   "source": [
    "# return highest number\n",
    "def highest_even(li):\n",
    "    even = []\n",
    "    for item in li:\n",
    "        if item % 2 == 0:\n",
    "            even.append(item)\n",
    "    return max(even)\n",
    "\n",
    "print(highest_even([10,2,3,4,8,11]))\n"
   ],
   "metadata": {
    "collapsed": false,
    "pycharm": {
     "name": "#%%\n",
     "is_executing": false
    }
   }
  },
  {
   "cell_type": "code",
   "execution_count": 8,
   "outputs": [
    {
     "name": "stdout",
     "text": [
      "1\n"
     ],
     "output_type": "stream"
    }
   ],
   "source": [
    "# Scope what variables do i have access to\n",
    "\n",
    "# 1 start with local variable\n",
    "# 2 Parent local\n",
    "# 3 Global --> see example\n",
    "# 4 build in python functions\n",
    "\n",
    "total = 0\n",
    "\n",
    "def count():\n",
    "    global total\n",
    "    total += 1\n",
    "    return total\n",
    "\n",
    "print(count())\n"
   ],
   "metadata": {
    "collapsed": false,
    "pycharm": {
     "name": "#%%\n",
     "is_executing": false
    }
   }
  },
  {
   "cell_type": "code",
   "execution_count": 11,
   "outputs": [
    {
     "name": "stdout",
     "text": [
      "['apple', 'lemmon', 'banana', 'cherry']\n"
     ],
     "output_type": "stream"
    }
   ],
   "source": [
    "# insert at a specific place\n",
    "fruits = [\"apple\", \"banana\", \"cherry\"]\n",
    "fruits.insert(1,\"lemmon\")\n",
    "print(fruits)\n"
   ],
   "metadata": {
    "collapsed": false,
    "pycharm": {
     "name": "#%%\n",
     "is_executing": false
    }
   }
  },
  {
   "cell_type": "code",
   "execution_count": 16,
   "outputs": [
    {
     "name": "stdout",
     "text": [
      "apple\ncherry\ncherry\n"
     ],
     "output_type": "stream"
    }
   ],
   "source": [
    "# In the loop, when the item value is \"banana\", jump directly to the next item.\n",
    "fruits = [\"apple\", \"banana\",\"cherry\"]\n",
    "for x in fruits:\n",
    "    if x == \"banana\":\n",
    "        continue\n",
    "    print(x)\n",
    "print(x)\n"
   ],
   "metadata": {
    "collapsed": false,
    "pycharm": {
     "name": "#%%\n",
     "is_executing": false
    }
   }
  },
  {
   "cell_type": "markdown",
   "source": [
    "command prompt commands\n",
    "<br>\n",
    "ls -- cd -- cd.. (one level up) -- cd / (begin terminal)\n",
    "<br>\n",
    "cd ~ (user directory) -- start . (opens folder)\n",
    "<br>\n",
    "mkdir x (create folder) -- echo > index.html (create file)\n",
    "<br>\n",
    "start index.html (opens file) -- rename index.html about.html (change name)\n",
    "<br>\n",
    "del about.html (remove file) -- deltree x (delete foldername)\n",
    "<br>\n",
    "\n",
    "\n",
    "\n",
    "\n"
   ],
   "metadata": {
    "collapsed": false,
    "pycharm": {
     "name": "#%% md\n"
    }
   }
  }
 ],
 "metadata": {
  "language_info": {
   "codemirror_mode": {
    "name": "ipython",
    "version": 2
   },
   "file_extension": ".py",
   "mimetype": "text/x-python",
   "name": "python",
   "nbconvert_exporter": "python",
   "pygments_lexer": "ipython2",
   "version": "2.7.6"
  },
  "kernelspec": {
   "name": "pycharm-b76bd84a",
   "language": "python",
   "display_name": "PyCharm (CompletePythonDeveloperUdemy)"
  },
  "pycharm": {
   "stem_cell": {
    "cell_type": "raw",
    "source": [],
    "metadata": {
     "collapsed": false
    }
   }
  }
 },
 "nbformat": 4,
 "nbformat_minor": 0
}