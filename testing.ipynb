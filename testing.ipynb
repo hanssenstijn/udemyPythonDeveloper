{
 "cells": [
  {
   "cell_type": "code",
   "execution_count": 1,
   "outputs": [],
   "source": [
    "from IPython.core.interactiveshell import InteractiveShell\n",
    "InteractiveShell.ast_node_interactivity = \"all\"\n"
   ],
   "metadata": {
    "collapsed": false,
    "pycharm": {
     "name": "#%%\n",
     "is_executing": false
    }
   }
  },
  {
   "cell_type": "code",
   "execution_count": null,
   "metadata": {
    "collapsed": true
   },
   "outputs": [],
   "source": [
    "# create test.py file in order to test the main file\n",
    "import unittest\n",
    "# import the main.py (were the actual code is) file\n",
    "import main \n",
    "\n",
    "class TestMain(unittest.TestCase):\n",
    "    def test_do_stuff(self):\n",
    "        test_parm = 10\n",
    "        # run the main.py file\n",
    "        return = main.do_stuff(test_parm)\n",
    "        # check if the output give the right result\n",
    "        self.asserEqual(result, 15)\n",
    "\n",
    "# run the test and check if it works\n",
    "unittest.main()"
   ]
  },
  {
   "cell_type": "code",
   "execution_count": null,
   "outputs": [],
   "source": [
    "# the function which should have been in the main.py file\n",
    "def do_stuff(num):\n",
    "    try:\n",
    "        return int(num + 5)\n",
    "    except ValueError as err:\n",
    "        return err\n"
   ],
   "metadata": {
    "collapsed": false,
    "pycharm": {
     "name": "#%%\n"
    }
   }
  },
  {
   "cell_type": "code",
   "execution_count": null,
   "outputs": [],
   "source": [
    "\n"
   ],
   "metadata": {
    "collapsed": false,
    "pycharm": {
     "name": "#%%\n"
    }
   }
  }
 ],
 "metadata": {
  "language_info": {
   "codemirror_mode": {
    "name": "ipython",
    "version": 2
   },
   "file_extension": ".py",
   "mimetype": "text/x-python",
   "name": "python",
   "nbconvert_exporter": "python",
   "pygments_lexer": "ipython2",
   "version": "2.7.6"
  },
  "kernelspec": {
   "name": "python3",
   "language": "python",
   "display_name": "Python 3"
  },
  "pycharm": {
   "stem_cell": {
    "cell_type": "raw",
    "source": [],
    "metadata": {
     "collapsed": false
    }
   }
  }
 },
 "nbformat": 4,
 "nbformat_minor": 0
}