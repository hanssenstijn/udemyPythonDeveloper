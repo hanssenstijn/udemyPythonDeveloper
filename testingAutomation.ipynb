{
 "cells": [
  {
   "cell_type": "code",
   "execution_count": 1,
   "metadata": {
    "collapsed": true,
    "pycharm": {
     "is_executing": false
    }
   },
   "outputs": [],
   "source": [
    "from IPython.core.interactiveshell import InteractiveShell\n",
    "InteractiveShell.ast_node_interactivity = \"all\""
   ]
  },
  {
   "cell_type": "code",
   "execution_count": 2,
   "outputs": [
    {
     "name": "stdout",
     "text": [
      "C:\\Users\\stijn\\Desktop\\PycharmProjects\\CompletePythonDeveloperUdemy\n"
     ],
     "output_type": "stream"
    }
   ],
   "source": [
    "import os\n",
    "cwd = os.getcwd()\n",
    "print(cwd)"
   ],
   "metadata": {
    "collapsed": false,
    "pycharm": {
     "name": "#%%\n",
     "is_executing": false
    }
   }
  },
  {
   "cell_type": "code",
   "execution_count": 3,
   "outputs": [
    {
     "name": "stdout",
     "text": [
      "Show Message\n"
     ],
     "output_type": "stream"
    }
   ],
   "source": [
    "# cheat sheet selenium --> http://allselenium.info/python-selenium-commands-cheat-sheet-frequently-used/\n",
    "from selenium import webdriver\n",
    "# choose chrome as the webdriver\n",
    "chrome_browser = webdriver.Chrome('./chromedriver')\n",
    "\n",
    "# https://www.seleniumeasy.com/test/basic-first-form-demo.html\n",
    "# practice for selenium\n",
    "# full window when it opens\n",
    "chrome_browser.maximize_window()\n",
    "# get the url\n",
    "chrome_browser.get('https://www.seleniumeasy.com/test/basic-first-form-demo.html')\n",
    "# test with assert if something works \n",
    "assert 'Selenium Easy Demo' in chrome_browser.title\n",
    "# go for the element button\n",
    "show_message_button = chrome_browser.find_element_by_class_name('btn-default')\n",
    "print(show_message_button.get_attribute('innerHTML'))\n",
    "\n",
    "# check if show message is on the page (page source is the html)\n",
    "assert 'Show Message' in chrome_browser.page_source\n",
    "\n",
    "user_message = chrome_browser.find_element_by_id('user-message')\n",
    "# make sure that here is no text inserted\n",
    "user_message.clear()\n",
    "# send this text in the box\n",
    "user_message.send_keys('I am COOL')\n",
    "\n",
    "# now click on the button\n",
    "show_message_button.click()\n",
    "output_message = chrome_browser.find_element_by_id('display')\n",
    "\n",
    "assert 'I am COOL' in output_message.text\n",
    "\n",
    "# close browser after usage (use twice to make sure that it closes\n",
    "chrome_browser.close()"
   ],
   "metadata": {
    "collapsed": false,
    "pycharm": {
     "name": "#%%\n",
     "is_executing": false
    }
   }
  }
 ],
 "metadata": {
  "kernelspec": {
   "display_name": "Python 3",
   "language": "python",
   "name": "python3"
  },
  "language_info": {
   "codemirror_mode": {
    "name": "ipython",
    "version": 2
   },
   "file_extension": ".py",
   "mimetype": "text/x-python",
   "name": "python",
   "nbconvert_exporter": "python",
   "pygments_lexer": "ipython2",
   "version": "2.7.6"
  },
  "pycharm": {
   "stem_cell": {
    "cell_type": "raw",
    "source": [],
    "metadata": {
     "collapsed": false
    }
   }
  }
 },
 "nbformat": 4,
 "nbformat_minor": 0
}