{
 "cells": [
  {
   "cell_type": "code",
   "execution_count": 1,
   "metadata": {
    "collapsed": true,
    "pycharm": {
     "is_executing": false
    }
   },
   "outputs": [],
   "source": [
    "from IPython.core.interactiveshell import InteractiveShell\n",
    "InteractiveShell.ast_node_interactivity = \"all\"\n"
   ]
  },
  {
   "cell_type": "code",
   "execution_count": null,
   "outputs": [],
   "source": [
    "# downloading data from the website\n",
    "# browser --> like chrome\n",
    "# some computer stores the data in JS/HTML/CSS\n",
    "\n",
    "# want to figure out what you can scrape from the page, add after url --> /robots.txt\n"
   ],
   "metadata": {
    "collapsed": false,
    "pycharm": {
     "name": "#%%\n"
    }
   }
  },
  {
   "cell_type": "code",
   "execution_count": 13,
   "outputs": [
    {
     "name": "stdout",
     "text": [
      "<Response [200]>\n[<div class=\"votearrow\" title=\"upvote\"></div>, <div class=\"votearrow\" title=\"upvote\"></div>, <div class=\"votearrow\" title=\"upvote\"></div>, <div class=\"votearrow\" title=\"upvote\"></div>, <div class=\"votearrow\" title=\"upvote\"></div>, <div class=\"votearrow\" title=\"upvote\"></div>, <div class=\"votearrow\" title=\"upvote\"></div>, <div class=\"votearrow\" title=\"upvote\"></div>, <div class=\"votearrow\" title=\"upvote\"></div>, <div class=\"votearrow\" title=\"upvote\"></div>, <div class=\"votearrow\" title=\"upvote\"></div>, <div class=\"votearrow\" title=\"upvote\"></div>, <div class=\"votearrow\" title=\"upvote\"></div>, <div class=\"votearrow\" title=\"upvote\"></div>, <div class=\"votearrow\" title=\"upvote\"></div>, <div class=\"votearrow\" title=\"upvote\"></div>, <div class=\"votearrow\" title=\"upvote\"></div>, <div class=\"votearrow\" title=\"upvote\"></div>, <div class=\"votearrow\" title=\"upvote\"></div>, <div class=\"votearrow\" title=\"upvote\"></div>, <div class=\"votearrow\" title=\"upvote\"></div>, <div class=\"votearrow\" title=\"upvote\"></div>, <div class=\"votearrow\" title=\"upvote\"></div>, <div class=\"votearrow\" title=\"upvote\"></div>, <div class=\"votearrow\" title=\"upvote\"></div>, <div class=\"votearrow\" title=\"upvote\"></div>, <div class=\"votearrow\" title=\"upvote\"></div>, <div class=\"votearrow\" title=\"upvote\"></div>, <div class=\"votearrow\" title=\"upvote\"></div>, <div class=\"votearrow\" title=\"upvote\"></div>]\n<span class=\"score\" id=\"score_21859581\">103 points</span>\nscore_21859581\n[{'link': 'https://github.com/dosyago/22120',\n  'points': 325,\n  'title': 'Show HN: Local Node.js app to save everything you browse and serve '\n           'it offline'},\n {'link': 'item?id=21858226',\n  'points': 243,\n  'title': 'Show HN: Angeldust – a fast and efficient video game'},\n {'link': 'https://www.reuters.com/article/us-booking-hldg-eu/booking-com-agrees-to-change-way-it-presents-travel-offers-eu-idUSKBN1YO18C',\n  'points': 168,\n  'title': 'Booking.com agrees to EU demands to change travel offers'},\n {'link': 'item?id=21858866',\n  'points': 148,\n  'title': 'Ask HN: Best Talks of 2019?'},\n {'link': 'http://paulgraham.com/fp.html',\n  'points': 136,\n  'title': 'Fashionable Problems'},\n {'link': 'http://www.cypherspace.org/adam/hacks/lotus-nsa-key.html',\n  'points': 103,\n  'title': \"NSA's Backdoor Key from Lotus Notes (2002)\"}]\n"
     ],
     "output_type": "stream"
    }
   ],
   "source": [
    "import requests\n",
    "# BeautifulSoup has to be assessed from the folder\n",
    "from bs4 import BeautifulSoup\n",
    "import pprint\n",
    "\n",
    "res = requests.get('https://news.ycombinator.com/news')\n",
    "# reposne 200 --> everything is okey\n",
    "print(res)\n",
    "# shows the complete text\n",
    "# print(res.text)\n",
    "# can parse it (modified)\n",
    "soup = BeautifulSoup(res.text,'html.parser')\n",
    "# get text fully in html\n",
    "print(soup.find_all('div'))\n",
    "# select specific class (use the dot ; ' . ')\n",
    "links = soup.select('.storylink')\n",
    "# select the votes\n",
    "votes = soup.select('.score')\n",
    "print(votes[0])\n",
    "print(votes[0].get('id'))\n",
    "\n",
    "# sort based on the votes.\n",
    "# In a descending order\n",
    "def sort_stories_by_votes(hnlist):\n",
    "    return sorted(hnlist, key= lambda k:k['points'],reverse=True)\n",
    "\n",
    "def create_custom_hn(links, votes):\n",
    "    # create a placeholder\n",
    "    hn = []\n",
    "    # go over the links variable\n",
    "    for idx, item in enumerate(links):\n",
    "        # store the tiltle of each link\n",
    "        title = links[idx].getText()\n",
    "        # store also the link of the title --> use .get()\n",
    "        href = links[idx].get('href', None) \n",
    "        # points\n",
    "        points = int(votes[idx].getText().replace(' points', ''))\n",
    "        # select only articels that have more than 99 points\n",
    "        if points > 99:\n",
    "        # store as dictionary with title first and then the link\n",
    "            hn.append({'title': title, 'link': href,'points': points})\n",
    "    return sort_stories_by_votes(hn)\n",
    "# pprint results in a nicer printing\n",
    "pprint.pprint(create_custom_hn(links,votes))\n"
   ],
   "metadata": {
    "collapsed": false,
    "pycharm": {
     "name": "#%%\n",
     "is_executing": false
    }
   }
  },
  {
   "cell_type": "markdown",
   "source": [
    "Enumerate() method adds a counter to an iterable and returns it in a form of enumerate object. \n",
    "This enumerate object can then be used directly in for loops or be converted into a list of tuples using list() method.\n"
   ],
   "metadata": {
    "collapsed": false,
    "pycharm": {
     "name": "#%% md\n"
    }
   }
  },
  {
   "cell_type": "code",
   "execution_count": null,
   "outputs": [],
   "source": [
    "\n"
   ],
   "metadata": {
    "collapsed": false,
    "pycharm": {
     "name": "#%%\n"
    }
   }
  }
 ],
 "metadata": {
  "language_info": {
   "codemirror_mode": {
    "name": "ipython",
    "version": 2
   },
   "file_extension": ".py",
   "mimetype": "text/x-python",
   "name": "python",
   "nbconvert_exporter": "python",
   "pygments_lexer": "ipython2",
   "version": "2.7.6"
  },
  "kernelspec": {
   "name": "python3",
   "language": "python",
   "display_name": "Python 3"
  },
  "pycharm": {
   "stem_cell": {
    "cell_type": "raw",
    "source": [],
    "metadata": {
     "collapsed": false
    }
   }
  }
 },
 "nbformat": 4,
 "nbformat_minor": 0
}